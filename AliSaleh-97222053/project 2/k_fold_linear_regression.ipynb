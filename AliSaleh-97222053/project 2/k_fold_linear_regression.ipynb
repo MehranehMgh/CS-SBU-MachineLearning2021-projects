{
  "nbformat": 4,
  "nbformat_minor": 0,
  "metadata": {
    "colab": {
      "name": "k-fold linear regression.ipynb",
      "provenance": [],
      "collapsed_sections": []
    },
    "kernelspec": {
      "name": "python3",
      "display_name": "Python 3"
    },
    "language_info": {
      "name": "python"
    },
    "accelerator": "GPU"
  },
  "cells": [
    {
      "cell_type": "code",
      "metadata": {
        "colab": {
          "base_uri": "https://localhost:8080/"
        },
        "id": "b7EXJ0bcgISr",
        "outputId": "426af3f5-84ec-4b65-c9eb-06b1533c6fdd"
      },
      "source": [
        "from google.colab import drive\n",
        "drive.mount('/content/drive')"
      ],
      "execution_count": 1,
      "outputs": [
        {
          "output_type": "stream",
          "text": [
            "Mounted at /content/drive\n"
          ],
          "name": "stdout"
        }
      ]
    },
    {
      "cell_type": "code",
      "metadata": {
        "id": "IxS7ZDZziLzF"
      },
      "source": [
        "import pandas as pd\n",
        "import numpy as np"
      ],
      "execution_count": 2,
      "outputs": []
    },
    {
      "cell_type": "code",
      "metadata": {
        "id": "214YExt6iPft"
      },
      "source": [
        "dataset = pd.read_csv('/content/drive/MyDrive/germany rental offer/clean_data.csv')\n",
        "dataset = dataset.drop(['Unnamed: 0'], axis=1)\n"
      ],
      "execution_count": 3,
      "outputs": []
    },
    {
      "cell_type": "markdown",
      "metadata": {
        "id": "-e22ehLHHLVL"
      },
      "source": [
        "# Linear Regression"
      ]
    },
    {
      "cell_type": "code",
      "metadata": {
        "id": "y7EQcdz0jqET"
      },
      "source": [
        "from sklearn.metrics import mean_squared_error\n",
        "\n",
        "class LinearRegression:\n",
        "\n",
        "  def __init__(self, learning_rate=0.1, epochs=100, accuracy_rate=0.1):\n",
        "    self.learning_rate = learning_rate\n",
        "    self.epochs = epochs\n",
        "    self.accuracy_rate = accuracy_rate\n",
        "    self.history = {'loss': [], 'accuracy': []}\n",
        "\n",
        "  def gradient(self, X, y):\n",
        "    return 2/X.shape[0] * np.dot(X.T, (np.dot(X, self.weights) - y))\n",
        "\n",
        "  def fit(self, X, y, Xval, yval):\n",
        "    train = []\n",
        "    for i in range(len(X)):\n",
        "      x = list(X[i])\n",
        "      x.insert(0, 1)\n",
        "      train.append(np.array(x))\n",
        "    train = np.array(train)\n",
        "    self.weights = np.random.rand((train.shape[1]))\n",
        "    for i in range(self.epochs + 1):\n",
        "      pred = self.predict(Xval)\n",
        "      err = mean_squared_error(yval, pred)\n",
        "      acc = self.calculate_accuracy(pred, yval)\n",
        "      self.history['loss'].append(err)\n",
        "      self.history['accuracy'].append(acc)\n",
        "      self.weights = self.weights - self.learning_rate * self.gradient(train, y)\n",
        "\n",
        "  def predict(self, X):\n",
        "    pred = []\n",
        "    for i in range(len(X)):\n",
        "      x = list(X[i])\n",
        "      x.insert(0, 1)\n",
        "      pred.append(np.array(x))\n",
        "    return np.dot(pred, self.weights)\n",
        "\n",
        "  def calculate_accuracy(self, pred, val):\n",
        "    right = 0\n",
        "    for i in range(len(pred)):\n",
        "      if abs(pred[i] - val[i]) <= val[i] * self.accuracy_rate:\n",
        "        right += 1\n",
        "    return right / len(pred)\n"
      ],
      "execution_count": 4,
      "outputs": []
    },
    {
      "cell_type": "markdown",
      "metadata": {
        "id": "A9moN6WLJ8pD"
      },
      "source": [
        "#K-Fold\n",
        "can work with my linear regression"
      ]
    },
    {
      "cell_type": "code",
      "metadata": {
        "id": "bo0cq3OrJ-7j"
      },
      "source": [
        "from sklearn.utils import shuffle\n",
        "\n",
        "\n",
        "def k_fold(Model, X, y, k=10, epochs=50):\n",
        "  X, y = shuffle(X, y, random_state=0)\n",
        "  n = len(y)\n",
        "  X = np.array([X]).T\n",
        "  y = np.array(y)\n",
        "  folds_acc = []\n",
        "  sum = 0\n",
        "  j = 1\n",
        "  for i in range(0, n, n//k):\n",
        "    trainx = np.concatenate((X[0:i], X[i + n//k: n]), axis=0)\n",
        "    trainy = np.concatenate((y[0:i], y[i + n//k: n]), axis=0)\n",
        "    valx = X[i: i + n//k]\n",
        "    valy = y[i: i + n//k]\n",
        "    model = Model(epochs=epochs)\n",
        "    model.fit(trainx, trainy, valx, valy)\n",
        "    folds_acc.append(model.history['accuracy'][-1])\n",
        "    print('fold', j, ':', model.history['accuracy'][-1])\n",
        "    sum += model.history['accuracy'][-1]\n",
        "    j += 1\n",
        "  return sum/k, folds_acc\n"
      ],
      "execution_count": 5,
      "outputs": []
    },
    {
      "cell_type": "markdown",
      "metadata": {
        "id": "SupPPI5EHuAX"
      },
      "source": [
        "## Example"
      ]
    },
    {
      "cell_type": "code",
      "metadata": {
        "colab": {
          "base_uri": "https://localhost:8080/"
        },
        "id": "oIVEX-i2mmbm",
        "outputId": "96acab5d-8ed5-44e0-b20b-173569082d65"
      },
      "source": [
        "X = dataset['serviceCharge']\n",
        "y = dataset['livingSpace']\n",
        "print('5-fold:')\n",
        "acc_5_fold, acc_list_5_fold = k_fold(LinearRegression, X, y, k=5)\n",
        "print ('accuracy:', acc_5_fold)\n",
        "\n",
        "print()\n",
        "\n",
        "print('10-fold:')\n",
        "acc_10_fold, acc_list_10_fold = k_fold(LinearRegression, X, y, k=10)\n",
        "print ('accuracy:', acc_10_fold)\n"
      ],
      "execution_count": 6,
      "outputs": [
        {
          "output_type": "stream",
          "text": [
            "5-fold:\n",
            "fold 1 : 0.2681048912032732\n",
            "fold 2 : 0.21898828342942162\n",
            "fold 3 : 0.229737771991817\n",
            "fold 4 : 0.2364143574483913\n",
            "fold 5 : 0.27790589548075134\n",
            "accuracy: 0.24623023991073087\n",
            "\n",
            "10-fold:\n",
            "fold 1 : 0.2518132787799888\n",
            "fold 2 : 0.22971917426074018\n",
            "fold 3 : 0.24519248651664496\n",
            "fold 4 : 0.29060814580621164\n",
            "fold 5 : 0.2857727357262414\n",
            "fold 6 : 0.27662265203645153\n",
            "fold 7 : 0.23976194904221684\n",
            "fold 8 : 0.2609633624697787\n",
            "fold 9 : 0.2219825181327878\n",
            "fold 10 : 0.24121257206620791\n",
            "accuracy: 0.25436488748372693\n"
          ],
          "name": "stdout"
        }
      ]
    },
    {
      "cell_type": "markdown",
      "metadata": {
        "id": "_aj7iE5BHf0O"
      },
      "source": [
        "# K Fold\n",
        "can work with sklearn linear regression"
      ]
    },
    {
      "cell_type": "code",
      "metadata": {
        "id": "gB-aymDGp7iw"
      },
      "source": [
        "from sklearn.utils import shuffle\n",
        "from sklearn.metrics import mean_squared_error\n",
        "\n",
        "\n",
        "def calculate_accuracy(pred, val, accuracy_rate):\n",
        "  right = 0\n",
        "  for i in range(len(pred)):\n",
        "    if abs(pred[i] - val[i]) <= val[i] * accuracy_rate:\n",
        "      right += 1\n",
        "  return right / len(pred)\n",
        "\n",
        "def k_fold(Model, X, y, k=10, epochs=50):\n",
        "  X, y = shuffle(X, y, random_state=0)\n",
        "  n = len(y)\n",
        "  X = np.array(X)\n",
        "  y = np.array(y)\n",
        "  folds_acc = []\n",
        "  sum = 0\n",
        "  j = 1\n",
        "  for i in range(0, n, n//k):\n",
        "    trainx = np.concatenate((X[0:i], X[i + n//k: n]), axis=0)\n",
        "    trainy = np.concatenate((y[0:i], y[i + n//k: n]), axis=0)\n",
        "    valx = X[i: i + n//k]\n",
        "    valy = y[i: i + n//k]\n",
        "    model = Model()\n",
        "    model.fit(pd.DataFrame(trainx), trainy)\n",
        "    pred = model.predict(valx)\n",
        "    acc = calculate_accuracy(pred, valy, 0.1)\n",
        "    folds_acc.append(acc)\n",
        "    print('fold', j, ':', acc)\n",
        "    sum += acc\n",
        "    j += 1\n",
        "  return sum/k, folds_acc"
      ],
      "execution_count": 40,
      "outputs": []
    },
    {
      "cell_type": "markdown",
      "metadata": {
        "id": "LLLAKtz0Hq9c"
      },
      "source": [
        "## Examples"
      ]
    },
    {
      "cell_type": "code",
      "metadata": {
        "colab": {
          "base_uri": "https://localhost:8080/"
        },
        "id": "RbdSKHVOpGV2",
        "outputId": "74349eee-8d48-44f5-b45b-12bd8f8e8eea"
      },
      "source": [
        "from sklearn.linear_model import LinearRegression as LR\n",
        "\n",
        "\n",
        "X = dataset['serviceCharge']\n",
        "y = dataset['livingSpace']\n",
        "print('5-fold:')\n",
        "acc_5_fold, acc_list_5_fold = k_fold(LR, X, y, k=5)\n",
        "print ('accuracy:', acc_5_fold)\n",
        "\n",
        "print()\n",
        "\n",
        "print('10-fold:')\n",
        "acc_10_fold, acc_list_10_fold = k_fold(LR, X, y, k=10)\n",
        "print ('accuracy:', acc_10_fold)\n"
      ],
      "execution_count": 22,
      "outputs": [
        {
          "output_type": "stream",
          "text": [
            "5-fold:\n",
            "fold 1 : 0.22029012460479822\n",
            "fold 2 : 0.28673981774223545\n",
            "fold 3 : 0.21327877998884137\n",
            "fold 4 : 0.21909986981588248\n",
            "fold 5 : 0.21428305746698903\n",
            "accuracy: 0.23073832992374932\n",
            "\n",
            "10-fold:\n",
            "fold 1 : 0.2243258322484657\n",
            "fold 2 : 0.21688673981774223\n",
            "fold 3 : 0.2161800260368235\n",
            "fold 4 : 0.2918727915194346\n",
            "fold 5 : 0.21424586200483542\n",
            "fold 6 : 0.2213501952761763\n",
            "fold 7 : 0.22030872233587503\n",
            "fold 8 : 0.21997396317649245\n",
            "fold 9 : 0.21294402082945882\n",
            "fold 10 : 0.2183001673795797\n",
            "accuracy: 0.2256388320624884\n"
          ],
          "name": "stdout"
        }
      ]
    },
    {
      "cell_type": "code",
      "metadata": {
        "colab": {
          "base_uri": "https://localhost:8080/"
        },
        "id": "obTF9cELvgqE",
        "outputId": "57b882cd-3ad8-4a1a-b18d-646ec400d4e8"
      },
      "source": [
        "X = dataset[['serviceCharge', 'pricetrend', 'geo_plz', 'baseRent']]\n",
        "y = dataset['livingSpace']\n",
        "\n",
        "lr = LR()\n",
        "lr.fit(X, y)\n",
        "print('5-fold:')\n",
        "acc_5_fold, acc_list_5_fold = k_fold(LR, X, y, k=5)\n",
        "print ('accuracy:', acc_5_fold)\n",
        "\n",
        "print()\n",
        "\n",
        "print('10-fold:')\n",
        "acc_10_fold, acc_list_10_fold = k_fold(LR, X, y, k=10)\n",
        "print ('accuracy:', acc_10_fold)"
      ],
      "execution_count": 35,
      "outputs": [
        {
          "output_type": "stream",
          "text": [
            "5-fold:\n",
            "(215080, 4)\n",
            "fold 1 : 0.24800074390924307\n",
            "(215080, 4)\n",
            "fold 2 : 0.2945880602566487\n",
            "(215080, 4)\n",
            "fold 3 : 0.2405430537474428\n",
            "(215080, 4)\n",
            "fold 4 : 0.25419378835782036\n",
            "(215080, 4)\n",
            "fold 5 : 0.24681048912032733\n",
            "accuracy: 0.2568272270782964\n",
            "\n",
            "10-fold:\n",
            "(241965, 4)\n",
            "fold 1 : 0.25028826483169053\n",
            "(241965, 4)\n",
            "fold 2 : 0.24757299609447647\n",
            "(241965, 4)\n",
            "fold 3 : 0.24820531895108797\n",
            "(241965, 4)\n",
            "fold 4 : 0.2956667286591036\n",
            "(241965, 4)\n",
            "fold 5 : 0.24459735912218708\n",
            "(241965, 4)\n",
            "fold 6 : 0.24708945508647945\n",
            "(241965, 4)\n",
            "fold 7 : 0.24961874651292543\n",
            "(241965, 4)\n",
            "fold 8 : 0.25437976566858844\n",
            "(241965, 4)\n",
            "fold 9 : 0.24429979542495817\n",
            "(241965, 4)\n",
            "fold 10 : 0.25170169239352796\n",
            "accuracy: 0.2533420122745025\n"
          ],
          "name": "stdout"
        }
      ]
    },
    {
      "cell_type": "code",
      "metadata": {
        "colab": {
          "base_uri": "https://localhost:8080/"
        },
        "id": "aVNMRtK4zivw",
        "outputId": "664f9184-781d-43e9-fe89-87aab7831d8b"
      },
      "source": [
        "X = dataset.drop(['livingSpace'], axis=1)\n",
        "y = dataset['livingSpace']\n",
        "\n",
        "lr = LR()\n",
        "lr.fit(X, y)\n",
        "print('5-fold:')\n",
        "acc_5_fold, acc_list_5_fold = k_fold(LR, X, y, k=5)\n",
        "print ('accuracy:', acc_5_fold)\n",
        "\n",
        "print()\n",
        "\n",
        "print('10-fold:')\n",
        "acc_10_fold, acc_list_10_fold = k_fold(LR, X, y, k=10)\n",
        "print ('accuracy:', acc_10_fold)"
      ],
      "execution_count": 41,
      "outputs": [
        {
          "output_type": "stream",
          "text": [
            "5-fold:\n",
            "fold 1 : 0.5396503626557559\n",
            "fold 2 : 0.42356332527431656\n",
            "fold 3 : 0.4826855123674912\n",
            "fold 4 : 0.569964664310954\n",
            "fold 5 : 0.47703180212014135\n",
            "accuracy: 0.4985791333457318\n",
            "\n",
            "10-fold:\n",
            "fold 1 : 0.5484098939929328\n",
            "fold 2 : 0.49856797470708575\n",
            "fold 3 : 0.49302585084619677\n",
            "fold 4 : 0.44493211828156964\n",
            "fold 5 : 0.4941789101729589\n",
            "fold 6 : 0.5032917984005951\n",
            "fold 7 : 0.5738887855681607\n",
            "fold 8 : 0.5014692207550678\n",
            "fold 9 : 0.49667100613725124\n",
            "fold 10 : 0.49577831504556447\n",
            "accuracy: 0.5050213873907383\n"
          ],
          "name": "stdout"
        }
      ]
    },
    {
      "cell_type": "code",
      "metadata": {
        "colab": {
          "base_uri": "https://localhost:8080/"
        },
        "id": "6igoQ9O48HDS",
        "outputId": "7a721ac1-eb64-412e-97a9-f06a3cce8894"
      },
      "source": [
        "from sklearn.linear_model import Ridge\n",
        "\n",
        "\n",
        "X = dataset.drop(['livingSpace'], axis=1)\n",
        "y = dataset['livingSpace']\n",
        "\n",
        "lr = LR()\n",
        "lr.fit(X, y)\n",
        "print('5-fold:')\n",
        "acc_5_fold, acc_list_5_fold = k_fold(Ridge, X, y, k=5)\n",
        "print ('accuracy:', acc_5_fold)\n",
        "\n",
        "print()\n",
        "\n",
        "print('10-fold:')\n",
        "acc_10_fold, acc_list_10_fold = k_fold(Ridge, X, y, k=10)\n",
        "print ('accuracy:', acc_10_fold)"
      ],
      "execution_count": 42,
      "outputs": [
        {
          "output_type": "stream",
          "text": [
            "5-fold:\n",
            "fold 1 : 0.5368607029942347\n",
            "fold 2 : 0.48043518690719733\n",
            "fold 3 : 0.4825739259810303\n",
            "fold 4 : 0.5648130928026781\n",
            "fold 5 : 0.4737957969127766\n",
            "accuracy: 0.5076957411195834\n",
            "\n",
            "10-fold:\n",
            "fold 1 : 0.5449135205504928\n",
            "fold 2 : 0.4956667286591036\n",
            "fold 3 : 0.4894922819416031\n",
            "fold 4 : 0.5032546029384415\n",
            "fold 5 : 0.49429049655941976\n",
            "fold 6 : 0.4999442068067696\n",
            "fold 7 : 0.5694997210340339\n",
            "fold 8 : 0.49689417891017296\n",
            "fold 9 : 0.49328621908127207\n",
            "fold 10 : 0.4915008368978985\n",
            "accuracy: 0.5078742793379207\n"
          ],
          "name": "stdout"
        }
      ]
    },
    {
      "cell_type": "code",
      "metadata": {
        "colab": {
          "base_uri": "https://localhost:8080/"
        },
        "id": "udIGVcAq84O4",
        "outputId": "0eb8aef0-16c6-45f1-dc1d-e6df086fdaff"
      },
      "source": [
        "from sklearn.linear_model import Lasso\n",
        "\n",
        "\n",
        "X = dataset.drop(['livingSpace'], axis=1)\n",
        "y = dataset['livingSpace']\n",
        "\n",
        "lr = LR()\n",
        "lr.fit(X, y)\n",
        "print('5-fold:')\n",
        "acc_5_fold, acc_list_5_fold = k_fold(Lasso, X, y, k=5)\n",
        "print ('accuracy:', acc_5_fold)\n",
        "\n",
        "print()\n",
        "\n",
        "print('10-fold:')\n",
        "acc_10_fold, acc_list_10_fold = k_fold(Lasso, X, y, k=10)\n",
        "print ('accuracy:', acc_10_fold)"
      ],
      "execution_count": 43,
      "outputs": [
        {
          "output_type": "stream",
          "text": [
            "5-fold:\n",
            "fold 1 : 0.2075692765482611\n",
            "fold 2 : 0.20610005579319324\n",
            "fold 3 : 0.20727171285103219\n",
            "fold 4 : 0.20636042402826854\n",
            "fold 5 : 0.2040915008368979\n",
            "accuracy: 0.2062785940115306\n",
            "\n",
            "10-fold:\n",
            "fold 1 : 0.21175376604054305\n",
            "fold 2 : 0.2026036823507532\n",
            "fold 3 : 0.20200855495629533\n",
            "fold 4 : 0.210786684024549\n",
            "fold 5 : 0.2081830016737958\n",
            "fold 6 : 0.2066951831876511\n",
            "fold 7 : 0.20636042402826854\n",
            "fold 8 : 0.20505858285289194\n",
            "fold 9 : 0.20104147294030128\n",
            "fold 10 : 0.2077366561279524\n",
            "accuracy: 0.2062228008183002\n"
          ],
          "name": "stdout"
        }
      ]
    }
  ]
}