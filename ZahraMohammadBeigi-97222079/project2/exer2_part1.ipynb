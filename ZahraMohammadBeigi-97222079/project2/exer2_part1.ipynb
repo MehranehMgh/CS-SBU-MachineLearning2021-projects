{
  "nbformat": 4,
  "nbformat_minor": 0,
  "metadata": {
    "colab": {
      "name": "exer2-part1.ipynb",
      "provenance": [],
      "collapsed_sections": [
        "ML4dhN-gaHEB",
        "wxCR57BOGJ-P",
        "o45Q3jamG0iR",
        "BwOrrmjVGY2D",
        "iU_8vRaKGjkj",
        "2WigR6beG9MJ",
        "PtBOh_96HRZC",
        "3CSj9lbzIJRB",
        "4Ryv5HwnJGj-",
        "ab1YtJhcK6d9",
        "WB1C2GAmPqHU",
        "xCxLfuc5abwW",
        "9mnnFnafUxt4",
        "uvZbcUS9dAOV",
        "11dffEQqR_p8",
        "WOwkCJX2idGh",
        "Nx5K-eYjf9SB",
        "4nmPGsRnATqk",
        "AbYczT1z-ZQk",
        "yMIp3rX77orU"
      ]
    },
    "kernelspec": {
      "name": "python3",
      "display_name": "Python 3"
    }
  },
  "cells": [
    {
      "cell_type": "code",
      "metadata": {
        "id": "6BIdSNAJi2AD"
      },
      "source": [
        "import pandas as pd\n",
        "import numpy as np"
      ],
      "execution_count": 1,
      "outputs": []
    },
    {
      "cell_type": "code",
      "metadata": {
        "colab": {
          "base_uri": "https://localhost:8080/"
        },
        "id": "l3tgazsYyknc",
        "outputId": "e962c0ff-d430-4732-f920-68ef49c6f0b3"
      },
      "source": [
        "from google.colab import drive\n",
        "drive.mount('/gdrive')"
      ],
      "execution_count": 2,
      "outputs": [
        {
          "output_type": "stream",
          "text": [
            "Mounted at /gdrive\n"
          ],
          "name": "stdout"
        }
      ]
    },
    {
      "cell_type": "code",
      "metadata": {
        "id": "b-P0pdmy1idC",
        "colab": {
          "base_uri": "https://localhost:8080/",
          "height": 484
        },
        "outputId": "20a9d089-74a8-4f38-afae-fbc74e567d00"
      },
      "source": [
        "df = pd.read_csv('/gdrive/My Drive/immo_data.csv')\n",
        "df.head(5)"
      ],
      "execution_count": 3,
      "outputs": [
        {
          "output_type": "execute_result",
          "data": {
            "text/html": [
              "<div>\n",
              "<style scoped>\n",
              "    .dataframe tbody tr th:only-of-type {\n",
              "        vertical-align: middle;\n",
              "    }\n",
              "\n",
              "    .dataframe tbody tr th {\n",
              "        vertical-align: top;\n",
              "    }\n",
              "\n",
              "    .dataframe thead th {\n",
              "        text-align: right;\n",
              "    }\n",
              "</style>\n",
              "<table border=\"1\" class=\"dataframe\">\n",
              "  <thead>\n",
              "    <tr style=\"text-align: right;\">\n",
              "      <th></th>\n",
              "      <th>regio1</th>\n",
              "      <th>serviceCharge</th>\n",
              "      <th>heatingType</th>\n",
              "      <th>telekomTvOffer</th>\n",
              "      <th>telekomHybridUploadSpeed</th>\n",
              "      <th>newlyConst</th>\n",
              "      <th>balcony</th>\n",
              "      <th>picturecount</th>\n",
              "      <th>pricetrend</th>\n",
              "      <th>telekomUploadSpeed</th>\n",
              "      <th>totalRent</th>\n",
              "      <th>yearConstructed</th>\n",
              "      <th>scoutId</th>\n",
              "      <th>noParkSpaces</th>\n",
              "      <th>firingTypes</th>\n",
              "      <th>hasKitchen</th>\n",
              "      <th>geo_bln</th>\n",
              "      <th>cellar</th>\n",
              "      <th>yearConstructedRange</th>\n",
              "      <th>baseRent</th>\n",
              "      <th>houseNumber</th>\n",
              "      <th>livingSpace</th>\n",
              "      <th>geo_krs</th>\n",
              "      <th>condition</th>\n",
              "      <th>interiorQual</th>\n",
              "      <th>petsAllowed</th>\n",
              "      <th>street</th>\n",
              "      <th>streetPlain</th>\n",
              "      <th>lift</th>\n",
              "      <th>baseRentRange</th>\n",
              "      <th>typeOfFlat</th>\n",
              "      <th>geo_plz</th>\n",
              "      <th>noRooms</th>\n",
              "      <th>thermalChar</th>\n",
              "      <th>floor</th>\n",
              "      <th>numberOfFloors</th>\n",
              "      <th>noRoomsRange</th>\n",
              "      <th>garden</th>\n",
              "      <th>livingSpaceRange</th>\n",
              "      <th>regio2</th>\n",
              "      <th>regio3</th>\n",
              "      <th>description</th>\n",
              "      <th>facilities</th>\n",
              "      <th>heatingCosts</th>\n",
              "      <th>energyEfficiencyClass</th>\n",
              "      <th>lastRefurbish</th>\n",
              "      <th>electricityBasePrice</th>\n",
              "      <th>electricityKwhPrice</th>\n",
              "      <th>date</th>\n",
              "    </tr>\n",
              "  </thead>\n",
              "  <tbody>\n",
              "    <tr>\n",
              "      <th>0</th>\n",
              "      <td>Nordrhein_Westfalen</td>\n",
              "      <td>245.00</td>\n",
              "      <td>central_heating</td>\n",
              "      <td>ONE_YEAR_FREE</td>\n",
              "      <td>NaN</td>\n",
              "      <td>False</td>\n",
              "      <td>False</td>\n",
              "      <td>6</td>\n",
              "      <td>4.62</td>\n",
              "      <td>10.0</td>\n",
              "      <td>840.0</td>\n",
              "      <td>1965.0</td>\n",
              "      <td>96107057</td>\n",
              "      <td>1.0</td>\n",
              "      <td>oil</td>\n",
              "      <td>False</td>\n",
              "      <td>Nordrhein_Westfalen</td>\n",
              "      <td>True</td>\n",
              "      <td>2.0</td>\n",
              "      <td>595.0</td>\n",
              "      <td>244</td>\n",
              "      <td>86.00</td>\n",
              "      <td>Dortmund</td>\n",
              "      <td>well_kept</td>\n",
              "      <td>normal</td>\n",
              "      <td>NaN</td>\n",
              "      <td>Sch&amp;uuml;ruferstra&amp;szlig;e</td>\n",
              "      <td>Schüruferstraße</td>\n",
              "      <td>False</td>\n",
              "      <td>4</td>\n",
              "      <td>ground_floor</td>\n",
              "      <td>44269</td>\n",
              "      <td>4.0</td>\n",
              "      <td>181.4</td>\n",
              "      <td>1.0</td>\n",
              "      <td>3.0</td>\n",
              "      <td>4</td>\n",
              "      <td>True</td>\n",
              "      <td>4</td>\n",
              "      <td>Dortmund</td>\n",
              "      <td>Schüren</td>\n",
              "      <td>Die ebenerdig zu erreichende Erdgeschosswohnun...</td>\n",
              "      <td>Die Wohnung ist mit Laminat ausgelegt. Das Bad...</td>\n",
              "      <td>NaN</td>\n",
              "      <td>NaN</td>\n",
              "      <td>NaN</td>\n",
              "      <td>NaN</td>\n",
              "      <td>NaN</td>\n",
              "      <td>May19</td>\n",
              "    </tr>\n",
              "    <tr>\n",
              "      <th>1</th>\n",
              "      <td>Rheinland_Pfalz</td>\n",
              "      <td>134.00</td>\n",
              "      <td>self_contained_central_heating</td>\n",
              "      <td>ONE_YEAR_FREE</td>\n",
              "      <td>NaN</td>\n",
              "      <td>False</td>\n",
              "      <td>True</td>\n",
              "      <td>8</td>\n",
              "      <td>3.47</td>\n",
              "      <td>10.0</td>\n",
              "      <td>NaN</td>\n",
              "      <td>1871.0</td>\n",
              "      <td>111378734</td>\n",
              "      <td>2.0</td>\n",
              "      <td>gas</td>\n",
              "      <td>False</td>\n",
              "      <td>Rheinland_Pfalz</td>\n",
              "      <td>False</td>\n",
              "      <td>1.0</td>\n",
              "      <td>800.0</td>\n",
              "      <td>NaN</td>\n",
              "      <td>89.00</td>\n",
              "      <td>Rhein_Pfalz_Kreis</td>\n",
              "      <td>refurbished</td>\n",
              "      <td>normal</td>\n",
              "      <td>no</td>\n",
              "      <td>no_information</td>\n",
              "      <td>NaN</td>\n",
              "      <td>False</td>\n",
              "      <td>5</td>\n",
              "      <td>ground_floor</td>\n",
              "      <td>67459</td>\n",
              "      <td>3.0</td>\n",
              "      <td>NaN</td>\n",
              "      <td>NaN</td>\n",
              "      <td>NaN</td>\n",
              "      <td>3</td>\n",
              "      <td>False</td>\n",
              "      <td>4</td>\n",
              "      <td>Rhein_Pfalz_Kreis</td>\n",
              "      <td>Böhl_Iggelheim</td>\n",
              "      <td>Alles neu macht der Mai – so kann es auch für ...</td>\n",
              "      <td>NaN</td>\n",
              "      <td>NaN</td>\n",
              "      <td>NaN</td>\n",
              "      <td>2019.0</td>\n",
              "      <td>NaN</td>\n",
              "      <td>NaN</td>\n",
              "      <td>May19</td>\n",
              "    </tr>\n",
              "    <tr>\n",
              "      <th>2</th>\n",
              "      <td>Sachsen</td>\n",
              "      <td>255.00</td>\n",
              "      <td>floor_heating</td>\n",
              "      <td>ONE_YEAR_FREE</td>\n",
              "      <td>10.0</td>\n",
              "      <td>True</td>\n",
              "      <td>True</td>\n",
              "      <td>8</td>\n",
              "      <td>2.72</td>\n",
              "      <td>2.4</td>\n",
              "      <td>1300.0</td>\n",
              "      <td>2019.0</td>\n",
              "      <td>113147523</td>\n",
              "      <td>1.0</td>\n",
              "      <td>NaN</td>\n",
              "      <td>False</td>\n",
              "      <td>Sachsen</td>\n",
              "      <td>True</td>\n",
              "      <td>9.0</td>\n",
              "      <td>965.0</td>\n",
              "      <td>4</td>\n",
              "      <td>83.80</td>\n",
              "      <td>Dresden</td>\n",
              "      <td>first_time_use</td>\n",
              "      <td>sophisticated</td>\n",
              "      <td>NaN</td>\n",
              "      <td>Turnerweg</td>\n",
              "      <td>Turnerweg</td>\n",
              "      <td>True</td>\n",
              "      <td>6</td>\n",
              "      <td>apartment</td>\n",
              "      <td>1097</td>\n",
              "      <td>3.0</td>\n",
              "      <td>NaN</td>\n",
              "      <td>3.0</td>\n",
              "      <td>4.0</td>\n",
              "      <td>3</td>\n",
              "      <td>False</td>\n",
              "      <td>4</td>\n",
              "      <td>Dresden</td>\n",
              "      <td>Äußere_Neustadt_Antonstadt</td>\n",
              "      <td>Der Neubau entsteht im Herzen der Dresdner Neu...</td>\n",
              "      <td>* 9 m² Balkon\\n* Bad mit bodengleicher Dusche,...</td>\n",
              "      <td>NaN</td>\n",
              "      <td>NaN</td>\n",
              "      <td>NaN</td>\n",
              "      <td>NaN</td>\n",
              "      <td>NaN</td>\n",
              "      <td>Oct19</td>\n",
              "    </tr>\n",
              "    <tr>\n",
              "      <th>3</th>\n",
              "      <td>Sachsen</td>\n",
              "      <td>58.15</td>\n",
              "      <td>district_heating</td>\n",
              "      <td>ONE_YEAR_FREE</td>\n",
              "      <td>NaN</td>\n",
              "      <td>False</td>\n",
              "      <td>True</td>\n",
              "      <td>9</td>\n",
              "      <td>1.53</td>\n",
              "      <td>40.0</td>\n",
              "      <td>NaN</td>\n",
              "      <td>1964.0</td>\n",
              "      <td>108890903</td>\n",
              "      <td>NaN</td>\n",
              "      <td>district_heating</td>\n",
              "      <td>False</td>\n",
              "      <td>Sachsen</td>\n",
              "      <td>False</td>\n",
              "      <td>2.0</td>\n",
              "      <td>343.0</td>\n",
              "      <td>35</td>\n",
              "      <td>58.15</td>\n",
              "      <td>Mittelsachsen_Kreis</td>\n",
              "      <td>NaN</td>\n",
              "      <td>NaN</td>\n",
              "      <td>NaN</td>\n",
              "      <td>Gl&amp;uuml;ck-Auf-Stra&amp;szlig;e</td>\n",
              "      <td>Glück-Auf-Straße</td>\n",
              "      <td>False</td>\n",
              "      <td>2</td>\n",
              "      <td>other</td>\n",
              "      <td>9599</td>\n",
              "      <td>3.0</td>\n",
              "      <td>86.0</td>\n",
              "      <td>3.0</td>\n",
              "      <td>NaN</td>\n",
              "      <td>3</td>\n",
              "      <td>False</td>\n",
              "      <td>2</td>\n",
              "      <td>Mittelsachsen_Kreis</td>\n",
              "      <td>Freiberg</td>\n",
              "      <td>Abseits von Lärm und Abgasen in Ihre neue Wohn...</td>\n",
              "      <td>NaN</td>\n",
              "      <td>87.23</td>\n",
              "      <td>NaN</td>\n",
              "      <td>NaN</td>\n",
              "      <td>NaN</td>\n",
              "      <td>NaN</td>\n",
              "      <td>May19</td>\n",
              "    </tr>\n",
              "    <tr>\n",
              "      <th>4</th>\n",
              "      <td>Bremen</td>\n",
              "      <td>138.00</td>\n",
              "      <td>self_contained_central_heating</td>\n",
              "      <td>NaN</td>\n",
              "      <td>NaN</td>\n",
              "      <td>False</td>\n",
              "      <td>True</td>\n",
              "      <td>19</td>\n",
              "      <td>2.46</td>\n",
              "      <td>NaN</td>\n",
              "      <td>903.0</td>\n",
              "      <td>1950.0</td>\n",
              "      <td>114751222</td>\n",
              "      <td>NaN</td>\n",
              "      <td>gas</td>\n",
              "      <td>False</td>\n",
              "      <td>Bremen</td>\n",
              "      <td>False</td>\n",
              "      <td>1.0</td>\n",
              "      <td>765.0</td>\n",
              "      <td>10</td>\n",
              "      <td>84.97</td>\n",
              "      <td>Bremen</td>\n",
              "      <td>refurbished</td>\n",
              "      <td>NaN</td>\n",
              "      <td>NaN</td>\n",
              "      <td>Hermann-Henrich-Meier-Allee</td>\n",
              "      <td>Hermann-Henrich-Meier-Allee</td>\n",
              "      <td>False</td>\n",
              "      <td>5</td>\n",
              "      <td>apartment</td>\n",
              "      <td>28213</td>\n",
              "      <td>3.0</td>\n",
              "      <td>188.9</td>\n",
              "      <td>1.0</td>\n",
              "      <td>NaN</td>\n",
              "      <td>3</td>\n",
              "      <td>False</td>\n",
              "      <td>4</td>\n",
              "      <td>Bremen</td>\n",
              "      <td>Neu_Schwachhausen</td>\n",
              "      <td>Es handelt sich hier um ein saniertes Mehrfami...</td>\n",
              "      <td>Diese Wohnung wurde neu saniert und ist wie fo...</td>\n",
              "      <td>NaN</td>\n",
              "      <td>NaN</td>\n",
              "      <td>NaN</td>\n",
              "      <td>NaN</td>\n",
              "      <td>NaN</td>\n",
              "      <td>Feb20</td>\n",
              "    </tr>\n",
              "  </tbody>\n",
              "</table>\n",
              "</div>"
            ],
            "text/plain": [
              "                regio1  serviceCharge  ... electricityKwhPrice   date\n",
              "0  Nordrhein_Westfalen         245.00  ...                 NaN  May19\n",
              "1      Rheinland_Pfalz         134.00  ...                 NaN  May19\n",
              "2              Sachsen         255.00  ...                 NaN  Oct19\n",
              "3              Sachsen          58.15  ...                 NaN  May19\n",
              "4               Bremen         138.00  ...                 NaN  Feb20\n",
              "\n",
              "[5 rows x 49 columns]"
            ]
          },
          "metadata": {
            "tags": []
          },
          "execution_count": 3
        }
      ]
    },
    {
      "cell_type": "code",
      "metadata": {
        "colab": {
          "base_uri": "https://localhost:8080/"
        },
        "id": "OomdQHLsBDIt",
        "outputId": "3b5a6ec1-a933-4a54-f4de-1618d03b84b3"
      },
      "source": [
        "df.shape"
      ],
      "execution_count": 4,
      "outputs": [
        {
          "output_type": "execute_result",
          "data": {
            "text/plain": [
              "(268850, 49)"
            ]
          },
          "metadata": {
            "tags": []
          },
          "execution_count": 4
        }
      ]
    },
    {
      "cell_type": "markdown",
      "metadata": {
        "id": "ML4dhN-gaHEB"
      },
      "source": [
        "# Data Preprocessing"
      ]
    },
    {
      "cell_type": "markdown",
      "metadata": {
        "id": "wxCR57BOGJ-P"
      },
      "source": [
        "### delete columns without useful information"
      ]
    },
    {
      "cell_type": "code",
      "metadata": {
        "id": "o3ZnmAKnEO6E"
      },
      "source": [
        "df = df.drop(columns=['description','facilities', 'date'])"
      ],
      "execution_count": 5,
      "outputs": []
    },
    {
      "cell_type": "code",
      "metadata": {
        "colab": {
          "base_uri": "https://localhost:8080/"
        },
        "id": "O1B_kgkHHIgF",
        "outputId": "d9f27159-cb4c-4635-e157-3b04f3c2cea1"
      },
      "source": [
        "df.shape"
      ],
      "execution_count": 6,
      "outputs": [
        {
          "output_type": "execute_result",
          "data": {
            "text/plain": [
              "(268850, 46)"
            ]
          },
          "metadata": {
            "tags": []
          },
          "execution_count": 6
        }
      ]
    },
    {
      "cell_type": "code",
      "metadata": {
        "colab": {
          "base_uri": "https://localhost:8080/"
        },
        "id": "EsM1N8hk7eBl",
        "outputId": "1cf21395-4e4c-4f78-d7bc-9a3fb8a4c96b"
      },
      "source": [
        "df.info()"
      ],
      "execution_count": 7,
      "outputs": [
        {
          "output_type": "stream",
          "text": [
            "<class 'pandas.core.frame.DataFrame'>\n",
            "RangeIndex: 268850 entries, 0 to 268849\n",
            "Data columns (total 46 columns):\n",
            " #   Column                    Non-Null Count   Dtype  \n",
            "---  ------                    --------------   -----  \n",
            " 0   regio1                    268850 non-null  object \n",
            " 1   serviceCharge             261941 non-null  float64\n",
            " 2   heatingType               223994 non-null  object \n",
            " 3   telekomTvOffer            236231 non-null  object \n",
            " 4   telekomHybridUploadSpeed  45020 non-null   float64\n",
            " 5   newlyConst                268850 non-null  bool   \n",
            " 6   balcony                   268850 non-null  bool   \n",
            " 7   picturecount              268850 non-null  int64  \n",
            " 8   pricetrend                267018 non-null  float64\n",
            " 9   telekomUploadSpeed        235492 non-null  float64\n",
            " 10  totalRent                 228333 non-null  float64\n",
            " 11  yearConstructed           211805 non-null  float64\n",
            " 12  scoutId                   268850 non-null  int64  \n",
            " 13  noParkSpaces              93052 non-null   float64\n",
            " 14  firingTypes               211886 non-null  object \n",
            " 15  hasKitchen                268850 non-null  bool   \n",
            " 16  geo_bln                   268850 non-null  object \n",
            " 17  cellar                    268850 non-null  bool   \n",
            " 18  yearConstructedRange      211805 non-null  float64\n",
            " 19  baseRent                  268850 non-null  float64\n",
            " 20  houseNumber               197832 non-null  object \n",
            " 21  livingSpace               268850 non-null  float64\n",
            " 22  geo_krs                   268850 non-null  object \n",
            " 23  condition                 200361 non-null  object \n",
            " 24  interiorQual              156185 non-null  object \n",
            " 25  petsAllowed               154277 non-null  object \n",
            " 26  street                    268850 non-null  object \n",
            " 27  streetPlain               197837 non-null  object \n",
            " 28  lift                      268850 non-null  bool   \n",
            " 29  baseRentRange             268850 non-null  int64  \n",
            " 30  typeOfFlat                232236 non-null  object \n",
            " 31  geo_plz                   268850 non-null  int64  \n",
            " 32  noRooms                   268850 non-null  float64\n",
            " 33  thermalChar               162344 non-null  float64\n",
            " 34  floor                     217541 non-null  float64\n",
            " 35  numberOfFloors            171118 non-null  float64\n",
            " 36  noRoomsRange              268850 non-null  int64  \n",
            " 37  garden                    268850 non-null  bool   \n",
            " 38  livingSpaceRange          268850 non-null  int64  \n",
            " 39  regio2                    268850 non-null  object \n",
            " 40  regio3                    268850 non-null  object \n",
            " 41  heatingCosts              85518 non-null   float64\n",
            " 42  energyEfficiencyClass     77787 non-null   object \n",
            " 43  lastRefurbish             80711 non-null   float64\n",
            " 44  electricityBasePrice      46846 non-null   float64\n",
            " 45  electricityKwhPrice       46846 non-null   float64\n",
            "dtypes: bool(6), float64(18), int64(6), object(16)\n",
            "memory usage: 83.6+ MB\n"
          ],
          "name": "stdout"
        }
      ]
    },
    {
      "cell_type": "markdown",
      "metadata": {
        "id": "o45Q3jamG0iR"
      },
      "source": [
        "### nan values"
      ]
    },
    {
      "cell_type": "code",
      "metadata": {
        "colab": {
          "base_uri": "https://localhost:8080/"
        },
        "id": "ktJ4Sii67lSL",
        "outputId": "f650f075-dd35-402d-ac15-7620ea2a74ef"
      },
      "source": [
        "df.isna().sum()/len(df)"
      ],
      "execution_count": 8,
      "outputs": [
        {
          "output_type": "execute_result",
          "data": {
            "text/plain": [
              "regio1                      0.000000\n",
              "serviceCharge               0.025698\n",
              "heatingType                 0.166844\n",
              "telekomTvOffer              0.121328\n",
              "telekomHybridUploadSpeed    0.832546\n",
              "newlyConst                  0.000000\n",
              "balcony                     0.000000\n",
              "picturecount                0.000000\n",
              "pricetrend                  0.006814\n",
              "telekomUploadSpeed          0.124077\n",
              "totalRent                   0.150705\n",
              "yearConstructed             0.212182\n",
              "scoutId                     0.000000\n",
              "noParkSpaces                0.653889\n",
              "firingTypes                 0.211880\n",
              "hasKitchen                  0.000000\n",
              "geo_bln                     0.000000\n",
              "cellar                      0.000000\n",
              "yearConstructedRange        0.212182\n",
              "baseRent                    0.000000\n",
              "houseNumber                 0.264155\n",
              "livingSpace                 0.000000\n",
              "geo_krs                     0.000000\n",
              "condition                   0.254748\n",
              "interiorQual                0.419063\n",
              "petsAllowed                 0.426160\n",
              "street                      0.000000\n",
              "streetPlain                 0.264136\n",
              "lift                        0.000000\n",
              "baseRentRange               0.000000\n",
              "typeOfFlat                  0.136187\n",
              "geo_plz                     0.000000\n",
              "noRooms                     0.000000\n",
              "thermalChar                 0.396154\n",
              "floor                       0.190846\n",
              "numberOfFloors              0.363519\n",
              "noRoomsRange                0.000000\n",
              "garden                      0.000000\n",
              "livingSpaceRange            0.000000\n",
              "regio2                      0.000000\n",
              "regio3                      0.000000\n",
              "heatingCosts                0.681912\n",
              "energyEfficiencyClass       0.710668\n",
              "lastRefurbish               0.699792\n",
              "electricityBasePrice        0.825754\n",
              "electricityKwhPrice         0.825754\n",
              "dtype: float64"
            ]
          },
          "metadata": {
            "tags": []
          },
          "execution_count": 8
        }
      ]
    },
    {
      "cell_type": "code",
      "metadata": {
        "colab": {
          "base_uri": "https://localhost:8080/"
        },
        "id": "XpfqrOBo71YU",
        "outputId": "3edaadfc-8b2c-4cc0-e514-6b56a6b65704"
      },
      "source": [
        "df.columns[((df.isna().sum()/len(df)) > 0.50)]"
      ],
      "execution_count": 9,
      "outputs": [
        {
          "output_type": "execute_result",
          "data": {
            "text/plain": [
              "Index(['telekomHybridUploadSpeed', 'noParkSpaces', 'heatingCosts',\n",
              "       'energyEfficiencyClass', 'lastRefurbish', 'electricityBasePrice',\n",
              "       'electricityKwhPrice'],\n",
              "      dtype='object')"
            ]
          },
          "metadata": {
            "tags": []
          },
          "execution_count": 9
        }
      ]
    },
    {
      "cell_type": "code",
      "metadata": {
        "colab": {
          "base_uri": "https://localhost:8080/"
        },
        "id": "Lj31bCE976AX",
        "outputId": "e9204ff4-14fc-4f9f-ec82-b17212e58027"
      },
      "source": [
        "df = df.drop(columns=df.columns[((df.isna().sum()/len(df)) > 0.50)])\n",
        "df.columns"
      ],
      "execution_count": 10,
      "outputs": [
        {
          "output_type": "execute_result",
          "data": {
            "text/plain": [
              "Index(['regio1', 'serviceCharge', 'heatingType', 'telekomTvOffer',\n",
              "       'newlyConst', 'balcony', 'picturecount', 'pricetrend',\n",
              "       'telekomUploadSpeed', 'totalRent', 'yearConstructed', 'scoutId',\n",
              "       'firingTypes', 'hasKitchen', 'geo_bln', 'cellar',\n",
              "       'yearConstructedRange', 'baseRent', 'houseNumber', 'livingSpace',\n",
              "       'geo_krs', 'condition', 'interiorQual', 'petsAllowed', 'street',\n",
              "       'streetPlain', 'lift', 'baseRentRange', 'typeOfFlat', 'geo_plz',\n",
              "       'noRooms', 'thermalChar', 'floor', 'numberOfFloors', 'noRoomsRange',\n",
              "       'garden', 'livingSpaceRange', 'regio2', 'regio3'],\n",
              "      dtype='object')"
            ]
          },
          "metadata": {
            "tags": []
          },
          "execution_count": 10
        }
      ]
    },
    {
      "cell_type": "code",
      "metadata": {
        "colab": {
          "base_uri": "https://localhost:8080/",
          "height": 0
        },
        "id": "35BOPSeq8DhR",
        "outputId": "c5c7160d-dfbf-4cc0-f8a3-1ecb4676b57c"
      },
      "source": [
        "df.head()"
      ],
      "execution_count": 11,
      "outputs": [
        {
          "output_type": "execute_result",
          "data": {
            "text/html": [
              "<div>\n",
              "<style scoped>\n",
              "    .dataframe tbody tr th:only-of-type {\n",
              "        vertical-align: middle;\n",
              "    }\n",
              "\n",
              "    .dataframe tbody tr th {\n",
              "        vertical-align: top;\n",
              "    }\n",
              "\n",
              "    .dataframe thead th {\n",
              "        text-align: right;\n",
              "    }\n",
              "</style>\n",
              "<table border=\"1\" class=\"dataframe\">\n",
              "  <thead>\n",
              "    <tr style=\"text-align: right;\">\n",
              "      <th></th>\n",
              "      <th>regio1</th>\n",
              "      <th>serviceCharge</th>\n",
              "      <th>heatingType</th>\n",
              "      <th>telekomTvOffer</th>\n",
              "      <th>newlyConst</th>\n",
              "      <th>balcony</th>\n",
              "      <th>picturecount</th>\n",
              "      <th>pricetrend</th>\n",
              "      <th>telekomUploadSpeed</th>\n",
              "      <th>totalRent</th>\n",
              "      <th>yearConstructed</th>\n",
              "      <th>scoutId</th>\n",
              "      <th>firingTypes</th>\n",
              "      <th>hasKitchen</th>\n",
              "      <th>geo_bln</th>\n",
              "      <th>cellar</th>\n",
              "      <th>yearConstructedRange</th>\n",
              "      <th>baseRent</th>\n",
              "      <th>houseNumber</th>\n",
              "      <th>livingSpace</th>\n",
              "      <th>geo_krs</th>\n",
              "      <th>condition</th>\n",
              "      <th>interiorQual</th>\n",
              "      <th>petsAllowed</th>\n",
              "      <th>street</th>\n",
              "      <th>streetPlain</th>\n",
              "      <th>lift</th>\n",
              "      <th>baseRentRange</th>\n",
              "      <th>typeOfFlat</th>\n",
              "      <th>geo_plz</th>\n",
              "      <th>noRooms</th>\n",
              "      <th>thermalChar</th>\n",
              "      <th>floor</th>\n",
              "      <th>numberOfFloors</th>\n",
              "      <th>noRoomsRange</th>\n",
              "      <th>garden</th>\n",
              "      <th>livingSpaceRange</th>\n",
              "      <th>regio2</th>\n",
              "      <th>regio3</th>\n",
              "    </tr>\n",
              "  </thead>\n",
              "  <tbody>\n",
              "    <tr>\n",
              "      <th>0</th>\n",
              "      <td>Nordrhein_Westfalen</td>\n",
              "      <td>245.00</td>\n",
              "      <td>central_heating</td>\n",
              "      <td>ONE_YEAR_FREE</td>\n",
              "      <td>False</td>\n",
              "      <td>False</td>\n",
              "      <td>6</td>\n",
              "      <td>4.62</td>\n",
              "      <td>10.0</td>\n",
              "      <td>840.0</td>\n",
              "      <td>1965.0</td>\n",
              "      <td>96107057</td>\n",
              "      <td>oil</td>\n",
              "      <td>False</td>\n",
              "      <td>Nordrhein_Westfalen</td>\n",
              "      <td>True</td>\n",
              "      <td>2.0</td>\n",
              "      <td>595.0</td>\n",
              "      <td>244</td>\n",
              "      <td>86.00</td>\n",
              "      <td>Dortmund</td>\n",
              "      <td>well_kept</td>\n",
              "      <td>normal</td>\n",
              "      <td>NaN</td>\n",
              "      <td>Sch&amp;uuml;ruferstra&amp;szlig;e</td>\n",
              "      <td>Schüruferstraße</td>\n",
              "      <td>False</td>\n",
              "      <td>4</td>\n",
              "      <td>ground_floor</td>\n",
              "      <td>44269</td>\n",
              "      <td>4.0</td>\n",
              "      <td>181.4</td>\n",
              "      <td>1.0</td>\n",
              "      <td>3.0</td>\n",
              "      <td>4</td>\n",
              "      <td>True</td>\n",
              "      <td>4</td>\n",
              "      <td>Dortmund</td>\n",
              "      <td>Schüren</td>\n",
              "    </tr>\n",
              "    <tr>\n",
              "      <th>1</th>\n",
              "      <td>Rheinland_Pfalz</td>\n",
              "      <td>134.00</td>\n",
              "      <td>self_contained_central_heating</td>\n",
              "      <td>ONE_YEAR_FREE</td>\n",
              "      <td>False</td>\n",
              "      <td>True</td>\n",
              "      <td>8</td>\n",
              "      <td>3.47</td>\n",
              "      <td>10.0</td>\n",
              "      <td>NaN</td>\n",
              "      <td>1871.0</td>\n",
              "      <td>111378734</td>\n",
              "      <td>gas</td>\n",
              "      <td>False</td>\n",
              "      <td>Rheinland_Pfalz</td>\n",
              "      <td>False</td>\n",
              "      <td>1.0</td>\n",
              "      <td>800.0</td>\n",
              "      <td>NaN</td>\n",
              "      <td>89.00</td>\n",
              "      <td>Rhein_Pfalz_Kreis</td>\n",
              "      <td>refurbished</td>\n",
              "      <td>normal</td>\n",
              "      <td>no</td>\n",
              "      <td>no_information</td>\n",
              "      <td>NaN</td>\n",
              "      <td>False</td>\n",
              "      <td>5</td>\n",
              "      <td>ground_floor</td>\n",
              "      <td>67459</td>\n",
              "      <td>3.0</td>\n",
              "      <td>NaN</td>\n",
              "      <td>NaN</td>\n",
              "      <td>NaN</td>\n",
              "      <td>3</td>\n",
              "      <td>False</td>\n",
              "      <td>4</td>\n",
              "      <td>Rhein_Pfalz_Kreis</td>\n",
              "      <td>Böhl_Iggelheim</td>\n",
              "    </tr>\n",
              "    <tr>\n",
              "      <th>2</th>\n",
              "      <td>Sachsen</td>\n",
              "      <td>255.00</td>\n",
              "      <td>floor_heating</td>\n",
              "      <td>ONE_YEAR_FREE</td>\n",
              "      <td>True</td>\n",
              "      <td>True</td>\n",
              "      <td>8</td>\n",
              "      <td>2.72</td>\n",
              "      <td>2.4</td>\n",
              "      <td>1300.0</td>\n",
              "      <td>2019.0</td>\n",
              "      <td>113147523</td>\n",
              "      <td>NaN</td>\n",
              "      <td>False</td>\n",
              "      <td>Sachsen</td>\n",
              "      <td>True</td>\n",
              "      <td>9.0</td>\n",
              "      <td>965.0</td>\n",
              "      <td>4</td>\n",
              "      <td>83.80</td>\n",
              "      <td>Dresden</td>\n",
              "      <td>first_time_use</td>\n",
              "      <td>sophisticated</td>\n",
              "      <td>NaN</td>\n",
              "      <td>Turnerweg</td>\n",
              "      <td>Turnerweg</td>\n",
              "      <td>True</td>\n",
              "      <td>6</td>\n",
              "      <td>apartment</td>\n",
              "      <td>1097</td>\n",
              "      <td>3.0</td>\n",
              "      <td>NaN</td>\n",
              "      <td>3.0</td>\n",
              "      <td>4.0</td>\n",
              "      <td>3</td>\n",
              "      <td>False</td>\n",
              "      <td>4</td>\n",
              "      <td>Dresden</td>\n",
              "      <td>Äußere_Neustadt_Antonstadt</td>\n",
              "    </tr>\n",
              "    <tr>\n",
              "      <th>3</th>\n",
              "      <td>Sachsen</td>\n",
              "      <td>58.15</td>\n",
              "      <td>district_heating</td>\n",
              "      <td>ONE_YEAR_FREE</td>\n",
              "      <td>False</td>\n",
              "      <td>True</td>\n",
              "      <td>9</td>\n",
              "      <td>1.53</td>\n",
              "      <td>40.0</td>\n",
              "      <td>NaN</td>\n",
              "      <td>1964.0</td>\n",
              "      <td>108890903</td>\n",
              "      <td>district_heating</td>\n",
              "      <td>False</td>\n",
              "      <td>Sachsen</td>\n",
              "      <td>False</td>\n",
              "      <td>2.0</td>\n",
              "      <td>343.0</td>\n",
              "      <td>35</td>\n",
              "      <td>58.15</td>\n",
              "      <td>Mittelsachsen_Kreis</td>\n",
              "      <td>NaN</td>\n",
              "      <td>NaN</td>\n",
              "      <td>NaN</td>\n",
              "      <td>Gl&amp;uuml;ck-Auf-Stra&amp;szlig;e</td>\n",
              "      <td>Glück-Auf-Straße</td>\n",
              "      <td>False</td>\n",
              "      <td>2</td>\n",
              "      <td>other</td>\n",
              "      <td>9599</td>\n",
              "      <td>3.0</td>\n",
              "      <td>86.0</td>\n",
              "      <td>3.0</td>\n",
              "      <td>NaN</td>\n",
              "      <td>3</td>\n",
              "      <td>False</td>\n",
              "      <td>2</td>\n",
              "      <td>Mittelsachsen_Kreis</td>\n",
              "      <td>Freiberg</td>\n",
              "    </tr>\n",
              "    <tr>\n",
              "      <th>4</th>\n",
              "      <td>Bremen</td>\n",
              "      <td>138.00</td>\n",
              "      <td>self_contained_central_heating</td>\n",
              "      <td>NaN</td>\n",
              "      <td>False</td>\n",
              "      <td>True</td>\n",
              "      <td>19</td>\n",
              "      <td>2.46</td>\n",
              "      <td>NaN</td>\n",
              "      <td>903.0</td>\n",
              "      <td>1950.0</td>\n",
              "      <td>114751222</td>\n",
              "      <td>gas</td>\n",
              "      <td>False</td>\n",
              "      <td>Bremen</td>\n",
              "      <td>False</td>\n",
              "      <td>1.0</td>\n",
              "      <td>765.0</td>\n",
              "      <td>10</td>\n",
              "      <td>84.97</td>\n",
              "      <td>Bremen</td>\n",
              "      <td>refurbished</td>\n",
              "      <td>NaN</td>\n",
              "      <td>NaN</td>\n",
              "      <td>Hermann-Henrich-Meier-Allee</td>\n",
              "      <td>Hermann-Henrich-Meier-Allee</td>\n",
              "      <td>False</td>\n",
              "      <td>5</td>\n",
              "      <td>apartment</td>\n",
              "      <td>28213</td>\n",
              "      <td>3.0</td>\n",
              "      <td>188.9</td>\n",
              "      <td>1.0</td>\n",
              "      <td>NaN</td>\n",
              "      <td>3</td>\n",
              "      <td>False</td>\n",
              "      <td>4</td>\n",
              "      <td>Bremen</td>\n",
              "      <td>Neu_Schwachhausen</td>\n",
              "    </tr>\n",
              "  </tbody>\n",
              "</table>\n",
              "</div>"
            ],
            "text/plain": [
              "                regio1  ...                      regio3\n",
              "0  Nordrhein_Westfalen  ...                     Schüren\n",
              "1      Rheinland_Pfalz  ...              Böhl_Iggelheim\n",
              "2              Sachsen  ...  Äußere_Neustadt_Antonstadt\n",
              "3              Sachsen  ...                    Freiberg\n",
              "4               Bremen  ...           Neu_Schwachhausen\n",
              "\n",
              "[5 rows x 39 columns]"
            ]
          },
          "metadata": {
            "tags": []
          },
          "execution_count": 11
        }
      ]
    },
    {
      "cell_type": "markdown",
      "metadata": {
        "id": "BwOrrmjVGY2D"
      },
      "source": [
        "### fillna numeric data by mean"
      ]
    },
    {
      "cell_type": "code",
      "metadata": {
        "colab": {
          "base_uri": "https://localhost:8080/"
        },
        "id": "SI3HByzV9gci",
        "outputId": "2a0b2d64-eb22-4452-a064-7c86dea92d9d"
      },
      "source": [
        "df._get_numeric_data().mean()"
      ],
      "execution_count": 12,
      "outputs": [
        {
          "output_type": "execute_result",
          "data": {
            "text/plain": [
              "serviceCharge           1.512061e+02\n",
              "newlyConst              7.874651e-02\n",
              "balcony                 6.164553e-01\n",
              "picturecount            9.791958e+00\n",
              "pricetrend              3.389001e+00\n",
              "telekomUploadSpeed      2.880493e+01\n",
              "totalRent               9.013315e+02\n",
              "yearConstructed         1.966401e+03\n",
              "scoutId                 1.069697e+08\n",
              "hasKitchen              3.424065e-01\n",
              "cellar                  6.406360e-01\n",
              "yearConstructedRange    3.714544e+00\n",
              "baseRent                6.941294e+02\n",
              "livingSpace             7.435555e+01\n",
              "lift                    2.355291e-01\n",
              "baseRentRange           3.765256e+00\n",
              "geo_plz                 3.728302e+04\n",
              "noRooms                 2.641261e+00\n",
              "thermalChar             1.147495e+02\n",
              "floor                   2.122405e+00\n",
              "numberOfFloors          3.572319e+00\n",
              "noRoomsRange            2.571542e+00\n",
              "garden                  1.962321e-01\n",
              "livingSpaceRange        3.070790e+00\n",
              "dtype: float64"
            ]
          },
          "metadata": {
            "tags": []
          },
          "execution_count": 12
        }
      ]
    },
    {
      "cell_type": "code",
      "metadata": {
        "id": "9cHIDQvW9j7f"
      },
      "source": [
        "df.fillna(df._get_numeric_data().mean(),inplace = True)"
      ],
      "execution_count": 13,
      "outputs": []
    },
    {
      "cell_type": "code",
      "metadata": {
        "colab": {
          "base_uri": "https://localhost:8080/"
        },
        "id": "WFZMDAA79qhh",
        "outputId": "4365bbdb-6a1a-4521-e437-8da93e2746be"
      },
      "source": [
        "df.isna().sum()"
      ],
      "execution_count": 14,
      "outputs": [
        {
          "output_type": "execute_result",
          "data": {
            "text/plain": [
              "regio1                       0\n",
              "serviceCharge                0\n",
              "heatingType              44856\n",
              "telekomTvOffer           32619\n",
              "newlyConst                   0\n",
              "balcony                      0\n",
              "picturecount                 0\n",
              "pricetrend                   0\n",
              "telekomUploadSpeed           0\n",
              "totalRent                    0\n",
              "yearConstructed              0\n",
              "scoutId                      0\n",
              "firingTypes              56964\n",
              "hasKitchen                   0\n",
              "geo_bln                      0\n",
              "cellar                       0\n",
              "yearConstructedRange         0\n",
              "baseRent                     0\n",
              "houseNumber              71018\n",
              "livingSpace                  0\n",
              "geo_krs                      0\n",
              "condition                68489\n",
              "interiorQual            112665\n",
              "petsAllowed             114573\n",
              "street                       0\n",
              "streetPlain              71013\n",
              "lift                         0\n",
              "baseRentRange                0\n",
              "typeOfFlat               36614\n",
              "geo_plz                      0\n",
              "noRooms                      0\n",
              "thermalChar                  0\n",
              "floor                        0\n",
              "numberOfFloors               0\n",
              "noRoomsRange                 0\n",
              "garden                       0\n",
              "livingSpaceRange             0\n",
              "regio2                       0\n",
              "regio3                       0\n",
              "dtype: int64"
            ]
          },
          "metadata": {
            "tags": []
          },
          "execution_count": 14
        }
      ]
    },
    {
      "cell_type": "markdown",
      "metadata": {
        "id": "iU_8vRaKGjkj"
      },
      "source": [
        "### normalizing numeric data"
      ]
    },
    {
      "cell_type": "code",
      "metadata": {
        "id": "Ar-59Oh_F63Q"
      },
      "source": [
        "for cols in df.columns:\n",
        "    if df[cols].dtype == 'int64' or df[cols].dtype == 'float64':\n",
        "        df[cols] = ((df[cols] - df[cols].mean())/(df[cols].std()))"
      ],
      "execution_count": 15,
      "outputs": []
    },
    {
      "cell_type": "code",
      "metadata": {
        "colab": {
          "base_uri": "https://localhost:8080/",
          "height": 0
        },
        "id": "PE1XDd7OGX_G",
        "outputId": "10f3203b-186c-4f0d-9336-e99b7795fdc8"
      },
      "source": [
        "df.head()"
      ],
      "execution_count": 16,
      "outputs": [
        {
          "output_type": "execute_result",
          "data": {
            "text/html": [
              "<div>\n",
              "<style scoped>\n",
              "    .dataframe tbody tr th:only-of-type {\n",
              "        vertical-align: middle;\n",
              "    }\n",
              "\n",
              "    .dataframe tbody tr th {\n",
              "        vertical-align: top;\n",
              "    }\n",
              "\n",
              "    .dataframe thead th {\n",
              "        text-align: right;\n",
              "    }\n",
              "</style>\n",
              "<table border=\"1\" class=\"dataframe\">\n",
              "  <thead>\n",
              "    <tr style=\"text-align: right;\">\n",
              "      <th></th>\n",
              "      <th>regio1</th>\n",
              "      <th>serviceCharge</th>\n",
              "      <th>heatingType</th>\n",
              "      <th>telekomTvOffer</th>\n",
              "      <th>newlyConst</th>\n",
              "      <th>balcony</th>\n",
              "      <th>picturecount</th>\n",
              "      <th>pricetrend</th>\n",
              "      <th>telekomUploadSpeed</th>\n",
              "      <th>totalRent</th>\n",
              "      <th>yearConstructed</th>\n",
              "      <th>scoutId</th>\n",
              "      <th>firingTypes</th>\n",
              "      <th>hasKitchen</th>\n",
              "      <th>geo_bln</th>\n",
              "      <th>cellar</th>\n",
              "      <th>yearConstructedRange</th>\n",
              "      <th>baseRent</th>\n",
              "      <th>houseNumber</th>\n",
              "      <th>livingSpace</th>\n",
              "      <th>geo_krs</th>\n",
              "      <th>condition</th>\n",
              "      <th>interiorQual</th>\n",
              "      <th>petsAllowed</th>\n",
              "      <th>street</th>\n",
              "      <th>streetPlain</th>\n",
              "      <th>lift</th>\n",
              "      <th>baseRentRange</th>\n",
              "      <th>typeOfFlat</th>\n",
              "      <th>geo_plz</th>\n",
              "      <th>noRooms</th>\n",
              "      <th>thermalChar</th>\n",
              "      <th>floor</th>\n",
              "      <th>numberOfFloors</th>\n",
              "      <th>noRoomsRange</th>\n",
              "      <th>garden</th>\n",
              "      <th>livingSpaceRange</th>\n",
              "      <th>regio2</th>\n",
              "      <th>regio3</th>\n",
              "    </tr>\n",
              "  </thead>\n",
              "  <tbody>\n",
              "    <tr>\n",
              "      <th>0</th>\n",
              "      <td>Nordrhein_Westfalen</td>\n",
              "      <td>0.308220</td>\n",
              "      <td>central_heating</td>\n",
              "      <td>ONE_YEAR_FREE</td>\n",
              "      <td>False</td>\n",
              "      <td>False</td>\n",
              "      <td>-0.591717</td>\n",
              "      <td>0.628648</td>\n",
              "      <td>-1.229879e+00</td>\n",
              "      <td>-2.002236e-03</td>\n",
              "      <td>-0.033579</td>\n",
              "      <td>-0.868944</td>\n",
              "      <td>oil</td>\n",
              "      <td>False</td>\n",
              "      <td>Nordrhein_Westfalen</td>\n",
              "      <td>True</td>\n",
              "      <td>-0.705474</td>\n",
              "      <td>-0.005074</td>\n",
              "      <td>244</td>\n",
              "      <td>0.045708</td>\n",
              "      <td>Dortmund</td>\n",
              "      <td>well_kept</td>\n",
              "      <td>normal</td>\n",
              "      <td>NaN</td>\n",
              "      <td>Sch&amp;uuml;ruferstra&amp;szlig;e</td>\n",
              "      <td>Schüruferstraße</td>\n",
              "      <td>False</td>\n",
              "      <td>0.106010</td>\n",
              "      <td>ground_floor</td>\n",
              "      <td>0.251312</td>\n",
              "      <td>0.515956</td>\n",
              "      <td>1.391175e+00</td>\n",
              "      <td>-3.432713e-01</td>\n",
              "      <td>-1.125204e-01</td>\n",
              "      <td>1.523536</td>\n",
              "      <td>True</td>\n",
              "      <td>0.660359</td>\n",
              "      <td>Dortmund</td>\n",
              "      <td>Schüren</td>\n",
              "    </tr>\n",
              "    <tr>\n",
              "      <th>1</th>\n",
              "      <td>Rheinland_Pfalz</td>\n",
              "      <td>-0.056542</td>\n",
              "      <td>self_contained_central_heating</td>\n",
              "      <td>ONE_YEAR_FREE</td>\n",
              "      <td>False</td>\n",
              "      <td>True</td>\n",
              "      <td>-0.279627</td>\n",
              "      <td>0.041365</td>\n",
              "      <td>-1.229879e+00</td>\n",
              "      <td>1.060728e-14</td>\n",
              "      <td>-2.287243</td>\n",
              "      <td>0.352699</td>\n",
              "      <td>gas</td>\n",
              "      <td>False</td>\n",
              "      <td>Rheinland_Pfalz</td>\n",
              "      <td>False</td>\n",
              "      <td>-1.116939</td>\n",
              "      <td>0.005419</td>\n",
              "      <td>NaN</td>\n",
              "      <td>0.057484</td>\n",
              "      <td>Rhein_Pfalz_Kreis</td>\n",
              "      <td>refurbished</td>\n",
              "      <td>normal</td>\n",
              "      <td>no</td>\n",
              "      <td>no_information</td>\n",
              "      <td>NaN</td>\n",
              "      <td>False</td>\n",
              "      <td>0.557608</td>\n",
              "      <td>ground_floor</td>\n",
              "      <td>1.085543</td>\n",
              "      <td>0.136224</td>\n",
              "      <td>1.341014e-12</td>\n",
              "      <td>1.113710e-13</td>\n",
              "      <td>1.296553e-12</td>\n",
              "      <td>0.456976</td>\n",
              "      <td>False</td>\n",
              "      <td>0.660359</td>\n",
              "      <td>Rhein_Pfalz_Kreis</td>\n",
              "      <td>Böhl_Iggelheim</td>\n",
              "    </tr>\n",
              "    <tr>\n",
              "      <th>2</th>\n",
              "      <td>Sachsen</td>\n",
              "      <td>0.341081</td>\n",
              "      <td>floor_heating</td>\n",
              "      <td>ONE_YEAR_FREE</td>\n",
              "      <td>True</td>\n",
              "      <td>True</td>\n",
              "      <td>-0.279627</td>\n",
              "      <td>-0.341646</td>\n",
              "      <td>-1.726934e+00</td>\n",
              "      <td>1.301498e-02</td>\n",
              "      <td>1.261079</td>\n",
              "      <td>0.494191</td>\n",
              "      <td>NaN</td>\n",
              "      <td>False</td>\n",
              "      <td>Sachsen</td>\n",
              "      <td>True</td>\n",
              "      <td>2.174778</td>\n",
              "      <td>0.013865</td>\n",
              "      <td>4</td>\n",
              "      <td>0.037072</td>\n",
              "      <td>Dresden</td>\n",
              "      <td>first_time_use</td>\n",
              "      <td>sophisticated</td>\n",
              "      <td>NaN</td>\n",
              "      <td>Turnerweg</td>\n",
              "      <td>Turnerweg</td>\n",
              "      <td>True</td>\n",
              "      <td>1.009207</td>\n",
              "      <td>apartment</td>\n",
              "      <td>-1.301747</td>\n",
              "      <td>0.136224</td>\n",
              "      <td>1.341014e-12</td>\n",
              "      <td>2.684000e-01</td>\n",
              "      <td>8.408414e-02</td>\n",
              "      <td>0.456976</td>\n",
              "      <td>False</td>\n",
              "      <td>0.660359</td>\n",
              "      <td>Dresden</td>\n",
              "      <td>Äußere_Neustadt_Antonstadt</td>\n",
              "    </tr>\n",
              "    <tr>\n",
              "      <th>3</th>\n",
              "      <td>Sachsen</td>\n",
              "      <td>-0.305795</td>\n",
              "      <td>district_heating</td>\n",
              "      <td>ONE_YEAR_FREE</td>\n",
              "      <td>False</td>\n",
              "      <td>True</td>\n",
              "      <td>-0.123581</td>\n",
              "      <td>-0.949357</td>\n",
              "      <td>7.321796e-01</td>\n",
              "      <td>1.060728e-14</td>\n",
              "      <td>-0.057555</td>\n",
              "      <td>0.153687</td>\n",
              "      <td>district_heating</td>\n",
              "      <td>False</td>\n",
              "      <td>Sachsen</td>\n",
              "      <td>False</td>\n",
              "      <td>-0.705474</td>\n",
              "      <td>-0.017973</td>\n",
              "      <td>35</td>\n",
              "      <td>-0.063611</td>\n",
              "      <td>Mittelsachsen_Kreis</td>\n",
              "      <td>NaN</td>\n",
              "      <td>NaN</td>\n",
              "      <td>NaN</td>\n",
              "      <td>Gl&amp;uuml;ck-Auf-Stra&amp;szlig;e</td>\n",
              "      <td>Glück-Auf-Straße</td>\n",
              "      <td>False</td>\n",
              "      <td>-0.797187</td>\n",
              "      <td>other</td>\n",
              "      <td>-0.995898</td>\n",
              "      <td>0.136224</td>\n",
              "      <td>-6.000803e-01</td>\n",
              "      <td>2.684000e-01</td>\n",
              "      <td>1.296553e-12</td>\n",
              "      <td>0.456976</td>\n",
              "      <td>False</td>\n",
              "      <td>-0.760976</td>\n",
              "      <td>Mittelsachsen_Kreis</td>\n",
              "      <td>Freiberg</td>\n",
              "    </tr>\n",
              "    <tr>\n",
              "      <th>4</th>\n",
              "      <td>Bremen</td>\n",
              "      <td>-0.043397</td>\n",
              "      <td>self_contained_central_heating</td>\n",
              "      <td>NaN</td>\n",
              "      <td>False</td>\n",
              "      <td>True</td>\n",
              "      <td>1.436871</td>\n",
              "      <td>-0.474423</td>\n",
              "      <td>-2.156249e-13</td>\n",
              "      <td>5.446935e-05</td>\n",
              "      <td>-0.393207</td>\n",
              "      <td>0.622478</td>\n",
              "      <td>gas</td>\n",
              "      <td>False</td>\n",
              "      <td>Bremen</td>\n",
              "      <td>False</td>\n",
              "      <td>-1.116939</td>\n",
              "      <td>0.003628</td>\n",
              "      <td>10</td>\n",
              "      <td>0.041665</td>\n",
              "      <td>Bremen</td>\n",
              "      <td>refurbished</td>\n",
              "      <td>NaN</td>\n",
              "      <td>NaN</td>\n",
              "      <td>Hermann-Henrich-Meier-Allee</td>\n",
              "      <td>Hermann-Henrich-Meier-Allee</td>\n",
              "      <td>False</td>\n",
              "      <td>0.557608</td>\n",
              "      <td>apartment</td>\n",
              "      <td>-0.326283</td>\n",
              "      <td>0.136224</td>\n",
              "      <td>1.547720e+00</td>\n",
              "      <td>-3.432713e-01</td>\n",
              "      <td>1.296553e-12</td>\n",
              "      <td>0.456976</td>\n",
              "      <td>False</td>\n",
              "      <td>0.660359</td>\n",
              "      <td>Bremen</td>\n",
              "      <td>Neu_Schwachhausen</td>\n",
              "    </tr>\n",
              "  </tbody>\n",
              "</table>\n",
              "</div>"
            ],
            "text/plain": [
              "                regio1  ...                      regio3\n",
              "0  Nordrhein_Westfalen  ...                     Schüren\n",
              "1      Rheinland_Pfalz  ...              Böhl_Iggelheim\n",
              "2              Sachsen  ...  Äußere_Neustadt_Antonstadt\n",
              "3              Sachsen  ...                    Freiberg\n",
              "4               Bremen  ...           Neu_Schwachhausen\n",
              "\n",
              "[5 rows x 39 columns]"
            ]
          },
          "metadata": {
            "tags": []
          },
          "execution_count": 16
        }
      ]
    },
    {
      "cell_type": "markdown",
      "metadata": {
        "id": "2WigR6beG9MJ"
      },
      "source": [
        "### delete outlier"
      ]
    },
    {
      "cell_type": "code",
      "metadata": {
        "colab": {
          "base_uri": "https://localhost:8080/"
        },
        "id": "Ov6XExQbHAww",
        "outputId": "31fe9a5d-8681-46c6-dfdd-3bcc40ecc1f5"
      },
      "source": [
        "df.shape"
      ],
      "execution_count": 17,
      "outputs": [
        {
          "output_type": "execute_result",
          "data": {
            "text/plain": [
              "(268850, 39)"
            ]
          },
          "metadata": {
            "tags": []
          },
          "execution_count": 17
        }
      ]
    },
    {
      "cell_type": "code",
      "metadata": {
        "id": "FhaZ0nr6HFaz"
      },
      "source": [
        "for cols in df.columns:\n",
        "    if df[cols].dtype == 'int64' or df[cols].dtype == 'float64':\n",
        "        upper_range = df[cols].mean() + 3 * df[cols].std()\n",
        "        lower_range = df[cols].mean() - 3 * df[cols].std()\n",
        "        \n",
        "        indexs = df[(df[cols] > upper_range) | (df[cols] < lower_range)].index\n",
        "        df = df.drop(indexs)"
      ],
      "execution_count": 18,
      "outputs": []
    },
    {
      "cell_type": "code",
      "metadata": {
        "colab": {
          "base_uri": "https://localhost:8080/"
        },
        "id": "1SGHNfwNHL2R",
        "outputId": "0b38f66e-67a2-4678-d107-d51fa3b315a7"
      },
      "source": [
        "df.shape"
      ],
      "execution_count": 19,
      "outputs": [
        {
          "output_type": "execute_result",
          "data": {
            "text/plain": [
              "(250467, 39)"
            ]
          },
          "metadata": {
            "tags": []
          },
          "execution_count": 19
        }
      ]
    },
    {
      "cell_type": "markdown",
      "metadata": {
        "id": "PtBOh_96HRZC"
      },
      "source": [
        "### fillna categorical data"
      ]
    },
    {
      "cell_type": "code",
      "metadata": {
        "colab": {
          "base_uri": "https://localhost:8080/"
        },
        "id": "bGpy-T2KHV8s",
        "outputId": "b0a44f67-9932-45af-9d5c-8f66329cd339"
      },
      "source": [
        "for cols in df.columns:\n",
        "    if df[cols].dtype == 'object' or df[cols].dtype == 'bool':\n",
        "        print('column : ',cols)\n",
        "        print(df[cols].value_counts().head(1))"
      ],
      "execution_count": 20,
      "outputs": [
        {
          "output_type": "stream",
          "text": [
            "column :  regio1\n",
            "Nordrhein_Westfalen    58198\n",
            "Name: regio1, dtype: int64\n",
            "column :  heatingType\n",
            "central_heating    118148\n",
            "Name: heatingType, dtype: int64\n",
            "column :  telekomTvOffer\n",
            "ONE_YEAR_FREE    211765\n",
            "Name: telekomTvOffer, dtype: int64\n",
            "column :  newlyConst\n",
            "False    230112\n",
            "Name: newlyConst, dtype: int64\n",
            "column :  balcony\n",
            "True    154604\n",
            "Name: balcony, dtype: int64\n",
            "column :  firingTypes\n",
            "gas    102172\n",
            "Name: firingTypes, dtype: int64\n",
            "column :  hasKitchen\n",
            "False    166182\n",
            "Name: hasKitchen, dtype: int64\n",
            "column :  geo_bln\n",
            "Nordrhein_Westfalen    58198\n",
            "Name: geo_bln, dtype: int64\n",
            "column :  cellar\n",
            "True    159966\n",
            "Name: cellar, dtype: int64\n",
            "column :  houseNumber\n",
            "1    6630\n",
            "Name: houseNumber, dtype: int64\n",
            "column :  geo_krs\n",
            "Leipzig    13146\n",
            "Name: geo_krs, dtype: int64\n",
            "column :  condition\n",
            "well_kept    61649\n",
            "Name: condition, dtype: int64\n",
            "column :  interiorQual\n",
            "normal    75572\n",
            "Name: interiorQual, dtype: int64\n",
            "column :  petsAllowed\n",
            "negotiable    84751\n",
            "Name: petsAllowed, dtype: int64\n",
            "column :  street\n",
            "no_information    67283\n",
            "Name: street, dtype: int64\n",
            "column :  streetPlain\n",
            "Hauptstraße    845\n",
            "Name: streetPlain, dtype: int64\n",
            "column :  lift\n",
            "False    191379\n",
            "Name: lift, dtype: int64\n",
            "column :  typeOfFlat\n",
            "apartment    122682\n",
            "Name: typeOfFlat, dtype: int64\n",
            "column :  garden\n",
            "False    202375\n",
            "Name: garden, dtype: int64\n",
            "column :  regio2\n",
            "Leipzig    13146\n",
            "Name: regio2, dtype: int64\n",
            "column :  regio3\n",
            "Innenstadt    4407\n",
            "Name: regio3, dtype: int64\n"
          ],
          "name": "stdout"
        }
      ]
    },
    {
      "cell_type": "code",
      "metadata": {
        "colab": {
          "base_uri": "https://localhost:8080/"
        },
        "id": "PJ_7qv07IAEM",
        "outputId": "72008c41-01ce-4098-f5e6-14a2eae69cc6"
      },
      "source": [
        "for cols in df.columns:\n",
        "    if df[cols].dtype == 'object' or df[cols].dtype == 'bool':\n",
        "        print('cols : {} , value : {}'.format(cols , df[cols].value_counts().head(1).index[0]))\n",
        "        df[cols].fillna(df[cols].value_counts().head(1).index[0],inplace = True)"
      ],
      "execution_count": 21,
      "outputs": [
        {
          "output_type": "stream",
          "text": [
            "cols : regio1 , value : Nordrhein_Westfalen\n",
            "cols : heatingType , value : central_heating\n",
            "cols : telekomTvOffer , value : ONE_YEAR_FREE\n",
            "cols : newlyConst , value : False\n",
            "cols : balcony , value : True\n",
            "cols : firingTypes , value : gas\n",
            "cols : hasKitchen , value : False\n",
            "cols : geo_bln , value : Nordrhein_Westfalen\n",
            "cols : cellar , value : True\n",
            "cols : houseNumber , value : 1\n",
            "cols : geo_krs , value : Leipzig\n",
            "cols : condition , value : well_kept\n",
            "cols : interiorQual , value : normal\n",
            "cols : petsAllowed , value : negotiable\n",
            "cols : street , value : no_information\n",
            "cols : streetPlain , value : Hauptstraße\n",
            "cols : lift , value : False\n",
            "cols : typeOfFlat , value : apartment\n",
            "cols : garden , value : False\n",
            "cols : regio2 , value : Leipzig\n",
            "cols : regio3 , value : Innenstadt\n"
          ],
          "name": "stdout"
        }
      ]
    },
    {
      "cell_type": "code",
      "metadata": {
        "colab": {
          "base_uri": "https://localhost:8080/"
        },
        "id": "5-VSIRYpIE58",
        "outputId": "ec7308d2-0102-4145-b5cc-67b39460a8c3"
      },
      "source": [
        "df.isna().sum()"
      ],
      "execution_count": 22,
      "outputs": [
        {
          "output_type": "execute_result",
          "data": {
            "text/plain": [
              "regio1                  0\n",
              "serviceCharge           0\n",
              "heatingType             0\n",
              "telekomTvOffer          0\n",
              "newlyConst              0\n",
              "balcony                 0\n",
              "picturecount            0\n",
              "pricetrend              0\n",
              "telekomUploadSpeed      0\n",
              "totalRent               0\n",
              "yearConstructed         0\n",
              "scoutId                 0\n",
              "firingTypes             0\n",
              "hasKitchen              0\n",
              "geo_bln                 0\n",
              "cellar                  0\n",
              "yearConstructedRange    0\n",
              "baseRent                0\n",
              "houseNumber             0\n",
              "livingSpace             0\n",
              "geo_krs                 0\n",
              "condition               0\n",
              "interiorQual            0\n",
              "petsAllowed             0\n",
              "street                  0\n",
              "streetPlain             0\n",
              "lift                    0\n",
              "baseRentRange           0\n",
              "typeOfFlat              0\n",
              "geo_plz                 0\n",
              "noRooms                 0\n",
              "thermalChar             0\n",
              "floor                   0\n",
              "numberOfFloors          0\n",
              "noRoomsRange            0\n",
              "garden                  0\n",
              "livingSpaceRange        0\n",
              "regio2                  0\n",
              "regio3                  0\n",
              "dtype: int64"
            ]
          },
          "metadata": {
            "tags": []
          },
          "execution_count": 22
        }
      ]
    },
    {
      "cell_type": "markdown",
      "metadata": {
        "id": "3CSj9lbzIJRB"
      },
      "source": [
        "### categorical features"
      ]
    },
    {
      "cell_type": "code",
      "metadata": {
        "colab": {
          "base_uri": "https://localhost:8080/",
          "height": 0
        },
        "id": "xo90Oau6IMHC",
        "outputId": "9258aa46-c17d-4e9c-a05d-c222a2d71ac6"
      },
      "source": [
        "df.head()"
      ],
      "execution_count": 23,
      "outputs": [
        {
          "output_type": "execute_result",
          "data": {
            "text/html": [
              "<div>\n",
              "<style scoped>\n",
              "    .dataframe tbody tr th:only-of-type {\n",
              "        vertical-align: middle;\n",
              "    }\n",
              "\n",
              "    .dataframe tbody tr th {\n",
              "        vertical-align: top;\n",
              "    }\n",
              "\n",
              "    .dataframe thead th {\n",
              "        text-align: right;\n",
              "    }\n",
              "</style>\n",
              "<table border=\"1\" class=\"dataframe\">\n",
              "  <thead>\n",
              "    <tr style=\"text-align: right;\">\n",
              "      <th></th>\n",
              "      <th>regio1</th>\n",
              "      <th>serviceCharge</th>\n",
              "      <th>heatingType</th>\n",
              "      <th>telekomTvOffer</th>\n",
              "      <th>newlyConst</th>\n",
              "      <th>balcony</th>\n",
              "      <th>picturecount</th>\n",
              "      <th>pricetrend</th>\n",
              "      <th>telekomUploadSpeed</th>\n",
              "      <th>totalRent</th>\n",
              "      <th>yearConstructed</th>\n",
              "      <th>scoutId</th>\n",
              "      <th>firingTypes</th>\n",
              "      <th>hasKitchen</th>\n",
              "      <th>geo_bln</th>\n",
              "      <th>cellar</th>\n",
              "      <th>yearConstructedRange</th>\n",
              "      <th>baseRent</th>\n",
              "      <th>houseNumber</th>\n",
              "      <th>livingSpace</th>\n",
              "      <th>geo_krs</th>\n",
              "      <th>condition</th>\n",
              "      <th>interiorQual</th>\n",
              "      <th>petsAllowed</th>\n",
              "      <th>street</th>\n",
              "      <th>streetPlain</th>\n",
              "      <th>lift</th>\n",
              "      <th>baseRentRange</th>\n",
              "      <th>typeOfFlat</th>\n",
              "      <th>geo_plz</th>\n",
              "      <th>noRooms</th>\n",
              "      <th>thermalChar</th>\n",
              "      <th>floor</th>\n",
              "      <th>numberOfFloors</th>\n",
              "      <th>noRoomsRange</th>\n",
              "      <th>garden</th>\n",
              "      <th>livingSpaceRange</th>\n",
              "      <th>regio2</th>\n",
              "      <th>regio3</th>\n",
              "    </tr>\n",
              "  </thead>\n",
              "  <tbody>\n",
              "    <tr>\n",
              "      <th>0</th>\n",
              "      <td>Nordrhein_Westfalen</td>\n",
              "      <td>0.308220</td>\n",
              "      <td>central_heating</td>\n",
              "      <td>ONE_YEAR_FREE</td>\n",
              "      <td>False</td>\n",
              "      <td>False</td>\n",
              "      <td>-0.591717</td>\n",
              "      <td>0.628648</td>\n",
              "      <td>-1.229879e+00</td>\n",
              "      <td>-2.002236e-03</td>\n",
              "      <td>-0.033579</td>\n",
              "      <td>-0.868944</td>\n",
              "      <td>oil</td>\n",
              "      <td>False</td>\n",
              "      <td>Nordrhein_Westfalen</td>\n",
              "      <td>True</td>\n",
              "      <td>-0.705474</td>\n",
              "      <td>-0.005074</td>\n",
              "      <td>244</td>\n",
              "      <td>0.045708</td>\n",
              "      <td>Dortmund</td>\n",
              "      <td>well_kept</td>\n",
              "      <td>normal</td>\n",
              "      <td>negotiable</td>\n",
              "      <td>Sch&amp;uuml;ruferstra&amp;szlig;e</td>\n",
              "      <td>Schüruferstraße</td>\n",
              "      <td>False</td>\n",
              "      <td>0.106010</td>\n",
              "      <td>ground_floor</td>\n",
              "      <td>0.251312</td>\n",
              "      <td>0.515956</td>\n",
              "      <td>1.391175e+00</td>\n",
              "      <td>-3.432713e-01</td>\n",
              "      <td>-1.125204e-01</td>\n",
              "      <td>1.523536</td>\n",
              "      <td>True</td>\n",
              "      <td>0.660359</td>\n",
              "      <td>Dortmund</td>\n",
              "      <td>Schüren</td>\n",
              "    </tr>\n",
              "    <tr>\n",
              "      <th>1</th>\n",
              "      <td>Rheinland_Pfalz</td>\n",
              "      <td>-0.056542</td>\n",
              "      <td>self_contained_central_heating</td>\n",
              "      <td>ONE_YEAR_FREE</td>\n",
              "      <td>False</td>\n",
              "      <td>True</td>\n",
              "      <td>-0.279627</td>\n",
              "      <td>0.041365</td>\n",
              "      <td>-1.229879e+00</td>\n",
              "      <td>1.060728e-14</td>\n",
              "      <td>-2.287243</td>\n",
              "      <td>0.352699</td>\n",
              "      <td>gas</td>\n",
              "      <td>False</td>\n",
              "      <td>Rheinland_Pfalz</td>\n",
              "      <td>False</td>\n",
              "      <td>-1.116939</td>\n",
              "      <td>0.005419</td>\n",
              "      <td>1</td>\n",
              "      <td>0.057484</td>\n",
              "      <td>Rhein_Pfalz_Kreis</td>\n",
              "      <td>refurbished</td>\n",
              "      <td>normal</td>\n",
              "      <td>no</td>\n",
              "      <td>no_information</td>\n",
              "      <td>Hauptstraße</td>\n",
              "      <td>False</td>\n",
              "      <td>0.557608</td>\n",
              "      <td>ground_floor</td>\n",
              "      <td>1.085543</td>\n",
              "      <td>0.136224</td>\n",
              "      <td>1.341014e-12</td>\n",
              "      <td>1.113710e-13</td>\n",
              "      <td>1.296553e-12</td>\n",
              "      <td>0.456976</td>\n",
              "      <td>False</td>\n",
              "      <td>0.660359</td>\n",
              "      <td>Rhein_Pfalz_Kreis</td>\n",
              "      <td>Böhl_Iggelheim</td>\n",
              "    </tr>\n",
              "    <tr>\n",
              "      <th>2</th>\n",
              "      <td>Sachsen</td>\n",
              "      <td>0.341081</td>\n",
              "      <td>floor_heating</td>\n",
              "      <td>ONE_YEAR_FREE</td>\n",
              "      <td>True</td>\n",
              "      <td>True</td>\n",
              "      <td>-0.279627</td>\n",
              "      <td>-0.341646</td>\n",
              "      <td>-1.726934e+00</td>\n",
              "      <td>1.301498e-02</td>\n",
              "      <td>1.261079</td>\n",
              "      <td>0.494191</td>\n",
              "      <td>gas</td>\n",
              "      <td>False</td>\n",
              "      <td>Sachsen</td>\n",
              "      <td>True</td>\n",
              "      <td>2.174778</td>\n",
              "      <td>0.013865</td>\n",
              "      <td>4</td>\n",
              "      <td>0.037072</td>\n",
              "      <td>Dresden</td>\n",
              "      <td>first_time_use</td>\n",
              "      <td>sophisticated</td>\n",
              "      <td>negotiable</td>\n",
              "      <td>Turnerweg</td>\n",
              "      <td>Turnerweg</td>\n",
              "      <td>True</td>\n",
              "      <td>1.009207</td>\n",
              "      <td>apartment</td>\n",
              "      <td>-1.301747</td>\n",
              "      <td>0.136224</td>\n",
              "      <td>1.341014e-12</td>\n",
              "      <td>2.684000e-01</td>\n",
              "      <td>8.408414e-02</td>\n",
              "      <td>0.456976</td>\n",
              "      <td>False</td>\n",
              "      <td>0.660359</td>\n",
              "      <td>Dresden</td>\n",
              "      <td>Äußere_Neustadt_Antonstadt</td>\n",
              "    </tr>\n",
              "    <tr>\n",
              "      <th>3</th>\n",
              "      <td>Sachsen</td>\n",
              "      <td>-0.305795</td>\n",
              "      <td>district_heating</td>\n",
              "      <td>ONE_YEAR_FREE</td>\n",
              "      <td>False</td>\n",
              "      <td>True</td>\n",
              "      <td>-0.123581</td>\n",
              "      <td>-0.949357</td>\n",
              "      <td>7.321796e-01</td>\n",
              "      <td>1.060728e-14</td>\n",
              "      <td>-0.057555</td>\n",
              "      <td>0.153687</td>\n",
              "      <td>district_heating</td>\n",
              "      <td>False</td>\n",
              "      <td>Sachsen</td>\n",
              "      <td>False</td>\n",
              "      <td>-0.705474</td>\n",
              "      <td>-0.017973</td>\n",
              "      <td>35</td>\n",
              "      <td>-0.063611</td>\n",
              "      <td>Mittelsachsen_Kreis</td>\n",
              "      <td>well_kept</td>\n",
              "      <td>normal</td>\n",
              "      <td>negotiable</td>\n",
              "      <td>Gl&amp;uuml;ck-Auf-Stra&amp;szlig;e</td>\n",
              "      <td>Glück-Auf-Straße</td>\n",
              "      <td>False</td>\n",
              "      <td>-0.797187</td>\n",
              "      <td>other</td>\n",
              "      <td>-0.995898</td>\n",
              "      <td>0.136224</td>\n",
              "      <td>-6.000803e-01</td>\n",
              "      <td>2.684000e-01</td>\n",
              "      <td>1.296553e-12</td>\n",
              "      <td>0.456976</td>\n",
              "      <td>False</td>\n",
              "      <td>-0.760976</td>\n",
              "      <td>Mittelsachsen_Kreis</td>\n",
              "      <td>Freiberg</td>\n",
              "    </tr>\n",
              "    <tr>\n",
              "      <th>4</th>\n",
              "      <td>Bremen</td>\n",
              "      <td>-0.043397</td>\n",
              "      <td>self_contained_central_heating</td>\n",
              "      <td>ONE_YEAR_FREE</td>\n",
              "      <td>False</td>\n",
              "      <td>True</td>\n",
              "      <td>1.436871</td>\n",
              "      <td>-0.474423</td>\n",
              "      <td>-2.156249e-13</td>\n",
              "      <td>5.446935e-05</td>\n",
              "      <td>-0.393207</td>\n",
              "      <td>0.622478</td>\n",
              "      <td>gas</td>\n",
              "      <td>False</td>\n",
              "      <td>Bremen</td>\n",
              "      <td>False</td>\n",
              "      <td>-1.116939</td>\n",
              "      <td>0.003628</td>\n",
              "      <td>10</td>\n",
              "      <td>0.041665</td>\n",
              "      <td>Bremen</td>\n",
              "      <td>refurbished</td>\n",
              "      <td>normal</td>\n",
              "      <td>negotiable</td>\n",
              "      <td>Hermann-Henrich-Meier-Allee</td>\n",
              "      <td>Hermann-Henrich-Meier-Allee</td>\n",
              "      <td>False</td>\n",
              "      <td>0.557608</td>\n",
              "      <td>apartment</td>\n",
              "      <td>-0.326283</td>\n",
              "      <td>0.136224</td>\n",
              "      <td>1.547720e+00</td>\n",
              "      <td>-3.432713e-01</td>\n",
              "      <td>1.296553e-12</td>\n",
              "      <td>0.456976</td>\n",
              "      <td>False</td>\n",
              "      <td>0.660359</td>\n",
              "      <td>Bremen</td>\n",
              "      <td>Neu_Schwachhausen</td>\n",
              "    </tr>\n",
              "  </tbody>\n",
              "</table>\n",
              "</div>"
            ],
            "text/plain": [
              "                regio1  ...                      regio3\n",
              "0  Nordrhein_Westfalen  ...                     Schüren\n",
              "1      Rheinland_Pfalz  ...              Böhl_Iggelheim\n",
              "2              Sachsen  ...  Äußere_Neustadt_Antonstadt\n",
              "3              Sachsen  ...                    Freiberg\n",
              "4               Bremen  ...           Neu_Schwachhausen\n",
              "\n",
              "[5 rows x 39 columns]"
            ]
          },
          "metadata": {
            "tags": []
          },
          "execution_count": 23
        }
      ]
    },
    {
      "cell_type": "code",
      "metadata": {
        "colab": {
          "base_uri": "https://localhost:8080/"
        },
        "id": "hoHhx2d0IQFX",
        "outputId": "6b8c5cf9-8b15-48a0-93d4-0e91d6ebaae7"
      },
      "source": [
        "for cols in df.columns:\n",
        "    if df[cols].dtype == 'object' or df[cols].dtype == 'bool':\n",
        "        print('cols : {} , unique values : {}'.format(cols,df[cols].nunique()))"
      ],
      "execution_count": 24,
      "outputs": [
        {
          "output_type": "stream",
          "text": [
            "cols : regio1 , unique values : 16\n",
            "cols : heatingType , unique values : 13\n",
            "cols : telekomTvOffer , unique values : 3\n",
            "cols : newlyConst , unique values : 2\n",
            "cols : balcony , unique values : 2\n",
            "cols : firingTypes , unique values : 128\n",
            "cols : hasKitchen , unique values : 2\n",
            "cols : geo_bln , unique values : 16\n",
            "cols : cellar , unique values : 2\n",
            "cols : houseNumber , unique values : 5266\n",
            "cols : geo_krs , unique values : 419\n",
            "cols : condition , unique values : 10\n",
            "cols : interiorQual , unique values : 4\n",
            "cols : petsAllowed , unique values : 3\n",
            "cols : street , unique values : 49145\n",
            "cols : streetPlain , unique values : 50939\n",
            "cols : lift , unique values : 2\n",
            "cols : typeOfFlat , unique values : 10\n",
            "cols : garden , unique values : 2\n",
            "cols : regio2 , unique values : 419\n",
            "cols : regio3 , unique values : 8508\n"
          ],
          "name": "stdout"
        }
      ]
    },
    {
      "cell_type": "code",
      "metadata": {
        "colab": {
          "base_uri": "https://localhost:8080/"
        },
        "id": "V9G7z_WFI7At",
        "outputId": "7eaec3d1-7b71-4b28-c8ae-8928b2b222a6"
      },
      "source": [
        "for cols in df.columns:\n",
        "    if df[cols].dtype == 'object' or df[cols].dtype == 'bool':\n",
        "        print('cols : {} ,\\n {}'.format(cols,df[cols].value_counts()))"
      ],
      "execution_count": 25,
      "outputs": [
        {
          "output_type": "stream",
          "text": [
            "cols : regio1 ,\n",
            " Nordrhein_Westfalen       58198\n",
            "Sachsen                   55323\n",
            "Bayern                    20302\n",
            "Sachsen_Anhalt            19098\n",
            "Hessen                    16589\n",
            "Niedersachsen             15497\n",
            "Baden_Württemberg         15111\n",
            "Thüringen                  8027\n",
            "Rheinland_Pfalz            7857\n",
            "Berlin                     7803\n",
            "Brandenburg                6460\n",
            "Mecklenburg_Vorpommern     6324\n",
            "Schleswig_Holstein         6187\n",
            "Hamburg                    3520\n",
            "Bremen                     2836\n",
            "Saarland                   1335\n",
            "Name: regio1, dtype: int64\n",
            "cols : heatingType ,\n",
            " central_heating                   161419\n",
            "district_heating                   23573\n",
            "gas_heating                        19006\n",
            "self_contained_central_heating     16919\n",
            "floor_heating                      16767\n",
            "oil_heating                         4795\n",
            "heat_pump                           2642\n",
            "combined_heat_and_power_plant       1879\n",
            "night_storage_heater                1256\n",
            "wood_pellet_heating                  916\n",
            "electric_heating                     839\n",
            "stove_heating                        298\n",
            "solar_heating                        158\n",
            "Name: heatingType, dtype: int64\n",
            "cols : telekomTvOffer ,\n",
            " ONE_YEAR_FREE    242552\n",
            "NONE               4513\n",
            "ON_DEMAND          3402\n",
            "Name: telekomTvOffer, dtype: int64\n",
            "cols : newlyConst ,\n",
            " False    230112\n",
            "True      20355\n",
            "Name: newlyConst, dtype: int64\n",
            "cols : balcony ,\n",
            " True     154604\n",
            "False     95863\n",
            "Name: balcony, dtype: int64\n",
            "cols : firingTypes ,\n",
            " gas                                                                                                                                                                  156295\n",
            "district_heating                                                                                                                                                      46450\n",
            "oil                                                                                                                                                                   16527\n",
            "natural_gas_light                                                                                                                                                      9356\n",
            "electricity                                                                                                                                                            4509\n",
            "                                                                                                                                                                      ...  \n",
            "district_heating:electricity:natural_gas_heavy                                                                                                                            1\n",
            "solar_heating:oil:electricity                                                                                                                                             1\n",
            "natural_gas_heavy:local_heating                                                                                                                                           1\n",
            "geothermal:solar_heating:pellet_heating:gas                                                                                                                               1\n",
            "electricity:coal:natural_gas_light:natural_gas_heavy:liquid_gas:steam_district_heating:wood:wood_chips:coal_coke:local_heating:heat_supply:bio_energy:wind_energy         1\n",
            "Name: firingTypes, Length: 128, dtype: int64\n",
            "cols : hasKitchen ,\n",
            " False    166182\n",
            "True      84285\n",
            "Name: hasKitchen, dtype: int64\n",
            "cols : geo_bln ,\n",
            " Nordrhein_Westfalen       58198\n",
            "Sachsen                   55323\n",
            "Bayern                    20302\n",
            "Sachsen_Anhalt            19098\n",
            "Hessen                    16589\n",
            "Niedersachsen             15497\n",
            "Baden_Württemberg         15111\n",
            "Thüringen                  8027\n",
            "Rheinland_Pfalz            7857\n",
            "Berlin                     7803\n",
            "Brandenburg                6460\n",
            "Mecklenburg_Vorpommern     6324\n",
            "Schleswig_Holstein         6187\n",
            "Hamburg                    3520\n",
            "Bremen                     2836\n",
            "Saarland                   1335\n",
            "Name: geo_bln, dtype: int64\n",
            "cols : cellar ,\n",
            " True     159966\n",
            "False     90501\n",
            "Name: cellar, dtype: int64\n",
            "cols : houseNumber ,\n",
            " 1             73913\n",
            "2              6281\n",
            "4              5385\n",
            "3              5264\n",
            "5              5128\n",
            "              ...  \n",
            "Str.65            1\n",
            "1    -E05-        1\n",
            "0-100             1\n",
            "79 c              1\n",
            "Alte Zolls        1\n",
            "Name: houseNumber, Length: 5266, dtype: int64\n",
            "cols : geo_krs ,\n",
            " Leipzig                         13146\n",
            "Chemnitz                        11966\n",
            "Berlin                           7803\n",
            "Dresden                          7234\n",
            "Magdeburg                        4579\n",
            "                                ...  \n",
            "Schweinfurt_Kreis                  26\n",
            "Freyung_Grafenau_Kreis             20\n",
            "Haßberge_Kreis                     19\n",
            "Neustadt_a.d._Waldnaab_Kreis       16\n",
            "Kronach_Kreis                      11\n",
            "Name: geo_krs, Length: 419, dtype: int64\n",
            "cols : condition ,\n",
            " well_kept                             126907\n",
            "refurbished                            24750\n",
            "fully_renovated                        24154\n",
            "first_time_use                         21015\n",
            "mint_condition                         19981\n",
            "modernized                             15625\n",
            "first_time_use_after_refurbishment     14641\n",
            "negotiable                              2103\n",
            "need_of_renovation                      1287\n",
            "ripe_for_demolition                        4\n",
            "Name: condition, dtype: int64\n",
            "cols : interiorQual ,\n",
            " normal           182712\n",
            "sophisticated     59217\n",
            "luxury             6735\n",
            "simple             1803\n",
            "Name: interiorQual, dtype: int64\n",
            "cols : petsAllowed ,\n",
            " negotiable    193138\n",
            "no             47611\n",
            "yes             9718\n",
            "Name: petsAllowed, dtype: int64\n",
            "cols : street ,\n",
            " no_information            67283\n",
            "Hauptstra&szlig;e           866\n",
            "Bahnhofstra&szlig;e         809\n",
            "Leipziger Stra&szlig;e      410\n",
            "Goethestra&szlig;e          387\n",
            "                          ...  \n",
            "Tannenwaldallee               1\n",
            "Teerhof                       1\n",
            "Schauinslandstr.              1\n",
            "Am Gartenkamp                 1\n",
            "Mirastr.                      1\n",
            "Name: street, Length: 49145, dtype: int64\n",
            "cols : streetPlain ,\n",
            " Hauptstraße            68128\n",
            "Bahnhofstraße            798\n",
            "Leipziger_Straße         400\n",
            "Goethestraße             381\n",
            "Bahnhofstr.              371\n",
            "                       ...  \n",
            "Grevenberger_Straße        1\n",
            "Von-Klespe-Straße          1\n",
            "Baienfurter_Weg            1\n",
            "Meilerstr.                 1\n",
            "Hosdedderstr               1\n",
            "Name: streetPlain, Length: 50939, dtype: int64\n",
            "cols : lift ,\n",
            " False    191379\n",
            "True      59088\n",
            "Name: lift, dtype: int64\n",
            "cols : typeOfFlat ,\n",
            " apartment              156973\n",
            "roof_storey             32145\n",
            "ground_floor            29688\n",
            "other                    8962\n",
            "maisonette               8380\n",
            "raised_ground_floor      5208\n",
            "penthouse                3278\n",
            "terraced_flat            3098\n",
            "half_basement            1879\n",
            "loft                      856\n",
            "Name: typeOfFlat, dtype: int64\n",
            "cols : garden ,\n",
            " False    202375\n",
            "True      48092\n",
            "Name: garden, dtype: int64\n",
            "cols : regio2 ,\n",
            " Leipzig                         13146\n",
            "Chemnitz                        11966\n",
            "Berlin                           7803\n",
            "Dresden                          7234\n",
            "Magdeburg                        4579\n",
            "                                ...  \n",
            "Schweinfurt_Kreis                  26\n",
            "Freyung_Grafenau_Kreis             20\n",
            "Haßberge_Kreis                     19\n",
            "Neustadt_a.d._Waldnaab_Kreis       16\n",
            "Kronach_Kreis                      11\n",
            "Name: regio2, Length: 419, dtype: int64\n",
            "cols : regio3 ,\n",
            " Innenstadt                  4407\n",
            "Stadtmitte                  2546\n",
            "Altstadt                    2170\n",
            "Sonnenberg                  1855\n",
            "Kaßberg                     1617\n",
            "                            ... \n",
            "Stöttwang                      1\n",
            "Aystetten                      1\n",
            "Wittbek                        1\n",
            "Heimbuchenthal                 1\n",
            "Herschweiler_Pettersheim       1\n",
            "Name: regio3, Length: 8508, dtype: int64\n"
          ],
          "name": "stdout"
        }
      ]
    },
    {
      "cell_type": "markdown",
      "metadata": {
        "id": "4Ryv5HwnJGj-"
      },
      "source": [
        "## reduce number of categories"
      ]
    },
    {
      "cell_type": "code",
      "metadata": {
        "colab": {
          "base_uri": "https://localhost:8080/"
        },
        "id": "r73udnLMIcoB",
        "outputId": "eba3b441-f41a-4dd0-e18d-53a35030aef0"
      },
      "source": [
        "df = df.drop(columns=['houseNumber','geo_krs', 'street','streetPlain','regio3','regio2'])\n",
        "df.shape"
      ],
      "execution_count": 26,
      "outputs": [
        {
          "output_type": "execute_result",
          "data": {
            "text/plain": [
              "(250467, 33)"
            ]
          },
          "metadata": {
            "tags": []
          },
          "execution_count": 26
        }
      ]
    },
    {
      "cell_type": "code",
      "metadata": {
        "colab": {
          "base_uri": "https://localhost:8080/"
        },
        "id": "17ngE9RnJaP6",
        "outputId": "b843c769-504a-41f1-e779-74b03de1e2ab"
      },
      "source": [
        "others = list(df['firingTypes'].value_counts().tail(125).index)\n",
        "def edit_firingTypes(x):\n",
        "    if x in others:\n",
        "        return 'other'\n",
        "    else:\n",
        "        return x\n",
        "\n",
        "df['firingTypes_edit'] = df['firingTypes'].apply(edit_firingTypes)\n",
        "df = df.drop(columns = ['firingTypes'])\n",
        "df['firingTypes_edit'].value_counts()*100 / len(df)"
      ],
      "execution_count": 27,
      "outputs": [
        {
          "output_type": "execute_result",
          "data": {
            "text/plain": [
              "gas                 62.401434\n",
              "district_heating    18.545357\n",
              "other               12.454735\n",
              "oil                  6.598474\n",
              "Name: firingTypes_edit, dtype: float64"
            ]
          },
          "metadata": {
            "tags": []
          },
          "execution_count": 27
        }
      ]
    },
    {
      "cell_type": "markdown",
      "metadata": {
        "id": "ab1YtJhcK6d9"
      },
      "source": [
        "# Correlation Matrix"
      ]
    },
    {
      "cell_type": "code",
      "metadata": {
        "id": "YYpgm3jBaVi9"
      },
      "source": [
        "import seaborn as sns\n",
        "import matplotlib.pyplot as plt"
      ],
      "execution_count": null,
      "outputs": []
    },
    {
      "cell_type": "code",
      "metadata": {
        "id": "p51yFoQeK5Vx"
      },
      "source": [
        "corr = df.corr()"
      ],
      "execution_count": 28,
      "outputs": []
    },
    {
      "cell_type": "code",
      "metadata": {
        "colab": {
          "base_uri": "https://localhost:8080/",
          "height": 1000
        },
        "id": "oF8Jrog6LRma",
        "outputId": "0a5ba9b4-bcda-4182-f6b2-151cc179784c"
      },
      "source": [
        "f, ax = plt.subplots(figsize=(25, 30))\n",
        "\n",
        "sns.heatmap(corr, square = True ,annot = True)"
      ],
      "execution_count": 29,
      "outputs": [
        {
          "output_type": "execute_result",
          "data": {
            "text/plain": [
              "<matplotlib.axes._subplots.AxesSubplot at 0x7f0c14e72390>"
            ]
          },
          "metadata": {
            "tags": []
          },
          "execution_count": 29
        },
        {
          "output_type": "display_data",
          "data": {
            "image/png": "[encoded data removed]",
            "text/plain": [
              "<Figure size 1800x2160 with 2 Axes>"
            ]
          },
          "metadata": {
            "tags": [],
            "needs_background": "light"
          }
        }
      ]
    },
    {
      "cell_type": "markdown",
      "metadata": {
        "id": "-vR9mGG4MfQl"
      },
      "source": [
        "most correlation with livingSpace: livingSpaceRange 0.95\n",
        "least correlation: numberOfFloors -0.083"
      ]
    },
    {
      "cell_type": "markdown",
      "metadata": {
        "id": "WB1C2GAmPqHU"
      },
      "source": [
        "# convert categorical data to dummies variables"
      ]
    },
    {
      "cell_type": "code",
      "metadata": {
        "colab": {
          "base_uri": "https://localhost:8080/"
        },
        "id": "xpB6bIdGJaRy",
        "outputId": "b47cd535-849f-490c-c7e7-a47f987eafa1"
      },
      "source": [
        "columns=[]\n",
        "for cols in df.columns:\n",
        "    if df[cols].dtype == 'object' or df[cols].dtype == 'bool':\n",
        "        columns.append(cols)\n",
        "        \n",
        "columns"
      ],
      "execution_count": 30,
      "outputs": [
        {
          "output_type": "execute_result",
          "data": {
            "text/plain": [
              "['regio1',\n",
              " 'heatingType',\n",
              " 'telekomTvOffer',\n",
              " 'newlyConst',\n",
              " 'balcony',\n",
              " 'hasKitchen',\n",
              " 'geo_bln',\n",
              " 'cellar',\n",
              " 'condition',\n",
              " 'interiorQual',\n",
              " 'petsAllowed',\n",
              " 'lift',\n",
              " 'typeOfFlat',\n",
              " 'garden',\n",
              " 'firingTypes_edit']"
            ]
          },
          "metadata": {
            "tags": []
          },
          "execution_count": 30
        }
      ]
    },
    {
      "cell_type": "code",
      "metadata": {
        "colab": {
          "base_uri": "https://localhost:8080/",
          "height": 0
        },
        "id": "BxU4gdBMOIEG",
        "outputId": "c670841b-aaa5-4f2c-9a91-ef114e2f91d8"
      },
      "source": [
        "dummies_feature = pd.get_dummies(df[columns])\n",
        "dummies_feature.head()"
      ],
      "execution_count": 31,
      "outputs": [
        {
          "output_type": "execute_result",
          "data": {
            "text/html": [
              "<div>\n",
              "<style scoped>\n",
              "    .dataframe tbody tr th:only-of-type {\n",
              "        vertical-align: middle;\n",
              "    }\n",
              "\n",
              "    .dataframe tbody tr th {\n",
              "        vertical-align: top;\n",
              "    }\n",
              "\n",
              "    .dataframe thead th {\n",
              "        text-align: right;\n",
              "    }\n",
              "</style>\n",
              "<table border=\"1\" class=\"dataframe\">\n",
              "  <thead>\n",
              "    <tr style=\"text-align: right;\">\n",
              "      <th></th>\n",
              "      <th>newlyConst</th>\n",
              "      <th>balcony</th>\n",
              "      <th>hasKitchen</th>\n",
              "      <th>cellar</th>\n",
              "      <th>lift</th>\n",
              "      <th>garden</th>\n",
              "      <th>regio1_Baden_Württemberg</th>\n",
              "      <th>regio1_Bayern</th>\n",
              "      <th>regio1_Berlin</th>\n",
              "      <th>regio1_Brandenburg</th>\n",
              "      <th>regio1_Bremen</th>\n",
              "      <th>regio1_Hamburg</th>\n",
              "      <th>regio1_Hessen</th>\n",
              "      <th>regio1_Mecklenburg_Vorpommern</th>\n",
              "      <th>regio1_Niedersachsen</th>\n",
              "      <th>regio1_Nordrhein_Westfalen</th>\n",
              "      <th>regio1_Rheinland_Pfalz</th>\n",
              "      <th>regio1_Saarland</th>\n",
              "      <th>regio1_Sachsen</th>\n",
              "      <th>regio1_Sachsen_Anhalt</th>\n",
              "      <th>regio1_Schleswig_Holstein</th>\n",
              "      <th>regio1_Thüringen</th>\n",
              "      <th>heatingType_central_heating</th>\n",
              "      <th>heatingType_combined_heat_and_power_plant</th>\n",
              "      <th>heatingType_district_heating</th>\n",
              "      <th>heatingType_electric_heating</th>\n",
              "      <th>heatingType_floor_heating</th>\n",
              "      <th>heatingType_gas_heating</th>\n",
              "      <th>heatingType_heat_pump</th>\n",
              "      <th>heatingType_night_storage_heater</th>\n",
              "      <th>heatingType_oil_heating</th>\n",
              "      <th>heatingType_self_contained_central_heating</th>\n",
              "      <th>heatingType_solar_heating</th>\n",
              "      <th>heatingType_stove_heating</th>\n",
              "      <th>heatingType_wood_pellet_heating</th>\n",
              "      <th>telekomTvOffer_NONE</th>\n",
              "      <th>telekomTvOffer_ONE_YEAR_FREE</th>\n",
              "      <th>telekomTvOffer_ON_DEMAND</th>\n",
              "      <th>geo_bln_Baden_Württemberg</th>\n",
              "      <th>geo_bln_Bayern</th>\n",
              "      <th>...</th>\n",
              "      <th>geo_bln_Mecklenburg_Vorpommern</th>\n",
              "      <th>geo_bln_Niedersachsen</th>\n",
              "      <th>geo_bln_Nordrhein_Westfalen</th>\n",
              "      <th>geo_bln_Rheinland_Pfalz</th>\n",
              "      <th>geo_bln_Saarland</th>\n",
              "      <th>geo_bln_Sachsen</th>\n",
              "      <th>geo_bln_Sachsen_Anhalt</th>\n",
              "      <th>geo_bln_Schleswig_Holstein</th>\n",
              "      <th>geo_bln_Thüringen</th>\n",
              "      <th>condition_first_time_use</th>\n",
              "      <th>condition_first_time_use_after_refurbishment</th>\n",
              "      <th>condition_fully_renovated</th>\n",
              "      <th>condition_mint_condition</th>\n",
              "      <th>condition_modernized</th>\n",
              "      <th>condition_need_of_renovation</th>\n",
              "      <th>condition_negotiable</th>\n",
              "      <th>condition_refurbished</th>\n",
              "      <th>condition_ripe_for_demolition</th>\n",
              "      <th>condition_well_kept</th>\n",
              "      <th>interiorQual_luxury</th>\n",
              "      <th>interiorQual_normal</th>\n",
              "      <th>interiorQual_simple</th>\n",
              "      <th>interiorQual_sophisticated</th>\n",
              "      <th>petsAllowed_negotiable</th>\n",
              "      <th>petsAllowed_no</th>\n",
              "      <th>petsAllowed_yes</th>\n",
              "      <th>typeOfFlat_apartment</th>\n",
              "      <th>typeOfFlat_ground_floor</th>\n",
              "      <th>typeOfFlat_half_basement</th>\n",
              "      <th>typeOfFlat_loft</th>\n",
              "      <th>typeOfFlat_maisonette</th>\n",
              "      <th>typeOfFlat_other</th>\n",
              "      <th>typeOfFlat_penthouse</th>\n",
              "      <th>typeOfFlat_raised_ground_floor</th>\n",
              "      <th>typeOfFlat_roof_storey</th>\n",
              "      <th>typeOfFlat_terraced_flat</th>\n",
              "      <th>firingTypes_edit_district_heating</th>\n",
              "      <th>firingTypes_edit_gas</th>\n",
              "      <th>firingTypes_edit_oil</th>\n",
              "      <th>firingTypes_edit_other</th>\n",
              "    </tr>\n",
              "  </thead>\n",
              "  <tbody>\n",
              "    <tr>\n",
              "      <th>0</th>\n",
              "      <td>False</td>\n",
              "      <td>False</td>\n",
              "      <td>False</td>\n",
              "      <td>True</td>\n",
              "      <td>False</td>\n",
              "      <td>True</td>\n",
              "      <td>0</td>\n",
              "      <td>0</td>\n",
              "      <td>0</td>\n",
              "      <td>0</td>\n",
              "      <td>0</td>\n",
              "      <td>0</td>\n",
              "      <td>0</td>\n",
              "      <td>0</td>\n",
              "      <td>0</td>\n",
              "      <td>1</td>\n",
              "      <td>0</td>\n",
              "      <td>0</td>\n",
              "      <td>0</td>\n",
              "      <td>0</td>\n",
              "      <td>0</td>\n",
              "      <td>0</td>\n",
              "      <td>1</td>\n",
              "      <td>0</td>\n",
              "      <td>0</td>\n",
              "      <td>0</td>\n",
              "      <td>0</td>\n",
              "      <td>0</td>\n",
              "      <td>0</td>\n",
              "      <td>0</td>\n",
              "      <td>0</td>\n",
              "      <td>0</td>\n",
              "      <td>0</td>\n",
              "      <td>0</td>\n",
              "      <td>0</td>\n",
              "      <td>0</td>\n",
              "      <td>1</td>\n",
              "      <td>0</td>\n",
              "      <td>0</td>\n",
              "      <td>0</td>\n",
              "      <td>...</td>\n",
              "      <td>0</td>\n",
              "      <td>0</td>\n",
              "      <td>1</td>\n",
              "      <td>0</td>\n",
              "      <td>0</td>\n",
              "      <td>0</td>\n",
              "      <td>0</td>\n",
              "      <td>0</td>\n",
              "      <td>0</td>\n",
              "      <td>0</td>\n",
              "      <td>0</td>\n",
              "      <td>0</td>\n",
              "      <td>0</td>\n",
              "      <td>0</td>\n",
              "      <td>0</td>\n",
              "      <td>0</td>\n",
              "      <td>0</td>\n",
              "      <td>0</td>\n",
              "      <td>1</td>\n",
              "      <td>0</td>\n",
              "      <td>1</td>\n",
              "      <td>0</td>\n",
              "      <td>0</td>\n",
              "      <td>1</td>\n",
              "      <td>0</td>\n",
              "      <td>0</td>\n",
              "      <td>0</td>\n",
              "      <td>1</td>\n",
              "      <td>0</td>\n",
              "      <td>0</td>\n",
              "      <td>0</td>\n",
              "      <td>0</td>\n",
              "      <td>0</td>\n",
              "      <td>0</td>\n",
              "      <td>0</td>\n",
              "      <td>0</td>\n",
              "      <td>0</td>\n",
              "      <td>0</td>\n",
              "      <td>1</td>\n",
              "      <td>0</td>\n",
              "    </tr>\n",
              "    <tr>\n",
              "      <th>1</th>\n",
              "      <td>False</td>\n",
              "      <td>True</td>\n",
              "      <td>False</td>\n",
              "      <td>False</td>\n",
              "      <td>False</td>\n",
              "      <td>False</td>\n",
              "      <td>0</td>\n",
              "      <td>0</td>\n",
              "      <td>0</td>\n",
              "      <td>0</td>\n",
              "      <td>0</td>\n",
              "      <td>0</td>\n",
              "      <td>0</td>\n",
              "      <td>0</td>\n",
              "      <td>0</td>\n",
              "      <td>0</td>\n",
              "      <td>1</td>\n",
              "      <td>0</td>\n",
              "      <td>0</td>\n",
              "      <td>0</td>\n",
              "      <td>0</td>\n",
              "      <td>0</td>\n",
              "      <td>0</td>\n",
              "      <td>0</td>\n",
              "      <td>0</td>\n",
              "      <td>0</td>\n",
              "      <td>0</td>\n",
              "      <td>0</td>\n",
              "      <td>0</td>\n",
              "      <td>0</td>\n",
              "      <td>0</td>\n",
              "      <td>1</td>\n",
              "      <td>0</td>\n",
              "      <td>0</td>\n",
              "      <td>0</td>\n",
              "      <td>0</td>\n",
              "      <td>1</td>\n",
              "      <td>0</td>\n",
              "      <td>0</td>\n",
              "      <td>0</td>\n",
              "      <td>...</td>\n",
              "      <td>0</td>\n",
              "      <td>0</td>\n",
              "      <td>0</td>\n",
              "      <td>1</td>\n",
              "      <td>0</td>\n",
              "      <td>0</td>\n",
              "      <td>0</td>\n",
              "      <td>0</td>\n",
              "      <td>0</td>\n",
              "      <td>0</td>\n",
              "      <td>0</td>\n",
              "      <td>0</td>\n",
              "      <td>0</td>\n",
              "      <td>0</td>\n",
              "      <td>0</td>\n",
              "      <td>0</td>\n",
              "      <td>1</td>\n",
              "      <td>0</td>\n",
              "      <td>0</td>\n",
              "      <td>0</td>\n",
              "      <td>1</td>\n",
              "      <td>0</td>\n",
              "      <td>0</td>\n",
              "      <td>0</td>\n",
              "      <td>1</td>\n",
              "      <td>0</td>\n",
              "      <td>0</td>\n",
              "      <td>1</td>\n",
              "      <td>0</td>\n",
              "      <td>0</td>\n",
              "      <td>0</td>\n",
              "      <td>0</td>\n",
              "      <td>0</td>\n",
              "      <td>0</td>\n",
              "      <td>0</td>\n",
              "      <td>0</td>\n",
              "      <td>0</td>\n",
              "      <td>1</td>\n",
              "      <td>0</td>\n",
              "      <td>0</td>\n",
              "    </tr>\n",
              "    <tr>\n",
              "      <th>2</th>\n",
              "      <td>True</td>\n",
              "      <td>True</td>\n",
              "      <td>False</td>\n",
              "      <td>True</td>\n",
              "      <td>True</td>\n",
              "      <td>False</td>\n",
              "      <td>0</td>\n",
              "      <td>0</td>\n",
              "      <td>0</td>\n",
              "      <td>0</td>\n",
              "      <td>0</td>\n",
              "      <td>0</td>\n",
              "      <td>0</td>\n",
              "      <td>0</td>\n",
              "      <td>0</td>\n",
              "      <td>0</td>\n",
              "      <td>0</td>\n",
              "      <td>0</td>\n",
              "      <td>1</td>\n",
              "      <td>0</td>\n",
              "      <td>0</td>\n",
              "      <td>0</td>\n",
              "      <td>0</td>\n",
              "      <td>0</td>\n",
              "      <td>0</td>\n",
              "      <td>0</td>\n",
              "      <td>1</td>\n",
              "      <td>0</td>\n",
              "      <td>0</td>\n",
              "      <td>0</td>\n",
              "      <td>0</td>\n",
              "      <td>0</td>\n",
              "      <td>0</td>\n",
              "      <td>0</td>\n",
              "      <td>0</td>\n",
              "      <td>0</td>\n",
              "      <td>1</td>\n",
              "      <td>0</td>\n",
              "      <td>0</td>\n",
              "      <td>0</td>\n",
              "      <td>...</td>\n",
              "      <td>0</td>\n",
              "      <td>0</td>\n",
              "      <td>0</td>\n",
              "      <td>0</td>\n",
              "      <td>0</td>\n",
              "      <td>1</td>\n",
              "      <td>0</td>\n",
              "      <td>0</td>\n",
              "      <td>0</td>\n",
              "      <td>1</td>\n",
              "      <td>0</td>\n",
              "      <td>0</td>\n",
              "      <td>0</td>\n",
              "      <td>0</td>\n",
              "      <td>0</td>\n",
              "      <td>0</td>\n",
              "      <td>0</td>\n",
              "      <td>0</td>\n",
              "      <td>0</td>\n",
              "      <td>0</td>\n",
              "      <td>0</td>\n",
              "      <td>0</td>\n",
              "      <td>1</td>\n",
              "      <td>1</td>\n",
              "      <td>0</td>\n",
              "      <td>0</td>\n",
              "      <td>1</td>\n",
              "      <td>0</td>\n",
              "      <td>0</td>\n",
              "      <td>0</td>\n",
              "      <td>0</td>\n",
              "      <td>0</td>\n",
              "      <td>0</td>\n",
              "      <td>0</td>\n",
              "      <td>0</td>\n",
              "      <td>0</td>\n",
              "      <td>0</td>\n",
              "      <td>1</td>\n",
              "      <td>0</td>\n",
              "      <td>0</td>\n",
              "    </tr>\n",
              "    <tr>\n",
              "      <th>3</th>\n",
              "      <td>False</td>\n",
              "      <td>True</td>\n",
              "      <td>False</td>\n",
              "      <td>False</td>\n",
              "      <td>False</td>\n",
              "      <td>False</td>\n",
              "      <td>0</td>\n",
              "      <td>0</td>\n",
              "      <td>0</td>\n",
              "      <td>0</td>\n",
              "      <td>0</td>\n",
              "      <td>0</td>\n",
              "      <td>0</td>\n",
              "      <td>0</td>\n",
              "      <td>0</td>\n",
              "      <td>0</td>\n",
              "      <td>0</td>\n",
              "      <td>0</td>\n",
              "      <td>1</td>\n",
              "      <td>0</td>\n",
              "      <td>0</td>\n",
              "      <td>0</td>\n",
              "      <td>0</td>\n",
              "      <td>0</td>\n",
              "      <td>1</td>\n",
              "      <td>0</td>\n",
              "      <td>0</td>\n",
              "      <td>0</td>\n",
              "      <td>0</td>\n",
              "      <td>0</td>\n",
              "      <td>0</td>\n",
              "      <td>0</td>\n",
              "      <td>0</td>\n",
              "      <td>0</td>\n",
              "      <td>0</td>\n",
              "      <td>0</td>\n",
              "      <td>1</td>\n",
              "      <td>0</td>\n",
              "      <td>0</td>\n",
              "      <td>0</td>\n",
              "      <td>...</td>\n",
              "      <td>0</td>\n",
              "      <td>0</td>\n",
              "      <td>0</td>\n",
              "      <td>0</td>\n",
              "      <td>0</td>\n",
              "      <td>1</td>\n",
              "      <td>0</td>\n",
              "      <td>0</td>\n",
              "      <td>0</td>\n",
              "      <td>0</td>\n",
              "      <td>0</td>\n",
              "      <td>0</td>\n",
              "      <td>0</td>\n",
              "      <td>0</td>\n",
              "      <td>0</td>\n",
              "      <td>0</td>\n",
              "      <td>0</td>\n",
              "      <td>0</td>\n",
              "      <td>1</td>\n",
              "      <td>0</td>\n",
              "      <td>1</td>\n",
              "      <td>0</td>\n",
              "      <td>0</td>\n",
              "      <td>1</td>\n",
              "      <td>0</td>\n",
              "      <td>0</td>\n",
              "      <td>0</td>\n",
              "      <td>0</td>\n",
              "      <td>0</td>\n",
              "      <td>0</td>\n",
              "      <td>0</td>\n",
              "      <td>1</td>\n",
              "      <td>0</td>\n",
              "      <td>0</td>\n",
              "      <td>0</td>\n",
              "      <td>0</td>\n",
              "      <td>1</td>\n",
              "      <td>0</td>\n",
              "      <td>0</td>\n",
              "      <td>0</td>\n",
              "    </tr>\n",
              "    <tr>\n",
              "      <th>4</th>\n",
              "      <td>False</td>\n",
              "      <td>True</td>\n",
              "      <td>False</td>\n",
              "      <td>False</td>\n",
              "      <td>False</td>\n",
              "      <td>False</td>\n",
              "      <td>0</td>\n",
              "      <td>0</td>\n",
              "      <td>0</td>\n",
              "      <td>0</td>\n",
              "      <td>1</td>\n",
              "      <td>0</td>\n",
              "      <td>0</td>\n",
              "      <td>0</td>\n",
              "      <td>0</td>\n",
              "      <td>0</td>\n",
              "      <td>0</td>\n",
              "      <td>0</td>\n",
              "      <td>0</td>\n",
              "      <td>0</td>\n",
              "      <td>0</td>\n",
              "      <td>0</td>\n",
              "      <td>0</td>\n",
              "      <td>0</td>\n",
              "      <td>0</td>\n",
              "      <td>0</td>\n",
              "      <td>0</td>\n",
              "      <td>0</td>\n",
              "      <td>0</td>\n",
              "      <td>0</td>\n",
              "      <td>0</td>\n",
              "      <td>1</td>\n",
              "      <td>0</td>\n",
              "      <td>0</td>\n",
              "      <td>0</td>\n",
              "      <td>0</td>\n",
              "      <td>1</td>\n",
              "      <td>0</td>\n",
              "      <td>0</td>\n",
              "      <td>0</td>\n",
              "      <td>...</td>\n",
              "      <td>0</td>\n",
              "      <td>0</td>\n",
              "      <td>0</td>\n",
              "      <td>0</td>\n",
              "      <td>0</td>\n",
              "      <td>0</td>\n",
              "      <td>0</td>\n",
              "      <td>0</td>\n",
              "      <td>0</td>\n",
              "      <td>0</td>\n",
              "      <td>0</td>\n",
              "      <td>0</td>\n",
              "      <td>0</td>\n",
              "      <td>0</td>\n",
              "      <td>0</td>\n",
              "      <td>0</td>\n",
              "      <td>1</td>\n",
              "      <td>0</td>\n",
              "      <td>0</td>\n",
              "      <td>0</td>\n",
              "      <td>1</td>\n",
              "      <td>0</td>\n",
              "      <td>0</td>\n",
              "      <td>1</td>\n",
              "      <td>0</td>\n",
              "      <td>0</td>\n",
              "      <td>1</td>\n",
              "      <td>0</td>\n",
              "      <td>0</td>\n",
              "      <td>0</td>\n",
              "      <td>0</td>\n",
              "      <td>0</td>\n",
              "      <td>0</td>\n",
              "      <td>0</td>\n",
              "      <td>0</td>\n",
              "      <td>0</td>\n",
              "      <td>0</td>\n",
              "      <td>1</td>\n",
              "      <td>0</td>\n",
              "      <td>0</td>\n",
              "    </tr>\n",
              "  </tbody>\n",
              "</table>\n",
              "<p>5 rows × 85 columns</p>\n",
              "</div>"
            ],
            "text/plain": [
              "   newlyConst  balcony  ...  firingTypes_edit_oil  firingTypes_edit_other\n",
              "0       False    False  ...                     1                       0\n",
              "1       False     True  ...                     0                       0\n",
              "2        True     True  ...                     0                       0\n",
              "3       False     True  ...                     0                       0\n",
              "4       False     True  ...                     0                       0\n",
              "\n",
              "[5 rows x 85 columns]"
            ]
          },
          "metadata": {
            "tags": []
          },
          "execution_count": 31
        }
      ]
    },
    {
      "cell_type": "code",
      "metadata": {
        "colab": {
          "base_uri": "https://localhost:8080/",
          "height": 0
        },
        "id": "Q-lUYriVJaVD",
        "outputId": "00d0ce1f-2660-4443-f192-594f0d9764ee"
      },
      "source": [
        "df = pd.concat([df, dummies_feature], axis=1)\n",
        "df.head()"
      ],
      "execution_count": 32,
      "outputs": [
        {
          "output_type": "execute_result",
          "data": {
            "text/html": [
              "<div>\n",
              "<style scoped>\n",
              "    .dataframe tbody tr th:only-of-type {\n",
              "        vertical-align: middle;\n",
              "    }\n",
              "\n",
              "    .dataframe tbody tr th {\n",
              "        vertical-align: top;\n",
              "    }\n",
              "\n",
              "    .dataframe thead th {\n",
              "        text-align: right;\n",
              "    }\n",
              "</style>\n",
              "<table border=\"1\" class=\"dataframe\">\n",
              "  <thead>\n",
              "    <tr style=\"text-align: right;\">\n",
              "      <th></th>\n",
              "      <th>regio1</th>\n",
              "      <th>serviceCharge</th>\n",
              "      <th>heatingType</th>\n",
              "      <th>telekomTvOffer</th>\n",
              "      <th>newlyConst</th>\n",
              "      <th>balcony</th>\n",
              "      <th>picturecount</th>\n",
              "      <th>pricetrend</th>\n",
              "      <th>telekomUploadSpeed</th>\n",
              "      <th>totalRent</th>\n",
              "      <th>yearConstructed</th>\n",
              "      <th>scoutId</th>\n",
              "      <th>hasKitchen</th>\n",
              "      <th>geo_bln</th>\n",
              "      <th>cellar</th>\n",
              "      <th>yearConstructedRange</th>\n",
              "      <th>baseRent</th>\n",
              "      <th>livingSpace</th>\n",
              "      <th>condition</th>\n",
              "      <th>interiorQual</th>\n",
              "      <th>petsAllowed</th>\n",
              "      <th>lift</th>\n",
              "      <th>baseRentRange</th>\n",
              "      <th>typeOfFlat</th>\n",
              "      <th>geo_plz</th>\n",
              "      <th>noRooms</th>\n",
              "      <th>thermalChar</th>\n",
              "      <th>floor</th>\n",
              "      <th>numberOfFloors</th>\n",
              "      <th>noRoomsRange</th>\n",
              "      <th>garden</th>\n",
              "      <th>livingSpaceRange</th>\n",
              "      <th>firingTypes_edit</th>\n",
              "      <th>newlyConst</th>\n",
              "      <th>balcony</th>\n",
              "      <th>hasKitchen</th>\n",
              "      <th>cellar</th>\n",
              "      <th>lift</th>\n",
              "      <th>garden</th>\n",
              "      <th>regio1_Baden_Württemberg</th>\n",
              "      <th>...</th>\n",
              "      <th>geo_bln_Mecklenburg_Vorpommern</th>\n",
              "      <th>geo_bln_Niedersachsen</th>\n",
              "      <th>geo_bln_Nordrhein_Westfalen</th>\n",
              "      <th>geo_bln_Rheinland_Pfalz</th>\n",
              "      <th>geo_bln_Saarland</th>\n",
              "      <th>geo_bln_Sachsen</th>\n",
              "      <th>geo_bln_Sachsen_Anhalt</th>\n",
              "      <th>geo_bln_Schleswig_Holstein</th>\n",
              "      <th>geo_bln_Thüringen</th>\n",
              "      <th>condition_first_time_use</th>\n",
              "      <th>condition_first_time_use_after_refurbishment</th>\n",
              "      <th>condition_fully_renovated</th>\n",
              "      <th>condition_mint_condition</th>\n",
              "      <th>condition_modernized</th>\n",
              "      <th>condition_need_of_renovation</th>\n",
              "      <th>condition_negotiable</th>\n",
              "      <th>condition_refurbished</th>\n",
              "      <th>condition_ripe_for_demolition</th>\n",
              "      <th>condition_well_kept</th>\n",
              "      <th>interiorQual_luxury</th>\n",
              "      <th>interiorQual_normal</th>\n",
              "      <th>interiorQual_simple</th>\n",
              "      <th>interiorQual_sophisticated</th>\n",
              "      <th>petsAllowed_negotiable</th>\n",
              "      <th>petsAllowed_no</th>\n",
              "      <th>petsAllowed_yes</th>\n",
              "      <th>typeOfFlat_apartment</th>\n",
              "      <th>typeOfFlat_ground_floor</th>\n",
              "      <th>typeOfFlat_half_basement</th>\n",
              "      <th>typeOfFlat_loft</th>\n",
              "      <th>typeOfFlat_maisonette</th>\n",
              "      <th>typeOfFlat_other</th>\n",
              "      <th>typeOfFlat_penthouse</th>\n",
              "      <th>typeOfFlat_raised_ground_floor</th>\n",
              "      <th>typeOfFlat_roof_storey</th>\n",
              "      <th>typeOfFlat_terraced_flat</th>\n",
              "      <th>firingTypes_edit_district_heating</th>\n",
              "      <th>firingTypes_edit_gas</th>\n",
              "      <th>firingTypes_edit_oil</th>\n",
              "      <th>firingTypes_edit_other</th>\n",
              "    </tr>\n",
              "  </thead>\n",
              "  <tbody>\n",
              "    <tr>\n",
              "      <th>0</th>\n",
              "      <td>Nordrhein_Westfalen</td>\n",
              "      <td>0.308220</td>\n",
              "      <td>central_heating</td>\n",
              "      <td>ONE_YEAR_FREE</td>\n",
              "      <td>False</td>\n",
              "      <td>False</td>\n",
              "      <td>-0.591717</td>\n",
              "      <td>0.628648</td>\n",
              "      <td>-1.229879e+00</td>\n",
              "      <td>-2.002236e-03</td>\n",
              "      <td>-0.033579</td>\n",
              "      <td>-0.868944</td>\n",
              "      <td>False</td>\n",
              "      <td>Nordrhein_Westfalen</td>\n",
              "      <td>True</td>\n",
              "      <td>-0.705474</td>\n",
              "      <td>-0.005074</td>\n",
              "      <td>0.045708</td>\n",
              "      <td>well_kept</td>\n",
              "      <td>normal</td>\n",
              "      <td>negotiable</td>\n",
              "      <td>False</td>\n",
              "      <td>0.106010</td>\n",
              "      <td>ground_floor</td>\n",
              "      <td>0.251312</td>\n",
              "      <td>0.515956</td>\n",
              "      <td>1.391175e+00</td>\n",
              "      <td>-3.432713e-01</td>\n",
              "      <td>-1.125204e-01</td>\n",
              "      <td>1.523536</td>\n",
              "      <td>True</td>\n",
              "      <td>0.660359</td>\n",
              "      <td>oil</td>\n",
              "      <td>False</td>\n",
              "      <td>False</td>\n",
              "      <td>False</td>\n",
              "      <td>True</td>\n",
              "      <td>False</td>\n",
              "      <td>True</td>\n",
              "      <td>0</td>\n",
              "      <td>...</td>\n",
              "      <td>0</td>\n",
              "      <td>0</td>\n",
              "      <td>1</td>\n",
              "      <td>0</td>\n",
              "      <td>0</td>\n",
              "      <td>0</td>\n",
              "      <td>0</td>\n",
              "      <td>0</td>\n",
              "      <td>0</td>\n",
              "      <td>0</td>\n",
              "      <td>0</td>\n",
              "      <td>0</td>\n",
              "      <td>0</td>\n",
              "      <td>0</td>\n",
              "      <td>0</td>\n",
              "      <td>0</td>\n",
              "      <td>0</td>\n",
              "      <td>0</td>\n",
              "      <td>1</td>\n",
              "      <td>0</td>\n",
              "      <td>1</td>\n",
              "      <td>0</td>\n",
              "      <td>0</td>\n",
              "      <td>1</td>\n",
              "      <td>0</td>\n",
              "      <td>0</td>\n",
              "      <td>0</td>\n",
              "      <td>1</td>\n",
              "      <td>0</td>\n",
              "      <td>0</td>\n",
              "      <td>0</td>\n",
              "      <td>0</td>\n",
              "      <td>0</td>\n",
              "      <td>0</td>\n",
              "      <td>0</td>\n",
              "      <td>0</td>\n",
              "      <td>0</td>\n",
              "      <td>0</td>\n",
              "      <td>1</td>\n",
              "      <td>0</td>\n",
              "    </tr>\n",
              "    <tr>\n",
              "      <th>1</th>\n",
              "      <td>Rheinland_Pfalz</td>\n",
              "      <td>-0.056542</td>\n",
              "      <td>self_contained_central_heating</td>\n",
              "      <td>ONE_YEAR_FREE</td>\n",
              "      <td>False</td>\n",
              "      <td>True</td>\n",
              "      <td>-0.279627</td>\n",
              "      <td>0.041365</td>\n",
              "      <td>-1.229879e+00</td>\n",
              "      <td>1.060728e-14</td>\n",
              "      <td>-2.287243</td>\n",
              "      <td>0.352699</td>\n",
              "      <td>False</td>\n",
              "      <td>Rheinland_Pfalz</td>\n",
              "      <td>False</td>\n",
              "      <td>-1.116939</td>\n",
              "      <td>0.005419</td>\n",
              "      <td>0.057484</td>\n",
              "      <td>refurbished</td>\n",
              "      <td>normal</td>\n",
              "      <td>no</td>\n",
              "      <td>False</td>\n",
              "      <td>0.557608</td>\n",
              "      <td>ground_floor</td>\n",
              "      <td>1.085543</td>\n",
              "      <td>0.136224</td>\n",
              "      <td>1.341014e-12</td>\n",
              "      <td>1.113710e-13</td>\n",
              "      <td>1.296553e-12</td>\n",
              "      <td>0.456976</td>\n",
              "      <td>False</td>\n",
              "      <td>0.660359</td>\n",
              "      <td>gas</td>\n",
              "      <td>False</td>\n",
              "      <td>True</td>\n",
              "      <td>False</td>\n",
              "      <td>False</td>\n",
              "      <td>False</td>\n",
              "      <td>False</td>\n",
              "      <td>0</td>\n",
              "      <td>...</td>\n",
              "      <td>0</td>\n",
              "      <td>0</td>\n",
              "      <td>0</td>\n",
              "      <td>1</td>\n",
              "      <td>0</td>\n",
              "      <td>0</td>\n",
              "      <td>0</td>\n",
              "      <td>0</td>\n",
              "      <td>0</td>\n",
              "      <td>0</td>\n",
              "      <td>0</td>\n",
              "      <td>0</td>\n",
              "      <td>0</td>\n",
              "      <td>0</td>\n",
              "      <td>0</td>\n",
              "      <td>0</td>\n",
              "      <td>1</td>\n",
              "      <td>0</td>\n",
              "      <td>0</td>\n",
              "      <td>0</td>\n",
              "      <td>1</td>\n",
              "      <td>0</td>\n",
              "      <td>0</td>\n",
              "      <td>0</td>\n",
              "      <td>1</td>\n",
              "      <td>0</td>\n",
              "      <td>0</td>\n",
              "      <td>1</td>\n",
              "      <td>0</td>\n",
              "      <td>0</td>\n",
              "      <td>0</td>\n",
              "      <td>0</td>\n",
              "      <td>0</td>\n",
              "      <td>0</td>\n",
              "      <td>0</td>\n",
              "      <td>0</td>\n",
              "      <td>0</td>\n",
              "      <td>1</td>\n",
              "      <td>0</td>\n",
              "      <td>0</td>\n",
              "    </tr>\n",
              "    <tr>\n",
              "      <th>2</th>\n",
              "      <td>Sachsen</td>\n",
              "      <td>0.341081</td>\n",
              "      <td>floor_heating</td>\n",
              "      <td>ONE_YEAR_FREE</td>\n",
              "      <td>True</td>\n",
              "      <td>True</td>\n",
              "      <td>-0.279627</td>\n",
              "      <td>-0.341646</td>\n",
              "      <td>-1.726934e+00</td>\n",
              "      <td>1.301498e-02</td>\n",
              "      <td>1.261079</td>\n",
              "      <td>0.494191</td>\n",
              "      <td>False</td>\n",
              "      <td>Sachsen</td>\n",
              "      <td>True</td>\n",
              "      <td>2.174778</td>\n",
              "      <td>0.013865</td>\n",
              "      <td>0.037072</td>\n",
              "      <td>first_time_use</td>\n",
              "      <td>sophisticated</td>\n",
              "      <td>negotiable</td>\n",
              "      <td>True</td>\n",
              "      <td>1.009207</td>\n",
              "      <td>apartment</td>\n",
              "      <td>-1.301747</td>\n",
              "      <td>0.136224</td>\n",
              "      <td>1.341014e-12</td>\n",
              "      <td>2.684000e-01</td>\n",
              "      <td>8.408414e-02</td>\n",
              "      <td>0.456976</td>\n",
              "      <td>False</td>\n",
              "      <td>0.660359</td>\n",
              "      <td>gas</td>\n",
              "      <td>True</td>\n",
              "      <td>True</td>\n",
              "      <td>False</td>\n",
              "      <td>True</td>\n",
              "      <td>True</td>\n",
              "      <td>False</td>\n",
              "      <td>0</td>\n",
              "      <td>...</td>\n",
              "      <td>0</td>\n",
              "      <td>0</td>\n",
              "      <td>0</td>\n",
              "      <td>0</td>\n",
              "      <td>0</td>\n",
              "      <td>1</td>\n",
              "      <td>0</td>\n",
              "      <td>0</td>\n",
              "      <td>0</td>\n",
              "      <td>1</td>\n",
              "      <td>0</td>\n",
              "      <td>0</td>\n",
              "      <td>0</td>\n",
              "      <td>0</td>\n",
              "      <td>0</td>\n",
              "      <td>0</td>\n",
              "      <td>0</td>\n",
              "      <td>0</td>\n",
              "      <td>0</td>\n",
              "      <td>0</td>\n",
              "      <td>0</td>\n",
              "      <td>0</td>\n",
              "      <td>1</td>\n",
              "      <td>1</td>\n",
              "      <td>0</td>\n",
              "      <td>0</td>\n",
              "      <td>1</td>\n",
              "      <td>0</td>\n",
              "      <td>0</td>\n",
              "      <td>0</td>\n",
              "      <td>0</td>\n",
              "      <td>0</td>\n",
              "      <td>0</td>\n",
              "      <td>0</td>\n",
              "      <td>0</td>\n",
              "      <td>0</td>\n",
              "      <td>0</td>\n",
              "      <td>1</td>\n",
              "      <td>0</td>\n",
              "      <td>0</td>\n",
              "    </tr>\n",
              "    <tr>\n",
              "      <th>3</th>\n",
              "      <td>Sachsen</td>\n",
              "      <td>-0.305795</td>\n",
              "      <td>district_heating</td>\n",
              "      <td>ONE_YEAR_FREE</td>\n",
              "      <td>False</td>\n",
              "      <td>True</td>\n",
              "      <td>-0.123581</td>\n",
              "      <td>-0.949357</td>\n",
              "      <td>7.321796e-01</td>\n",
              "      <td>1.060728e-14</td>\n",
              "      <td>-0.057555</td>\n",
              "      <td>0.153687</td>\n",
              "      <td>False</td>\n",
              "      <td>Sachsen</td>\n",
              "      <td>False</td>\n",
              "      <td>-0.705474</td>\n",
              "      <td>-0.017973</td>\n",
              "      <td>-0.063611</td>\n",
              "      <td>well_kept</td>\n",
              "      <td>normal</td>\n",
              "      <td>negotiable</td>\n",
              "      <td>False</td>\n",
              "      <td>-0.797187</td>\n",
              "      <td>other</td>\n",
              "      <td>-0.995898</td>\n",
              "      <td>0.136224</td>\n",
              "      <td>-6.000803e-01</td>\n",
              "      <td>2.684000e-01</td>\n",
              "      <td>1.296553e-12</td>\n",
              "      <td>0.456976</td>\n",
              "      <td>False</td>\n",
              "      <td>-0.760976</td>\n",
              "      <td>district_heating</td>\n",
              "      <td>False</td>\n",
              "      <td>True</td>\n",
              "      <td>False</td>\n",
              "      <td>False</td>\n",
              "      <td>False</td>\n",
              "      <td>False</td>\n",
              "      <td>0</td>\n",
              "      <td>...</td>\n",
              "      <td>0</td>\n",
              "      <td>0</td>\n",
              "      <td>0</td>\n",
              "      <td>0</td>\n",
              "      <td>0</td>\n",
              "      <td>1</td>\n",
              "      <td>0</td>\n",
              "      <td>0</td>\n",
              "      <td>0</td>\n",
              "      <td>0</td>\n",
              "      <td>0</td>\n",
              "      <td>0</td>\n",
              "      <td>0</td>\n",
              "      <td>0</td>\n",
              "      <td>0</td>\n",
              "      <td>0</td>\n",
              "      <td>0</td>\n",
              "      <td>0</td>\n",
              "      <td>1</td>\n",
              "      <td>0</td>\n",
              "      <td>1</td>\n",
              "      <td>0</td>\n",
              "      <td>0</td>\n",
              "      <td>1</td>\n",
              "      <td>0</td>\n",
              "      <td>0</td>\n",
              "      <td>0</td>\n",
              "      <td>0</td>\n",
              "      <td>0</td>\n",
              "      <td>0</td>\n",
              "      <td>0</td>\n",
              "      <td>1</td>\n",
              "      <td>0</td>\n",
              "      <td>0</td>\n",
              "      <td>0</td>\n",
              "      <td>0</td>\n",
              "      <td>1</td>\n",
              "      <td>0</td>\n",
              "      <td>0</td>\n",
              "      <td>0</td>\n",
              "    </tr>\n",
              "    <tr>\n",
              "      <th>4</th>\n",
              "      <td>Bremen</td>\n",
              "      <td>-0.043397</td>\n",
              "      <td>self_contained_central_heating</td>\n",
              "      <td>ONE_YEAR_FREE</td>\n",
              "      <td>False</td>\n",
              "      <td>True</td>\n",
              "      <td>1.436871</td>\n",
              "      <td>-0.474423</td>\n",
              "      <td>-2.156249e-13</td>\n",
              "      <td>5.446935e-05</td>\n",
              "      <td>-0.393207</td>\n",
              "      <td>0.622478</td>\n",
              "      <td>False</td>\n",
              "      <td>Bremen</td>\n",
              "      <td>False</td>\n",
              "      <td>-1.116939</td>\n",
              "      <td>0.003628</td>\n",
              "      <td>0.041665</td>\n",
              "      <td>refurbished</td>\n",
              "      <td>normal</td>\n",
              "      <td>negotiable</td>\n",
              "      <td>False</td>\n",
              "      <td>0.557608</td>\n",
              "      <td>apartment</td>\n",
              "      <td>-0.326283</td>\n",
              "      <td>0.136224</td>\n",
              "      <td>1.547720e+00</td>\n",
              "      <td>-3.432713e-01</td>\n",
              "      <td>1.296553e-12</td>\n",
              "      <td>0.456976</td>\n",
              "      <td>False</td>\n",
              "      <td>0.660359</td>\n",
              "      <td>gas</td>\n",
              "      <td>False</td>\n",
              "      <td>True</td>\n",
              "      <td>False</td>\n",
              "      <td>False</td>\n",
              "      <td>False</td>\n",
              "      <td>False</td>\n",
              "      <td>0</td>\n",
              "      <td>...</td>\n",
              "      <td>0</td>\n",
              "      <td>0</td>\n",
              "      <td>0</td>\n",
              "      <td>0</td>\n",
              "      <td>0</td>\n",
              "      <td>0</td>\n",
              "      <td>0</td>\n",
              "      <td>0</td>\n",
              "      <td>0</td>\n",
              "      <td>0</td>\n",
              "      <td>0</td>\n",
              "      <td>0</td>\n",
              "      <td>0</td>\n",
              "      <td>0</td>\n",
              "      <td>0</td>\n",
              "      <td>0</td>\n",
              "      <td>1</td>\n",
              "      <td>0</td>\n",
              "      <td>0</td>\n",
              "      <td>0</td>\n",
              "      <td>1</td>\n",
              "      <td>0</td>\n",
              "      <td>0</td>\n",
              "      <td>1</td>\n",
              "      <td>0</td>\n",
              "      <td>0</td>\n",
              "      <td>1</td>\n",
              "      <td>0</td>\n",
              "      <td>0</td>\n",
              "      <td>0</td>\n",
              "      <td>0</td>\n",
              "      <td>0</td>\n",
              "      <td>0</td>\n",
              "      <td>0</td>\n",
              "      <td>0</td>\n",
              "      <td>0</td>\n",
              "      <td>0</td>\n",
              "      <td>1</td>\n",
              "      <td>0</td>\n",
              "      <td>0</td>\n",
              "    </tr>\n",
              "  </tbody>\n",
              "</table>\n",
              "<p>5 rows × 118 columns</p>\n",
              "</div>"
            ],
            "text/plain": [
              "                regio1  ...  firingTypes_edit_other\n",
              "0  Nordrhein_Westfalen  ...                       0\n",
              "1      Rheinland_Pfalz  ...                       0\n",
              "2              Sachsen  ...                       0\n",
              "3              Sachsen  ...                       0\n",
              "4               Bremen  ...                       0\n",
              "\n",
              "[5 rows x 118 columns]"
            ]
          },
          "metadata": {
            "tags": []
          },
          "execution_count": 32
        }
      ]
    },
    {
      "cell_type": "code",
      "metadata": {
        "colab": {
          "base_uri": "https://localhost:8080/",
          "height": 0
        },
        "id": "bis-JesIJaW_",
        "outputId": "6d0c0bb6-28f4-41a6-be1a-79e4a70fa9d7"
      },
      "source": [
        "df = df.drop(columns=columns)\n",
        "df.head()"
      ],
      "execution_count": 33,
      "outputs": [
        {
          "output_type": "execute_result",
          "data": {
            "text/html": [
              "<div>\n",
              "<style scoped>\n",
              "    .dataframe tbody tr th:only-of-type {\n",
              "        vertical-align: middle;\n",
              "    }\n",
              "\n",
              "    .dataframe tbody tr th {\n",
              "        vertical-align: top;\n",
              "    }\n",
              "\n",
              "    .dataframe thead th {\n",
              "        text-align: right;\n",
              "    }\n",
              "</style>\n",
              "<table border=\"1\" class=\"dataframe\">\n",
              "  <thead>\n",
              "    <tr style=\"text-align: right;\">\n",
              "      <th></th>\n",
              "      <th>serviceCharge</th>\n",
              "      <th>picturecount</th>\n",
              "      <th>pricetrend</th>\n",
              "      <th>telekomUploadSpeed</th>\n",
              "      <th>totalRent</th>\n",
              "      <th>yearConstructed</th>\n",
              "      <th>scoutId</th>\n",
              "      <th>yearConstructedRange</th>\n",
              "      <th>baseRent</th>\n",
              "      <th>livingSpace</th>\n",
              "      <th>baseRentRange</th>\n",
              "      <th>geo_plz</th>\n",
              "      <th>noRooms</th>\n",
              "      <th>thermalChar</th>\n",
              "      <th>floor</th>\n",
              "      <th>numberOfFloors</th>\n",
              "      <th>noRoomsRange</th>\n",
              "      <th>livingSpaceRange</th>\n",
              "      <th>regio1_Baden_Württemberg</th>\n",
              "      <th>regio1_Bayern</th>\n",
              "      <th>regio1_Berlin</th>\n",
              "      <th>regio1_Brandenburg</th>\n",
              "      <th>regio1_Bremen</th>\n",
              "      <th>regio1_Hamburg</th>\n",
              "      <th>regio1_Hessen</th>\n",
              "      <th>regio1_Mecklenburg_Vorpommern</th>\n",
              "      <th>regio1_Niedersachsen</th>\n",
              "      <th>regio1_Nordrhein_Westfalen</th>\n",
              "      <th>regio1_Rheinland_Pfalz</th>\n",
              "      <th>regio1_Saarland</th>\n",
              "      <th>regio1_Sachsen</th>\n",
              "      <th>regio1_Sachsen_Anhalt</th>\n",
              "      <th>regio1_Schleswig_Holstein</th>\n",
              "      <th>regio1_Thüringen</th>\n",
              "      <th>heatingType_central_heating</th>\n",
              "      <th>heatingType_combined_heat_and_power_plant</th>\n",
              "      <th>heatingType_district_heating</th>\n",
              "      <th>heatingType_electric_heating</th>\n",
              "      <th>heatingType_floor_heating</th>\n",
              "      <th>heatingType_gas_heating</th>\n",
              "      <th>...</th>\n",
              "      <th>geo_bln_Mecklenburg_Vorpommern</th>\n",
              "      <th>geo_bln_Niedersachsen</th>\n",
              "      <th>geo_bln_Nordrhein_Westfalen</th>\n",
              "      <th>geo_bln_Rheinland_Pfalz</th>\n",
              "      <th>geo_bln_Saarland</th>\n",
              "      <th>geo_bln_Sachsen</th>\n",
              "      <th>geo_bln_Sachsen_Anhalt</th>\n",
              "      <th>geo_bln_Schleswig_Holstein</th>\n",
              "      <th>geo_bln_Thüringen</th>\n",
              "      <th>condition_first_time_use</th>\n",
              "      <th>condition_first_time_use_after_refurbishment</th>\n",
              "      <th>condition_fully_renovated</th>\n",
              "      <th>condition_mint_condition</th>\n",
              "      <th>condition_modernized</th>\n",
              "      <th>condition_need_of_renovation</th>\n",
              "      <th>condition_negotiable</th>\n",
              "      <th>condition_refurbished</th>\n",
              "      <th>condition_ripe_for_demolition</th>\n",
              "      <th>condition_well_kept</th>\n",
              "      <th>interiorQual_luxury</th>\n",
              "      <th>interiorQual_normal</th>\n",
              "      <th>interiorQual_simple</th>\n",
              "      <th>interiorQual_sophisticated</th>\n",
              "      <th>petsAllowed_negotiable</th>\n",
              "      <th>petsAllowed_no</th>\n",
              "      <th>petsAllowed_yes</th>\n",
              "      <th>typeOfFlat_apartment</th>\n",
              "      <th>typeOfFlat_ground_floor</th>\n",
              "      <th>typeOfFlat_half_basement</th>\n",
              "      <th>typeOfFlat_loft</th>\n",
              "      <th>typeOfFlat_maisonette</th>\n",
              "      <th>typeOfFlat_other</th>\n",
              "      <th>typeOfFlat_penthouse</th>\n",
              "      <th>typeOfFlat_raised_ground_floor</th>\n",
              "      <th>typeOfFlat_roof_storey</th>\n",
              "      <th>typeOfFlat_terraced_flat</th>\n",
              "      <th>firingTypes_edit_district_heating</th>\n",
              "      <th>firingTypes_edit_gas</th>\n",
              "      <th>firingTypes_edit_oil</th>\n",
              "      <th>firingTypes_edit_other</th>\n",
              "    </tr>\n",
              "  </thead>\n",
              "  <tbody>\n",
              "    <tr>\n",
              "      <th>0</th>\n",
              "      <td>0.308220</td>\n",
              "      <td>-0.591717</td>\n",
              "      <td>0.628648</td>\n",
              "      <td>-1.229879e+00</td>\n",
              "      <td>-2.002236e-03</td>\n",
              "      <td>-0.033579</td>\n",
              "      <td>-0.868944</td>\n",
              "      <td>-0.705474</td>\n",
              "      <td>-0.005074</td>\n",
              "      <td>0.045708</td>\n",
              "      <td>0.106010</td>\n",
              "      <td>0.251312</td>\n",
              "      <td>0.515956</td>\n",
              "      <td>1.391175e+00</td>\n",
              "      <td>-3.432713e-01</td>\n",
              "      <td>-1.125204e-01</td>\n",
              "      <td>1.523536</td>\n",
              "      <td>0.660359</td>\n",
              "      <td>0</td>\n",
              "      <td>0</td>\n",
              "      <td>0</td>\n",
              "      <td>0</td>\n",
              "      <td>0</td>\n",
              "      <td>0</td>\n",
              "      <td>0</td>\n",
              "      <td>0</td>\n",
              "      <td>0</td>\n",
              "      <td>1</td>\n",
              "      <td>0</td>\n",
              "      <td>0</td>\n",
              "      <td>0</td>\n",
              "      <td>0</td>\n",
              "      <td>0</td>\n",
              "      <td>0</td>\n",
              "      <td>1</td>\n",
              "      <td>0</td>\n",
              "      <td>0</td>\n",
              "      <td>0</td>\n",
              "      <td>0</td>\n",
              "      <td>0</td>\n",
              "      <td>...</td>\n",
              "      <td>0</td>\n",
              "      <td>0</td>\n",
              "      <td>1</td>\n",
              "      <td>0</td>\n",
              "      <td>0</td>\n",
              "      <td>0</td>\n",
              "      <td>0</td>\n",
              "      <td>0</td>\n",
              "      <td>0</td>\n",
              "      <td>0</td>\n",
              "      <td>0</td>\n",
              "      <td>0</td>\n",
              "      <td>0</td>\n",
              "      <td>0</td>\n",
              "      <td>0</td>\n",
              "      <td>0</td>\n",
              "      <td>0</td>\n",
              "      <td>0</td>\n",
              "      <td>1</td>\n",
              "      <td>0</td>\n",
              "      <td>1</td>\n",
              "      <td>0</td>\n",
              "      <td>0</td>\n",
              "      <td>1</td>\n",
              "      <td>0</td>\n",
              "      <td>0</td>\n",
              "      <td>0</td>\n",
              "      <td>1</td>\n",
              "      <td>0</td>\n",
              "      <td>0</td>\n",
              "      <td>0</td>\n",
              "      <td>0</td>\n",
              "      <td>0</td>\n",
              "      <td>0</td>\n",
              "      <td>0</td>\n",
              "      <td>0</td>\n",
              "      <td>0</td>\n",
              "      <td>0</td>\n",
              "      <td>1</td>\n",
              "      <td>0</td>\n",
              "    </tr>\n",
              "    <tr>\n",
              "      <th>1</th>\n",
              "      <td>-0.056542</td>\n",
              "      <td>-0.279627</td>\n",
              "      <td>0.041365</td>\n",
              "      <td>-1.229879e+00</td>\n",
              "      <td>1.060728e-14</td>\n",
              "      <td>-2.287243</td>\n",
              "      <td>0.352699</td>\n",
              "      <td>-1.116939</td>\n",
              "      <td>0.005419</td>\n",
              "      <td>0.057484</td>\n",
              "      <td>0.557608</td>\n",
              "      <td>1.085543</td>\n",
              "      <td>0.136224</td>\n",
              "      <td>1.341014e-12</td>\n",
              "      <td>1.113710e-13</td>\n",
              "      <td>1.296553e-12</td>\n",
              "      <td>0.456976</td>\n",
              "      <td>0.660359</td>\n",
              "      <td>0</td>\n",
              "      <td>0</td>\n",
              "      <td>0</td>\n",
              "      <td>0</td>\n",
              "      <td>0</td>\n",
              "      <td>0</td>\n",
              "      <td>0</td>\n",
              "      <td>0</td>\n",
              "      <td>0</td>\n",
              "      <td>0</td>\n",
              "      <td>1</td>\n",
              "      <td>0</td>\n",
              "      <td>0</td>\n",
              "      <td>0</td>\n",
              "      <td>0</td>\n",
              "      <td>0</td>\n",
              "      <td>0</td>\n",
              "      <td>0</td>\n",
              "      <td>0</td>\n",
              "      <td>0</td>\n",
              "      <td>0</td>\n",
              "      <td>0</td>\n",
              "      <td>...</td>\n",
              "      <td>0</td>\n",
              "      <td>0</td>\n",
              "      <td>0</td>\n",
              "      <td>1</td>\n",
              "      <td>0</td>\n",
              "      <td>0</td>\n",
              "      <td>0</td>\n",
              "      <td>0</td>\n",
              "      <td>0</td>\n",
              "      <td>0</td>\n",
              "      <td>0</td>\n",
              "      <td>0</td>\n",
              "      <td>0</td>\n",
              "      <td>0</td>\n",
              "      <td>0</td>\n",
              "      <td>0</td>\n",
              "      <td>1</td>\n",
              "      <td>0</td>\n",
              "      <td>0</td>\n",
              "      <td>0</td>\n",
              "      <td>1</td>\n",
              "      <td>0</td>\n",
              "      <td>0</td>\n",
              "      <td>0</td>\n",
              "      <td>1</td>\n",
              "      <td>0</td>\n",
              "      <td>0</td>\n",
              "      <td>1</td>\n",
              "      <td>0</td>\n",
              "      <td>0</td>\n",
              "      <td>0</td>\n",
              "      <td>0</td>\n",
              "      <td>0</td>\n",
              "      <td>0</td>\n",
              "      <td>0</td>\n",
              "      <td>0</td>\n",
              "      <td>0</td>\n",
              "      <td>1</td>\n",
              "      <td>0</td>\n",
              "      <td>0</td>\n",
              "    </tr>\n",
              "    <tr>\n",
              "      <th>2</th>\n",
              "      <td>0.341081</td>\n",
              "      <td>-0.279627</td>\n",
              "      <td>-0.341646</td>\n",
              "      <td>-1.726934e+00</td>\n",
              "      <td>1.301498e-02</td>\n",
              "      <td>1.261079</td>\n",
              "      <td>0.494191</td>\n",
              "      <td>2.174778</td>\n",
              "      <td>0.013865</td>\n",
              "      <td>0.037072</td>\n",
              "      <td>1.009207</td>\n",
              "      <td>-1.301747</td>\n",
              "      <td>0.136224</td>\n",
              "      <td>1.341014e-12</td>\n",
              "      <td>2.684000e-01</td>\n",
              "      <td>8.408414e-02</td>\n",
              "      <td>0.456976</td>\n",
              "      <td>0.660359</td>\n",
              "      <td>0</td>\n",
              "      <td>0</td>\n",
              "      <td>0</td>\n",
              "      <td>0</td>\n",
              "      <td>0</td>\n",
              "      <td>0</td>\n",
              "      <td>0</td>\n",
              "      <td>0</td>\n",
              "      <td>0</td>\n",
              "      <td>0</td>\n",
              "      <td>0</td>\n",
              "      <td>0</td>\n",
              "      <td>1</td>\n",
              "      <td>0</td>\n",
              "      <td>0</td>\n",
              "      <td>0</td>\n",
              "      <td>0</td>\n",
              "      <td>0</td>\n",
              "      <td>0</td>\n",
              "      <td>0</td>\n",
              "      <td>1</td>\n",
              "      <td>0</td>\n",
              "      <td>...</td>\n",
              "      <td>0</td>\n",
              "      <td>0</td>\n",
              "      <td>0</td>\n",
              "      <td>0</td>\n",
              "      <td>0</td>\n",
              "      <td>1</td>\n",
              "      <td>0</td>\n",
              "      <td>0</td>\n",
              "      <td>0</td>\n",
              "      <td>1</td>\n",
              "      <td>0</td>\n",
              "      <td>0</td>\n",
              "      <td>0</td>\n",
              "      <td>0</td>\n",
              "      <td>0</td>\n",
              "      <td>0</td>\n",
              "      <td>0</td>\n",
              "      <td>0</td>\n",
              "      <td>0</td>\n",
              "      <td>0</td>\n",
              "      <td>0</td>\n",
              "      <td>0</td>\n",
              "      <td>1</td>\n",
              "      <td>1</td>\n",
              "      <td>0</td>\n",
              "      <td>0</td>\n",
              "      <td>1</td>\n",
              "      <td>0</td>\n",
              "      <td>0</td>\n",
              "      <td>0</td>\n",
              "      <td>0</td>\n",
              "      <td>0</td>\n",
              "      <td>0</td>\n",
              "      <td>0</td>\n",
              "      <td>0</td>\n",
              "      <td>0</td>\n",
              "      <td>0</td>\n",
              "      <td>1</td>\n",
              "      <td>0</td>\n",
              "      <td>0</td>\n",
              "    </tr>\n",
              "    <tr>\n",
              "      <th>3</th>\n",
              "      <td>-0.305795</td>\n",
              "      <td>-0.123581</td>\n",
              "      <td>-0.949357</td>\n",
              "      <td>7.321796e-01</td>\n",
              "      <td>1.060728e-14</td>\n",
              "      <td>-0.057555</td>\n",
              "      <td>0.153687</td>\n",
              "      <td>-0.705474</td>\n",
              "      <td>-0.017973</td>\n",
              "      <td>-0.063611</td>\n",
              "      <td>-0.797187</td>\n",
              "      <td>-0.995898</td>\n",
              "      <td>0.136224</td>\n",
              "      <td>-6.000803e-01</td>\n",
              "      <td>2.684000e-01</td>\n",
              "      <td>1.296553e-12</td>\n",
              "      <td>0.456976</td>\n",
              "      <td>-0.760976</td>\n",
              "      <td>0</td>\n",
              "      <td>0</td>\n",
              "      <td>0</td>\n",
              "      <td>0</td>\n",
              "      <td>0</td>\n",
              "      <td>0</td>\n",
              "      <td>0</td>\n",
              "      <td>0</td>\n",
              "      <td>0</td>\n",
              "      <td>0</td>\n",
              "      <td>0</td>\n",
              "      <td>0</td>\n",
              "      <td>1</td>\n",
              "      <td>0</td>\n",
              "      <td>0</td>\n",
              "      <td>0</td>\n",
              "      <td>0</td>\n",
              "      <td>0</td>\n",
              "      <td>1</td>\n",
              "      <td>0</td>\n",
              "      <td>0</td>\n",
              "      <td>0</td>\n",
              "      <td>...</td>\n",
              "      <td>0</td>\n",
              "      <td>0</td>\n",
              "      <td>0</td>\n",
              "      <td>0</td>\n",
              "      <td>0</td>\n",
              "      <td>1</td>\n",
              "      <td>0</td>\n",
              "      <td>0</td>\n",
              "      <td>0</td>\n",
              "      <td>0</td>\n",
              "      <td>0</td>\n",
              "      <td>0</td>\n",
              "      <td>0</td>\n",
              "      <td>0</td>\n",
              "      <td>0</td>\n",
              "      <td>0</td>\n",
              "      <td>0</td>\n",
              "      <td>0</td>\n",
              "      <td>1</td>\n",
              "      <td>0</td>\n",
              "      <td>1</td>\n",
              "      <td>0</td>\n",
              "      <td>0</td>\n",
              "      <td>1</td>\n",
              "      <td>0</td>\n",
              "      <td>0</td>\n",
              "      <td>0</td>\n",
              "      <td>0</td>\n",
              "      <td>0</td>\n",
              "      <td>0</td>\n",
              "      <td>0</td>\n",
              "      <td>1</td>\n",
              "      <td>0</td>\n",
              "      <td>0</td>\n",
              "      <td>0</td>\n",
              "      <td>0</td>\n",
              "      <td>1</td>\n",
              "      <td>0</td>\n",
              "      <td>0</td>\n",
              "      <td>0</td>\n",
              "    </tr>\n",
              "    <tr>\n",
              "      <th>4</th>\n",
              "      <td>-0.043397</td>\n",
              "      <td>1.436871</td>\n",
              "      <td>-0.474423</td>\n",
              "      <td>-2.156249e-13</td>\n",
              "      <td>5.446935e-05</td>\n",
              "      <td>-0.393207</td>\n",
              "      <td>0.622478</td>\n",
              "      <td>-1.116939</td>\n",
              "      <td>0.003628</td>\n",
              "      <td>0.041665</td>\n",
              "      <td>0.557608</td>\n",
              "      <td>-0.326283</td>\n",
              "      <td>0.136224</td>\n",
              "      <td>1.547720e+00</td>\n",
              "      <td>-3.432713e-01</td>\n",
              "      <td>1.296553e-12</td>\n",
              "      <td>0.456976</td>\n",
              "      <td>0.660359</td>\n",
              "      <td>0</td>\n",
              "      <td>0</td>\n",
              "      <td>0</td>\n",
              "      <td>0</td>\n",
              "      <td>1</td>\n",
              "      <td>0</td>\n",
              "      <td>0</td>\n",
              "      <td>0</td>\n",
              "      <td>0</td>\n",
              "      <td>0</td>\n",
              "      <td>0</td>\n",
              "      <td>0</td>\n",
              "      <td>0</td>\n",
              "      <td>0</td>\n",
              "      <td>0</td>\n",
              "      <td>0</td>\n",
              "      <td>0</td>\n",
              "      <td>0</td>\n",
              "      <td>0</td>\n",
              "      <td>0</td>\n",
              "      <td>0</td>\n",
              "      <td>0</td>\n",
              "      <td>...</td>\n",
              "      <td>0</td>\n",
              "      <td>0</td>\n",
              "      <td>0</td>\n",
              "      <td>0</td>\n",
              "      <td>0</td>\n",
              "      <td>0</td>\n",
              "      <td>0</td>\n",
              "      <td>0</td>\n",
              "      <td>0</td>\n",
              "      <td>0</td>\n",
              "      <td>0</td>\n",
              "      <td>0</td>\n",
              "      <td>0</td>\n",
              "      <td>0</td>\n",
              "      <td>0</td>\n",
              "      <td>0</td>\n",
              "      <td>1</td>\n",
              "      <td>0</td>\n",
              "      <td>0</td>\n",
              "      <td>0</td>\n",
              "      <td>1</td>\n",
              "      <td>0</td>\n",
              "      <td>0</td>\n",
              "      <td>1</td>\n",
              "      <td>0</td>\n",
              "      <td>0</td>\n",
              "      <td>1</td>\n",
              "      <td>0</td>\n",
              "      <td>0</td>\n",
              "      <td>0</td>\n",
              "      <td>0</td>\n",
              "      <td>0</td>\n",
              "      <td>0</td>\n",
              "      <td>0</td>\n",
              "      <td>0</td>\n",
              "      <td>0</td>\n",
              "      <td>0</td>\n",
              "      <td>1</td>\n",
              "      <td>0</td>\n",
              "      <td>0</td>\n",
              "    </tr>\n",
              "  </tbody>\n",
              "</table>\n",
              "<p>5 rows × 97 columns</p>\n",
              "</div>"
            ],
            "text/plain": [
              "   serviceCharge  picturecount  ...  firingTypes_edit_oil  firingTypes_edit_other\n",
              "0       0.308220     -0.591717  ...                     1                       0\n",
              "1      -0.056542     -0.279627  ...                     0                       0\n",
              "2       0.341081     -0.279627  ...                     0                       0\n",
              "3      -0.305795     -0.123581  ...                     0                       0\n",
              "4      -0.043397      1.436871  ...                     0                       0\n",
              "\n",
              "[5 rows x 97 columns]"
            ]
          },
          "metadata": {
            "tags": []
          },
          "execution_count": 33
        }
      ]
    },
    {
      "cell_type": "code",
      "metadata": {
        "colab": {
          "base_uri": "https://localhost:8080/"
        },
        "id": "8RcZVsowR5ZT",
        "outputId": "5d19b6db-2171-4241-8daf-6f98f30b8e4a"
      },
      "source": [
        "df.shape"
      ],
      "execution_count": 34,
      "outputs": [
        {
          "output_type": "execute_result",
          "data": {
            "text/plain": [
              "(250467, 97)"
            ]
          },
          "metadata": {
            "tags": []
          },
          "execution_count": 34
        }
      ]
    },
    {
      "cell_type": "markdown",
      "metadata": {
        "id": "xCxLfuc5abwW"
      },
      "source": [
        "# Linear Regression Models:"
      ]
    },
    {
      "cell_type": "markdown",
      "metadata": {
        "id": "9mnnFnafUxt4"
      },
      "source": [
        "### univariate linear regression"
      ]
    },
    {
      "cell_type": "code",
      "metadata": {
        "id": "MLu-h9nJh4QJ"
      },
      "source": [
        "def estimate_coef(x, y):\n",
        "  n = len(x)\n",
        "  x_mean = np.mean(x)\n",
        "  y_mean = np.mean(y)\n",
        "\n",
        "  numerator = 0\n",
        "  denominator = 0\n",
        "  for i in range(n):\n",
        "      numerator += (x[i] - x_mean) * (y[i] - y_mean)\n",
        "      denominator += (x[i] - x_mean) ** 2\n",
        "\n",
        "  b1 = numerator / denominator\n",
        "  b0 = y_mean - (b1 * x_mean)\n",
        "  \n",
        "  return (b0, b1)"
      ],
      "execution_count": 109,
      "outputs": []
    },
    {
      "cell_type": "code",
      "metadata": {
        "id": "dW7TrpVKoWna"
      },
      "source": [
        "def predict (x, b):\n",
        "    n = len(x)\n",
        "    y_pred = []\n",
        "    for i in range(n):\n",
        "        y_pred.append(b[0] + b[1] * x[i])\n",
        "    return y_pred"
      ],
      "execution_count": 110,
      "outputs": []
    },
    {
      "cell_type": "code",
      "metadata": {
        "id": "fyKAtwAlik68"
      },
      "source": [
        "def plot_regression_line(x, y, b):\n",
        "    # plotting the actual points as scatter plot\n",
        "    plt.scatter(x, y, color = \"m\",\n",
        "               marker = \"o\", s = 30)\n",
        " \n",
        "    # predicted response vector\n",
        "    y_pred = predict(x, b)\n",
        "    # plotting the regression line\n",
        "    plt.plot(x, y_pred, color = \"g\")\n",
        " \n",
        "    # putting labels\n",
        "    plt.xlabel('x')\n",
        "    plt.ylabel('y')\n",
        " \n",
        "    # function to show plot\n",
        "    plt.show()"
      ],
      "execution_count": 111,
      "outputs": []
    },
    {
      "cell_type": "code",
      "metadata": {
        "id": "mUoEEvnnZi8x"
      },
      "source": [
        "def mse(y, y_pred):\n",
        "    n = len(y)\n",
        "    mse = 0\n",
        "    for i in range(n):\n",
        "        mse += (y[i] - y_pred[i]) ** 2\n",
        "    mse = mse/n\n",
        "    return rmse"
      ],
      "execution_count": 112,
      "outputs": []
    },
    {
      "cell_type": "markdown",
      "metadata": {
        "id": "CAuOnMOHazA9"
      },
      "source": [
        "univariate linear regression with most correlated feature i.e. \"livingSpaceRange\""
      ]
    },
    {
      "cell_type": "code",
      "metadata": {
        "id": "1rMuya2EU8Ze"
      },
      "source": [
        "x = df['livingSpaceRange'].values\n",
        "y = df['livingSpace'].values"
      ],
      "execution_count": 149,
      "outputs": []
    },
    {
      "cell_type": "code",
      "metadata": {
        "colab": {
          "base_uri": "https://localhost:8080/"
        },
        "id": "fXIIr8tXnYw5",
        "outputId": "95c24027-92f1-47be-d04e-0cbdb386db40"
      },
      "source": [
        "x.shape"
      ],
      "execution_count": 114,
      "outputs": [
        {
          "output_type": "execute_result",
          "data": {
            "text/plain": [
              "(250467,)"
            ]
          },
          "metadata": {
            "tags": []
          },
          "execution_count": 114
        }
      ]
    },
    {
      "cell_type": "code",
      "metadata": {
        "colab": {
          "base_uri": "https://localhost:8080/"
        },
        "id": "0sXwNxKYnage",
        "outputId": "c9e632c6-130d-4404-845f-196614af26b2"
      },
      "source": [
        "y.shape"
      ],
      "execution_count": 115,
      "outputs": [
        {
          "output_type": "execute_result",
          "data": {
            "text/plain": [
              "(250467,)"
            ]
          },
          "metadata": {
            "tags": []
          },
          "execution_count": 115
        }
      ]
    },
    {
      "cell_type": "code",
      "metadata": {
        "colab": {
          "base_uri": "https://localhost:8080/"
        },
        "id": "79yciGatpM5b",
        "outputId": "1dd3db32-c7a6-4e91-d2a4-2ff72cc63b42"
      },
      "source": [
        "estimate_coef(x, y)"
      ],
      "execution_count": 116,
      "outputs": [
        {
          "output_type": "execute_result",
          "data": {
            "text/plain": [
              "(-0.0038522829667690835, 0.11781043937009138)"
            ]
          },
          "metadata": {
            "tags": []
          },
          "execution_count": 116
        }
      ]
    },
    {
      "cell_type": "code",
      "metadata": {
        "colab": {
          "base_uri": "https://localhost:8080/",
          "height": 278
        },
        "id": "LuFRJrObizOA",
        "outputId": "c091e339-9a2e-4948-df74-e1f14f477463"
      },
      "source": [
        "b = estimate_coef(x, y)\n",
        "plot_regression_line(x, y, b)"
      ],
      "execution_count": 117,
      "outputs": [
        {
          "output_type": "display_data",
          "data": {
            "image/png": "[encoded data removed]",
            "text/plain": [
              "<Figure size 432x288 with 1 Axes>"
            ]
          },
          "metadata": {
            "tags": [],
            "needs_background": "light"
          }
        }
      ]
    },
    {
      "cell_type": "code",
      "metadata": {
        "colab": {
          "base_uri": "https://localhost:8080/"
        },
        "id": "BTk95THYpRWs",
        "outputId": "8eb37bcb-7128-43db-a722-f61b2201b198"
      },
      "source": [
        "y_pred = predict(x, b)\n",
        "mse(y, y_pred)"
      ],
      "execution_count": 118,
      "outputs": [
        {
          "output_type": "execute_result",
          "data": {
            "text/plain": [
              "0.0014310303461699393"
            ]
          },
          "metadata": {
            "tags": []
          },
          "execution_count": 118
        }
      ]
    },
    {
      "cell_type": "code",
      "metadata": {
        "id": "3tldi6EAAws2"
      },
      "source": [
        ""
      ],
      "execution_count": null,
      "outputs": []
    },
    {
      "cell_type": "markdown",
      "metadata": {
        "id": "uvZbcUS9dAOV"
      },
      "source": [
        "# multi variate linear regression"
      ]
    },
    {
      "cell_type": "code",
      "metadata": {
        "id": "9uQjCwZVaZWH"
      },
      "source": [
        "class SimpleLinearRegression() : \n",
        "      \n",
        "    def __init__( self, learning_rate, iterations ) : \n",
        "          \n",
        "        self.learning_rate = learning_rate \n",
        "          \n",
        "        self.iterations = iterations \n",
        "    def fit(self, X, Y):\n",
        "      X_train = np.c_[np.ones(X.shape[0]), X]\n",
        "      self.W = np.random.rand((X_train.shape[1]))\n",
        "      for i in range(self.iterations):\n",
        "        self.W = self.W - self.learning_rate * self.calcGradient(X_train, Y)\n",
        "\n",
        "    def calcGradient(self, X, Y):\n",
        "      return 2/X.shape[0] * np.dot(X.T, (np.dot(X, self.W) - Y))\n",
        "\n",
        "    def predict(self, X):\n",
        "      Xpred = np.c_[np.ones(X.shape[0]), X]\n",
        "      return np.dot(Xpred, self.W)"
      ],
      "execution_count": 160,
      "outputs": []
    },
    {
      "cell_type": "markdown",
      "metadata": {
        "id": "11dffEQqR_p8"
      },
      "source": [
        "# split features and target"
      ]
    },
    {
      "cell_type": "code",
      "metadata": {
        "colab": {
          "base_uri": "https://localhost:8080/"
        },
        "id": "Cqng_dHHSNYC",
        "outputId": "f8fde683-dc71-4c7b-8a6d-987636ec128c"
      },
      "source": [
        "y = df['livingSpace']\n",
        "X = df.drop(columns = ['livingSpace'])\n",
        "\n",
        "print(X.shape)\n",
        "print(y.shape)"
      ],
      "execution_count": 222,
      "outputs": [
        {
          "output_type": "stream",
          "text": [
            "(250467, 96)\n",
            "(250467,)\n"
          ],
          "name": "stdout"
        }
      ]
    },
    {
      "cell_type": "code",
      "metadata": {
        "id": "gDBscIdqdt1y"
      },
      "source": [
        "from sklearn.model_selection import train_test_split \n",
        "X_train, X_test, y_train, y_test = train_test_split(X, y, test_size = 0.3, random_state = 0 ) "
      ],
      "execution_count": 223,
      "outputs": []
    },
    {
      "cell_type": "code",
      "metadata": {
        "id": "P8q85iVZd15o"
      },
      "source": [
        "model = SimpleLinearRegression(iterations = 1000, learning_rate = 0.01)"
      ],
      "execution_count": 224,
      "outputs": []
    },
    {
      "cell_type": "code",
      "metadata": {
        "id": "yqFIJA9eeL2P"
      },
      "source": [
        "model.fit(X_train, y_train)"
      ],
      "execution_count": 225,
      "outputs": []
    },
    {
      "cell_type": "code",
      "metadata": {
        "id": "eX8V50eTfNad"
      },
      "source": [
        "y_pred = model.predict(X_test)"
      ],
      "execution_count": 226,
      "outputs": []
    },
    {
      "cell_type": "code",
      "metadata": {
        "colab": {
          "base_uri": "https://localhost:8080/"
        },
        "id": "lJatpa64fN5y",
        "outputId": "6b4b3bbe-b124-4907-97ad-9c4b7628418b"
      },
      "source": [
        "from sklearn.metrics import mean_squared_error\n",
        "print(f'MSE on the test set: {mean_squared_error(y_test, y_pred)}')"
      ],
      "execution_count": 227,
      "outputs": [
        {
          "output_type": "stream",
          "text": [
            "MSE on the test set: 0.03163200605563776\n"
          ],
          "name": "stdout"
        }
      ]
    },
    {
      "cell_type": "markdown",
      "metadata": {
        "id": "WOwkCJX2idGh"
      },
      "source": [
        "# sklearn linear regression"
      ]
    },
    {
      "cell_type": "code",
      "metadata": {
        "id": "IF1iNQiVhMtu"
      },
      "source": [
        "from sklearn.linear_model import LinearRegression"
      ],
      "execution_count": 228,
      "outputs": []
    },
    {
      "cell_type": "code",
      "metadata": {
        "id": "XfB5YZaZi54x"
      },
      "source": [
        "reg = LinearRegression()"
      ],
      "execution_count": 229,
      "outputs": []
    },
    {
      "cell_type": "code",
      "metadata": {
        "colab": {
          "base_uri": "https://localhost:8080/"
        },
        "id": "Fm57qZZqi7x8",
        "outputId": "4f2011ae-ad45-494e-fef8-447b7eebfaab"
      },
      "source": [
        "reg.fit(X_train, y_train)"
      ],
      "execution_count": 230,
      "outputs": [
        {
          "output_type": "execute_result",
          "data": {
            "text/plain": [
              "LinearRegression(copy_X=True, fit_intercept=True, n_jobs=None, normalize=False)"
            ]
          },
          "metadata": {
            "tags": []
          },
          "execution_count": 230
        }
      ]
    },
    {
      "cell_type": "code",
      "metadata": {
        "colab": {
          "base_uri": "https://localhost:8080/"
        },
        "id": "sslA-em0jLuS",
        "outputId": "f5cd3345-1afc-4828-e406-dcbe97e53ee1"
      },
      "source": [
        "reg.score(X_test, y_test)"
      ],
      "execution_count": 231,
      "outputs": [
        {
          "output_type": "execute_result",
          "data": {
            "text/plain": [
              "0.9316068694373152"
            ]
          },
          "metadata": {
            "tags": []
          },
          "execution_count": 231
        }
      ]
    },
    {
      "cell_type": "code",
      "metadata": {
        "id": "6ahVB-P0lhlK"
      },
      "source": [
        "reg_y_pred = reg.predict(X_test)"
      ],
      "execution_count": 55,
      "outputs": []
    },
    {
      "cell_type": "code",
      "metadata": {
        "colab": {
          "base_uri": "https://localhost:8080/"
        },
        "id": "ecJCISSGlWYa",
        "outputId": "391ceb99-cad7-4569-813f-068ad5671842"
      },
      "source": [
        "print(f'MSE on the test set: {mean_squared_error(y_test,reg_y_pred)}')"
      ],
      "execution_count": 232,
      "outputs": [
        {
          "output_type": "stream",
          "text": [
            "MSE on the test set: 0.001016540850307859\n"
          ],
          "name": "stdout"
        }
      ]
    },
    {
      "cell_type": "markdown",
      "metadata": {
        "id": "Nx5K-eYjf9SB"
      },
      "source": [
        "# K-Fold Cross-Valodation"
      ]
    },
    {
      "cell_type": "code",
      "metadata": {
        "id": "WfM7d-4mgJAk"
      },
      "source": [
        "from sklearn.model_selection import KFold"
      ],
      "execution_count": 161,
      "outputs": []
    },
    {
      "cell_type": "code",
      "metadata": {
        "id": "ajiOTzKw49FK"
      },
      "source": [
        "def kFold_CV(k, X, y):\n",
        "  kfold = KFold(k, True, 1)\n",
        "  reg_model = LinearRegression()\n",
        "\n",
        "  mean_mse = 0\n",
        "  for train_index, test_index in kfold.split(X):\n",
        "     X_train, X_test = X[train_index], X[test_index]\n",
        "     y_train, y_test = y[train_index], y[test_index]\n",
        "     reg_model.fit(X_train, y_train)\n",
        "     reg_model_y_pred = reg_model.predict(X_test)\n",
        "     mean_mse += mean_squared_error(y_test, reg_model_y_pred)\n",
        "     print(f'MSE on the test set: {mean_squared_error(y_test, reg_model_y_pred)}')\n",
        "  print(f'Mean MSEs on the test sets: {mean_mse/k}')"
      ],
      "execution_count": 179,
      "outputs": []
    },
    {
      "cell_type": "code",
      "metadata": {
        "id": "II2YA-M7BFwI"
      },
      "source": [
        "def kFold_CV2(k, X, y):\n",
        "  kfold = KFold(k, True, 1)\n",
        "  mean_mse = 0\n",
        "  for train_index, test_index in kfold.split(X):\n",
        "     X_train, X_test = X[train_index], X[test_index]\n",
        "     y_train, y_test = y[train_index], y[test_index]\n",
        "\n",
        "     b = estimate_coef(X_train, y_train)\n",
        "     y_pred = predict(X_test, b)\n",
        "     mean_mse += mse(y_test, y_pred)\n",
        "     print(f'MSE on the test set: {mse(y_test, y_pred)}')\n",
        "  print(f'Mean MSEs on the test sets: {mean_mse/k}')"
      ],
      "execution_count": 187,
      "outputs": []
    },
    {
      "cell_type": "markdown",
      "metadata": {
        "id": "4nmPGsRnATqk"
      },
      "source": [
        "### part 1:"
      ]
    },
    {
      "cell_type": "code",
      "metadata": {
        "colab": {
          "base_uri": "https://localhost:8080/"
        },
        "id": "-vt4NkubAZNA",
        "outputId": "f504d48c-5706-45a4-bedb-770085260c95"
      },
      "source": [
        "X1 = df['livingSpaceRange'].values\n",
        "X1 = X1.reshape(-1, 1)\n",
        "y1 = df['livingSpace'].values\n",
        "kFold_CV2(5, X1, y1)"
      ],
      "execution_count": 190,
      "outputs": [
        {
          "output_type": "stream",
          "text": [
            "MSE on the test set: 0.0014310303461699393\n",
            "MSE on the test set: 0.0014310303461699393\n",
            "MSE on the test set: 0.0014310303461699393\n",
            "MSE on the test set: 0.0014310303461699393\n",
            "MSE on the test set: 0.0014310303461699393\n",
            "Mean MSEs on the test sets: 0.0014310303461699393\n"
          ],
          "name": "stdout"
        }
      ]
    },
    {
      "cell_type": "code",
      "metadata": {
        "colab": {
          "base_uri": "https://localhost:8080/"
        },
        "id": "DrwssoLLB1WM",
        "outputId": "c6693256-169d-4557-b06f-27739cd9a375"
      },
      "source": [
        "kFold_CV2(10, X1, y1)"
      ],
      "execution_count": 191,
      "outputs": [
        {
          "output_type": "stream",
          "text": [
            "MSE on the test set: 0.0014310303461699393\n",
            "MSE on the test set: 0.0014310303461699393\n",
            "MSE on the test set: 0.0014310303461699393\n",
            "MSE on the test set: 0.0014310303461699393\n",
            "MSE on the test set: 0.0014310303461699393\n",
            "MSE on the test set: 0.0014310303461699393\n",
            "MSE on the test set: 0.0014310303461699393\n",
            "MSE on the test set: 0.0014310303461699393\n",
            "MSE on the test set: 0.0014310303461699393\n",
            "MSE on the test set: 0.0014310303461699393\n",
            "Mean MSEs on the test sets: 0.0014310303461699395\n"
          ],
          "name": "stdout"
        }
      ]
    },
    {
      "cell_type": "markdown",
      "metadata": {
        "id": "AbYczT1z-ZQk"
      },
      "source": [
        "### part 2:"
      ]
    },
    {
      "cell_type": "code",
      "metadata": {
        "colab": {
          "base_uri": "https://localhost:8080/"
        },
        "id": "rbunZi1C-3PW",
        "outputId": "1c7d038f-a0ee-42ac-ec78-ae31897e14fc"
      },
      "source": [
        "kFold_CV(5, X1, y1)"
      ],
      "execution_count": 180,
      "outputs": [
        {
          "output_type": "stream",
          "text": [
            "MSE on the test set: 0.0014013380212492305\n",
            "MSE on the test set: 0.0014063516080364974\n",
            "MSE on the test set: 0.0014926947364295937\n",
            "MSE on the test set: 0.0014739624957834584\n",
            "MSE on the test set: 0.001381065420135311\n",
            "Mean MSEs on the test sets: 0.001431082456326818\n"
          ],
          "name": "stdout"
        }
      ]
    },
    {
      "cell_type": "code",
      "metadata": {
        "colab": {
          "base_uri": "https://localhost:8080/"
        },
        "id": "KWSaq4q3AOFg",
        "outputId": "3af01604-34cd-470f-a71f-ecfb7a56829a"
      },
      "source": [
        "kFold_CV(10, X1, y1)"
      ],
      "execution_count": 186,
      "outputs": [
        {
          "output_type": "stream",
          "text": [
            "MSE on the test set: 0.0015179439221928972\n",
            "MSE on the test set: 0.0012848612653289973\n",
            "MSE on the test set: 0.0014475766031993487\n",
            "MSE on the test set: 0.001365071599097838\n",
            "MSE on the test set: 0.0014582953459220708\n",
            "MSE on the test set: 0.0015271852790737206\n",
            "MSE on the test set: 0.0015462075585231205\n",
            "MSE on the test set: 0.0014016009090330776\n",
            "MSE on the test set: 0.001457868870535493\n",
            "MSE on the test set: 0.0013042193044963406\n",
            "Mean MSEs on the test sets: 0.0014310830657402905\n"
          ],
          "name": "stdout"
        }
      ]
    },
    {
      "cell_type": "markdown",
      "metadata": {
        "id": "yMIp3rX77orU"
      },
      "source": [
        "### part 3:"
      ]
    },
    {
      "cell_type": "markdown",
      "metadata": {
        "id": "XaTJo6T88QB5"
      },
      "source": [
        "two most correlated features:  1.livingSpaceRange 2.noRooms\n"
      ]
    },
    {
      "cell_type": "markdown",
      "metadata": {
        "id": "InqI_ksT87uH"
      },
      "source": [
        "two least correlated features: 1.thermalChar  2.numberOfFloors"
      ]
    },
    {
      "cell_type": "code",
      "metadata": {
        "colab": {
          "base_uri": "https://localhost:8080/"
        },
        "id": "Me5JOHV89w05",
        "outputId": "44adee51-b0d5-4752-c1a1-01be7fea2b2c"
      },
      "source": [
        "X3 = df[['livingSpaceRange', 'noRooms', 'thermalChar','numberOfFloors']].values\n",
        "y3 = df['livingSpace'].values\n",
        "kFold_CV(5, X3, y3)"
      ],
      "execution_count": 182,
      "outputs": [
        {
          "output_type": "stream",
          "text": [
            "MSE on the test set: 0.0013378831605116075\n",
            "MSE on the test set: 0.0013478809356637558\n",
            "MSE on the test set: 0.001419128130595827\n",
            "MSE on the test set: 0.0013926241179610087\n",
            "MSE on the test set: 0.001318716914099375\n",
            "Mean MSEs on the test sets: 0.0013632466517663148\n"
          ],
          "name": "stdout"
        }
      ]
    },
    {
      "cell_type": "code",
      "metadata": {
        "colab": {
          "base_uri": "https://localhost:8080/"
        },
        "id": "_cieYYZZ-KCL",
        "outputId": "666ee3a3-9ecd-49bf-eac8-db0388f67a9a"
      },
      "source": [
        "kFold_CV(10, X3, y3)"
      ],
      "execution_count": 183,
      "outputs": [
        {
          "output_type": "stream",
          "text": [
            "MSE on the test set: 0.0014467565334352265\n",
            "MSE on the test set: 0.0012292261105447168\n",
            "MSE on the test set: 0.001398181507420893\n",
            "MSE on the test set: 0.001297507475358853\n",
            "MSE on the test set: 0.0013873723748710695\n",
            "MSE on the test set: 0.0014509809067086376\n",
            "MSE on the test set: 0.0014514844205513748\n",
            "MSE on the test set: 0.0013335024612554658\n",
            "MSE on the test set: 0.0014009704982155943\n",
            "MSE on the test set: 0.0012363933503696778\n",
            "Mean MSEs on the test sets: 0.0013632375638731509\n"
          ],
          "name": "stdout"
        }
      ]
    },
    {
      "cell_type": "markdown",
      "metadata": {
        "id": "0KOv0To77PGH"
      },
      "source": [
        "### part 4:"
      ]
    },
    {
      "cell_type": "code",
      "metadata": {
        "colab": {
          "base_uri": "https://localhost:8080/"
        },
        "id": "69kEkVZP6Ixs",
        "outputId": "663dba0f-7643-46e8-b89c-40370304d9be"
      },
      "source": [
        "X4 = df.drop(columns=['livingSpace']).values\n",
        "y4 = df['livingSpace'].values\n",
        "kFold_CV(5, X4, y4)"
      ],
      "execution_count": 184,
      "outputs": [
        {
          "output_type": "stream",
          "text": [
            "MSE on the test set: 0.001122805042763631\n",
            "MSE on the test set: 0.001028970146840462\n",
            "MSE on the test set: 0.0010612095287429527\n",
            "MSE on the test set: 0.0010354805111958943\n",
            "MSE on the test set: 0.0010376068099220142\n",
            "Mean MSEs on the test sets: 0.0010572144078929908\n"
          ],
          "name": "stdout"
        }
      ]
    },
    {
      "cell_type": "code",
      "metadata": {
        "colab": {
          "base_uri": "https://localhost:8080/"
        },
        "id": "eE0FjaH97L17",
        "outputId": "a4a7b149-8201-491c-cba8-a10431900882"
      },
      "source": [
        "kFold_CV(10, X4, y4)"
      ],
      "execution_count": 185,
      "outputs": [
        {
          "output_type": "stream",
          "text": [
            "MSE on the test set: 0.00117018495771325\n",
            "MSE on the test set: 0.0010180738822800157\n",
            "MSE on the test set: 0.001070483078698131\n",
            "MSE on the test set: 0.0009864633819172037\n",
            "MSE on the test set: 0.0010278348098713749\n",
            "MSE on the test set: 0.0010906622708951978\n",
            "MSE on the test set: 0.0010865076192318448\n",
            "MSE on the test set: 0.000979193627694081\n",
            "MSE on the test set: 0.0011300079429694269\n",
            "MSE on the test set: 0.0009438397288684028\n",
            "Mean MSEs on the test sets: 0.0010503251300138928\n"
          ],
          "name": "stdout"
        }
      ]
    },
    {
      "cell_type": "markdown",
      "metadata": {
        "id": "Am1ue425L_f2"
      },
      "source": [
        "# Ridge Regression"
      ]
    },
    {
      "cell_type": "markdown",
      "metadata": {
        "id": "LYy_da49Cubh"
      },
      "source": [
        "## part 5:"
      ]
    },
    {
      "cell_type": "code",
      "metadata": {
        "id": "ORFYWejV2h8R"
      },
      "source": [
        "from numpy import mean\n",
        "from numpy import std\n",
        "from numpy import absolute\n",
        " \n",
        "from sklearn.model_selection import cross_val_score\n",
        "from sklearn.model_selection import RepeatedKFold\n",
        "from sklearn.linear_model import Ridge\n",
        "from sklearn.linear_model import Lasso"
      ],
      "execution_count": 200,
      "outputs": []
    },
    {
      "cell_type": "markdown",
      "metadata": {
        "id": "CYzFNKeABAUJ"
      },
      "source": [
        "### Ridge Regression k_Fold CV"
      ]
    },
    {
      "cell_type": "code",
      "metadata": {
        "colab": {
          "base_uri": "https://localhost:8080/"
        },
        "id": "LzFMQ8cl2tZ3",
        "outputId": "6f27d8bc-da24-4749-f43f-c911506585dc"
      },
      "source": [
        "ridge_regression_model = Ridge(alpha=1.0)\n",
        "\n",
        "cv = KFold(10, True, 1)\n",
        "cv2 = KFold(5, True, 1)\n",
        "\n",
        "scores = cross_val_score(ridge_regression_model, X, y, scoring='neg_mean_squared_error', cv=cv, n_jobs=-1)\n",
        "scores2 = cross_val_score(ridge_regression_model, X, y, scoring='neg_mean_squared_error', cv=cv2, n_jobs=-1)\n",
        "\n",
        "scores = absolute(scores)\n",
        "scores2 = absolute(scores2)\n",
        "\n",
        "print('10 Fold:Mean MSE: %.3f (%.3f)' % (mean(scores), std(scores)))\n",
        "print('5 Fold:Mean MSE: %.3f (%.3f)' % (mean(scores2), std(scores2)))"
      ],
      "execution_count": 205,
      "outputs": [
        {
          "output_type": "stream",
          "text": [
            "10 Fold:Mean MSE: 0.001 (0.000)\n",
            "5 Fold:Mean MSE: 0.001 (0.000)\n"
          ],
          "name": "stdout"
        }
      ]
    },
    {
      "cell_type": "markdown",
      "metadata": {
        "id": "j_5bKce7BIAR"
      },
      "source": [
        "### Ridge Regression Repeated K-Fold CV"
      ]
    },
    {
      "cell_type": "code",
      "metadata": {
        "colab": {
          "base_uri": "https://localhost:8080/"
        },
        "id": "f8ZTX-Hf2JCz",
        "outputId": "3b2b8f12-a3d8-452a-d91e-abd7b11df57f"
      },
      "source": [
        "cv = RepeatedKFold(n_splits=10, n_repeats=3, random_state=1)\n",
        "\n",
        "scores = cross_val_score(ridge_regression_model, X, y, scoring='neg_mean_squared_error', cv=cv, n_jobs=-1)\n",
        "\n",
        "scores = absolute(scores)\n",
        "print('Repeated 10 fold:Mean MSE: %.3f (%.3f)' % (mean(scores), std(scores)))"
      ],
      "execution_count": 204,
      "outputs": [
        {
          "output_type": "stream",
          "text": [
            "Repeated 10 fold:Mean MSE: 0.001 (0.000)\n"
          ],
          "name": "stdout"
        }
      ]
    },
    {
      "cell_type": "markdown",
      "metadata": {
        "id": "JSpFpcgsA0Wv"
      },
      "source": [
        "### Ridge Regression with different alphas"
      ]
    },
    {
      "cell_type": "code",
      "metadata": {
        "colab": {
          "base_uri": "https://localhost:8080/"
        },
        "id": "qLejzLFQ_81M",
        "outputId": "4b2d500b-91fc-48c6-8cdf-8719f94f190b"
      },
      "source": [
        "alphas = [0.001, 0.01, 0.1, 1, 10]\n",
        "print('All errors are MSE')\n",
        "print('-'*76)\n",
        "for alpha in alphas:\n",
        "    ridge = Ridge(alpha=alpha, fit_intercept=True, random_state=99)\n",
        "    ridge.fit(X_train, y_train)\n",
        "    new_train_error = mean_squared_error(y_train, ridge.predict(X_train))\n",
        "    new_test_error = mean_squared_error(y_test, ridge.predict(X_test))\n",
        "    # print errors as report\n",
        "    print('alpha: {:7} | train error: {:5} | test error: {}'.\n",
        "          format(alpha,\n",
        "                 round(new_train_error,3),\n",
        "                 round(new_test_error,3)))"
      ],
      "execution_count": 233,
      "outputs": [
        {
          "output_type": "stream",
          "text": [
            "All errors are MSE\n",
            "----------------------------------------------------------------------------\n",
            "alpha:   0.001 | train error: 0.001 | test error: 0.001\n",
            "alpha:    0.01 | train error: 0.001 | test error: 0.001\n",
            "alpha:     0.1 | train error: 0.001 | test error: 0.001\n",
            "alpha:       1 | train error: 0.001 | test error: 0.001\n",
            "alpha:      10 | train error: 0.001 | test error: 0.001\n"
          ],
          "name": "stdout"
        }
      ]
    },
    {
      "cell_type": "markdown",
      "metadata": {
        "id": "7uIKOf8AMInc"
      },
      "source": [
        "# Lasso Regression"
      ]
    },
    {
      "cell_type": "markdown",
      "metadata": {
        "id": "OndgkXh0MPMt"
      },
      "source": [
        "## part 6:"
      ]
    },
    {
      "cell_type": "markdown",
      "metadata": {
        "id": "QfI0CiWJAuGB"
      },
      "source": [
        "### Lasso Regression K-Fold CV"
      ]
    },
    {
      "cell_type": "code",
      "metadata": {
        "colab": {
          "base_uri": "https://localhost:8080/"
        },
        "id": "Jft7rl6gMyk0",
        "outputId": "a9b2c7b9-804d-4828-f1ec-0584814a4a38"
      },
      "source": [
        "lasso_regression_model = Lasso(alpha=1.0, fit_intercept=True, random_state=77)\n",
        "    \n",
        "\n",
        "cv = KFold(10, True, 1)\n",
        "cv2 = KFold(5, True, 1)\n",
        "\n",
        "scores = cross_val_score(lasso_regression_model, X, y, scoring='neg_mean_squared_error', cv=cv, n_jobs=-1)\n",
        "scores2 = cross_val_score(lasso_regression_model, X, y, scoring='neg_mean_squared_error', cv=cv2, n_jobs=-1)\n",
        "\n",
        "scores = absolute(scores)\n",
        "scores2 = absolute(scores2)\n",
        "\n",
        "print('10 Fold:Mean MSE: %.3f (%.3f)' % (mean(scores), std(scores)))\n",
        "print('5 Fold:Mean MSE: %.3f (%.3f)' % (mean(scores2), std(scores2)))"
      ],
      "execution_count": 236,
      "outputs": [
        {
          "output_type": "stream",
          "text": [
            "10 Fold:Mean MSE: 0.015 (0.000)\n",
            "5 Fold:Mean MSE: 0.015 (0.000)\n"
          ],
          "name": "stdout"
        }
      ]
    },
    {
      "cell_type": "markdown",
      "metadata": {
        "id": "_kMnbZGsNgw1"
      },
      "source": [
        "### Lasso with different alphas:"
      ]
    },
    {
      "cell_type": "code",
      "metadata": {
        "id": "lqHRlIf-Ap7D"
      },
      "source": [
        "alphas = [1e-4, 1e-3, 1e-2, 1e-1, 1, 1e1]\n",
        "\n",
        "val_errors = []\n",
        "for alpha in alphas:\n",
        "    lasso = Lasso(alpha=alpha, fit_intercept=True, random_state=77)\n",
        "    errors = np.sum(-cross_val_score(lasso, \n",
        "                                     X, \n",
        "                                     y=y, \n",
        "                                     scoring='neg_mean_squared_error', \n",
        "                                     cv=10, \n",
        "                                     n_jobs=-1))\n",
        "    val_errors.append(np.sqrt(errors))"
      ],
      "execution_count": 239,
      "outputs": []
    },
    {
      "cell_type": "code",
      "metadata": {
        "colab": {
          "base_uri": "https://localhost:8080/"
        },
        "id": "bPcWSq8GB3fD",
        "outputId": "b05ed400-d77b-4cfb-f0f3-aa9890d0f629"
      },
      "source": [
        "print(val_errors)"
      ],
      "execution_count": 240,
      "outputs": [
        {
          "output_type": "stream",
          "text": [
            "[0.1056353727523924, 0.1142056205630738, 0.12310714949502266, 0.341178286575496, 0.3876513014543515, 0.3876513014543515]\n"
          ],
          "name": "stdout"
        }
      ]
    },
    {
      "cell_type": "code",
      "metadata": {
        "colab": {
          "base_uri": "https://localhost:8080/"
        },
        "id": "k-NAAVRfB7xT",
        "outputId": "16d5ccbb-8143-4f7d-b9f1-aab333d28e39"
      },
      "source": [
        "print('best alpha: {}'.format(alphas[np.argmin(val_errors)]))"
      ],
      "execution_count": 241,
      "outputs": [
        {
          "output_type": "stream",
          "text": [
            "best alpha: 0.0001\n"
          ],
          "name": "stdout"
        }
      ]
    }
  ]
}