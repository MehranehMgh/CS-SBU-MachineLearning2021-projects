{
  "nbformat": 4,
  "nbformat_minor": 0,
  "metadata": {
    "colab": {
      "name": "exer2_part3.ipynb",
      "provenance": [],
      "collapsed_sections": [
        "ecUs7ubWwS4d",
        "Z---qKrfQKDz",
        "h3ibAeJWqNSV",
        "UYkVViHSQNY6",
        "U7m2zcDqdO4d",
        "VKAOignBQTQD",
        "M-W9o38Yh2HS",
        "PrmBJxm1Qd2I",
        "Ux9bNLw-keCI",
        "DEMZpAL4n10d",
        "Hur80pqDRK1s",
        "ate2yiX_pUFH",
        "jgaHMVNFRjP7",
        "qd5fIExqTabp",
        "9GGsJcK8TkHL",
        "vG1nn3U0TvrQ",
        "My-C4BPOMVrC"
      ]
    },
    "kernelspec": {
      "name": "python3",
      "display_name": "Python 3"
    },
    "language_info": {
      "name": "python"
    }
  },
  "cells": [
    {
      "cell_type": "code",
      "metadata": {
        "id": "0JIvCZDntMl_"
      },
      "source": [
        "import pandas as pd\n",
        "import numpy as np"
      ],
      "execution_count": 1,
      "outputs": []
    },
    {
      "cell_type": "code",
      "metadata": {
        "colab": {
          "base_uri": "https://localhost:8080/"
        },
        "id": "g-tB11u0thMo",
        "outputId": "a82ecdae-5e48-47dd-fe55-15516346458a"
      },
      "source": [
        "from google.colab import drive\n",
        "drive.mount('/gdrive')"
      ],
      "execution_count": 2,
      "outputs": [
        {
          "output_type": "stream",
          "text": [
            "Mounted at /gdrive\n"
          ],
          "name": "stdout"
        }
      ]
    },
    {
      "cell_type": "code",
      "metadata": {
        "id": "urq35qFbtoVz"
      },
      "source": [
        "train_data = pd.read_csv('/gdrive/My Drive/mobile-price-classification/train.csv')\n",
        "test_data = pd.read_csv('/gdrive/My Drive/mobile-price-classification/test.csv')"
      ],
      "execution_count": 3,
      "outputs": []
    },
    {
      "cell_type": "code",
      "metadata": {
        "colab": {
          "base_uri": "https://localhost:8080/"
        },
        "id": "TRApYRF7vPgi",
        "outputId": "94318f3a-edbe-41fb-9cad-17df31aa22f1"
      },
      "source": [
        "train_data.shape"
      ],
      "execution_count": 4,
      "outputs": [
        {
          "output_type": "execute_result",
          "data": {
            "text/plain": [
              "(2000, 21)"
            ]
          },
          "metadata": {
            "tags": []
          },
          "execution_count": 4
        }
      ]
    },
    {
      "cell_type": "code",
      "metadata": {
        "colab": {
          "base_uri": "https://localhost:8080/"
        },
        "id": "0xHUV7yQvT3d",
        "outputId": "418dfd46-2021-4e70-b8ec-4e3a6940041b"
      },
      "source": [
        "test_data.shape"
      ],
      "execution_count": 5,
      "outputs": [
        {
          "output_type": "execute_result",
          "data": {
            "text/plain": [
              "(1000, 21)"
            ]
          },
          "metadata": {
            "tags": []
          },
          "execution_count": 5
        }
      ]
    },
    {
      "cell_type": "code",
      "metadata": {
        "colab": {
          "base_uri": "https://localhost:8080/",
          "height": 217
        },
        "id": "AtLXAgUevXd0",
        "outputId": "784c1a1b-2513-4fd0-ee02-ce20d17b5905"
      },
      "source": [
        "train_data.head()"
      ],
      "execution_count": 6,
      "outputs": [
        {
          "output_type": "execute_result",
          "data": {
            "text/html": [
              "<div>\n",
              "<style scoped>\n",
              "    .dataframe tbody tr th:only-of-type {\n",
              "        vertical-align: middle;\n",
              "    }\n",
              "\n",
              "    .dataframe tbody tr th {\n",
              "        vertical-align: top;\n",
              "    }\n",
              "\n",
              "    .dataframe thead th {\n",
              "        text-align: right;\n",
              "    }\n",
              "</style>\n",
              "<table border=\"1\" class=\"dataframe\">\n",
              "  <thead>\n",
              "    <tr style=\"text-align: right;\">\n",
              "      <th></th>\n",
              "      <th>battery_power</th>\n",
              "      <th>blue</th>\n",
              "      <th>clock_speed</th>\n",
              "      <th>dual_sim</th>\n",
              "      <th>fc</th>\n",
              "      <th>four_g</th>\n",
              "      <th>int_memory</th>\n",
              "      <th>m_dep</th>\n",
              "      <th>mobile_wt</th>\n",
              "      <th>n_cores</th>\n",
              "      <th>pc</th>\n",
              "      <th>px_height</th>\n",
              "      <th>px_width</th>\n",
              "      <th>ram</th>\n",
              "      <th>sc_h</th>\n",
              "      <th>sc_w</th>\n",
              "      <th>talk_time</th>\n",
              "      <th>three_g</th>\n",
              "      <th>touch_screen</th>\n",
              "      <th>wifi</th>\n",
              "      <th>price_range</th>\n",
              "    </tr>\n",
              "  </thead>\n",
              "  <tbody>\n",
              "    <tr>\n",
              "      <th>0</th>\n",
              "      <td>842</td>\n",
              "      <td>0</td>\n",
              "      <td>2.2</td>\n",
              "      <td>0</td>\n",
              "      <td>1</td>\n",
              "      <td>0</td>\n",
              "      <td>7</td>\n",
              "      <td>0.6</td>\n",
              "      <td>188</td>\n",
              "      <td>2</td>\n",
              "      <td>2</td>\n",
              "      <td>20</td>\n",
              "      <td>756</td>\n",
              "      <td>2549</td>\n",
              "      <td>9</td>\n",
              "      <td>7</td>\n",
              "      <td>19</td>\n",
              "      <td>0</td>\n",
              "      <td>0</td>\n",
              "      <td>1</td>\n",
              "      <td>1</td>\n",
              "    </tr>\n",
              "    <tr>\n",
              "      <th>1</th>\n",
              "      <td>1021</td>\n",
              "      <td>1</td>\n",
              "      <td>0.5</td>\n",
              "      <td>1</td>\n",
              "      <td>0</td>\n",
              "      <td>1</td>\n",
              "      <td>53</td>\n",
              "      <td>0.7</td>\n",
              "      <td>136</td>\n",
              "      <td>3</td>\n",
              "      <td>6</td>\n",
              "      <td>905</td>\n",
              "      <td>1988</td>\n",
              "      <td>2631</td>\n",
              "      <td>17</td>\n",
              "      <td>3</td>\n",
              "      <td>7</td>\n",
              "      <td>1</td>\n",
              "      <td>1</td>\n",
              "      <td>0</td>\n",
              "      <td>2</td>\n",
              "    </tr>\n",
              "    <tr>\n",
              "      <th>2</th>\n",
              "      <td>563</td>\n",
              "      <td>1</td>\n",
              "      <td>0.5</td>\n",
              "      <td>1</td>\n",
              "      <td>2</td>\n",
              "      <td>1</td>\n",
              "      <td>41</td>\n",
              "      <td>0.9</td>\n",
              "      <td>145</td>\n",
              "      <td>5</td>\n",
              "      <td>6</td>\n",
              "      <td>1263</td>\n",
              "      <td>1716</td>\n",
              "      <td>2603</td>\n",
              "      <td>11</td>\n",
              "      <td>2</td>\n",
              "      <td>9</td>\n",
              "      <td>1</td>\n",
              "      <td>1</td>\n",
              "      <td>0</td>\n",
              "      <td>2</td>\n",
              "    </tr>\n",
              "    <tr>\n",
              "      <th>3</th>\n",
              "      <td>615</td>\n",
              "      <td>1</td>\n",
              "      <td>2.5</td>\n",
              "      <td>0</td>\n",
              "      <td>0</td>\n",
              "      <td>0</td>\n",
              "      <td>10</td>\n",
              "      <td>0.8</td>\n",
              "      <td>131</td>\n",
              "      <td>6</td>\n",
              "      <td>9</td>\n",
              "      <td>1216</td>\n",
              "      <td>1786</td>\n",
              "      <td>2769</td>\n",
              "      <td>16</td>\n",
              "      <td>8</td>\n",
              "      <td>11</td>\n",
              "      <td>1</td>\n",
              "      <td>0</td>\n",
              "      <td>0</td>\n",
              "      <td>2</td>\n",
              "    </tr>\n",
              "    <tr>\n",
              "      <th>4</th>\n",
              "      <td>1821</td>\n",
              "      <td>1</td>\n",
              "      <td>1.2</td>\n",
              "      <td>0</td>\n",
              "      <td>13</td>\n",
              "      <td>1</td>\n",
              "      <td>44</td>\n",
              "      <td>0.6</td>\n",
              "      <td>141</td>\n",
              "      <td>2</td>\n",
              "      <td>14</td>\n",
              "      <td>1208</td>\n",
              "      <td>1212</td>\n",
              "      <td>1411</td>\n",
              "      <td>8</td>\n",
              "      <td>2</td>\n",
              "      <td>15</td>\n",
              "      <td>1</td>\n",
              "      <td>1</td>\n",
              "      <td>0</td>\n",
              "      <td>1</td>\n",
              "    </tr>\n",
              "  </tbody>\n",
              "</table>\n",
              "</div>"
            ],
            "text/plain": [
              "   battery_power  blue  clock_speed  ...  touch_screen  wifi  price_range\n",
              "0            842     0          2.2  ...             0     1            1\n",
              "1           1021     1          0.5  ...             1     0            2\n",
              "2            563     1          0.5  ...             1     0            2\n",
              "3            615     1          2.5  ...             0     0            2\n",
              "4           1821     1          1.2  ...             1     0            1\n",
              "\n",
              "[5 rows x 21 columns]"
            ]
          },
          "metadata": {
            "tags": []
          },
          "execution_count": 6
        }
      ]
    },
    {
      "cell_type": "code",
      "metadata": {
        "colab": {
          "base_uri": "https://localhost:8080/",
          "height": 217
        },
        "id": "fWIlFHV2xrDi",
        "outputId": "9f58aae0-a1cf-45c4-c3e3-e80f8f188ca5"
      },
      "source": [
        "test_data.head()"
      ],
      "execution_count": 7,
      "outputs": [
        {
          "output_type": "execute_result",
          "data": {
            "text/html": [
              "<div>\n",
              "<style scoped>\n",
              "    .dataframe tbody tr th:only-of-type {\n",
              "        vertical-align: middle;\n",
              "    }\n",
              "\n",
              "    .dataframe tbody tr th {\n",
              "        vertical-align: top;\n",
              "    }\n",
              "\n",
              "    .dataframe thead th {\n",
              "        text-align: right;\n",
              "    }\n",
              "</style>\n",
              "<table border=\"1\" class=\"dataframe\">\n",
              "  <thead>\n",
              "    <tr style=\"text-align: right;\">\n",
              "      <th></th>\n",
              "      <th>id</th>\n",
              "      <th>battery_power</th>\n",
              "      <th>blue</th>\n",
              "      <th>clock_speed</th>\n",
              "      <th>dual_sim</th>\n",
              "      <th>fc</th>\n",
              "      <th>four_g</th>\n",
              "      <th>int_memory</th>\n",
              "      <th>m_dep</th>\n",
              "      <th>mobile_wt</th>\n",
              "      <th>n_cores</th>\n",
              "      <th>pc</th>\n",
              "      <th>px_height</th>\n",
              "      <th>px_width</th>\n",
              "      <th>ram</th>\n",
              "      <th>sc_h</th>\n",
              "      <th>sc_w</th>\n",
              "      <th>talk_time</th>\n",
              "      <th>three_g</th>\n",
              "      <th>touch_screen</th>\n",
              "      <th>wifi</th>\n",
              "    </tr>\n",
              "  </thead>\n",
              "  <tbody>\n",
              "    <tr>\n",
              "      <th>0</th>\n",
              "      <td>1</td>\n",
              "      <td>1043</td>\n",
              "      <td>1</td>\n",
              "      <td>1.8</td>\n",
              "      <td>1</td>\n",
              "      <td>14</td>\n",
              "      <td>0</td>\n",
              "      <td>5</td>\n",
              "      <td>0.1</td>\n",
              "      <td>193</td>\n",
              "      <td>3</td>\n",
              "      <td>16</td>\n",
              "      <td>226</td>\n",
              "      <td>1412</td>\n",
              "      <td>3476</td>\n",
              "      <td>12</td>\n",
              "      <td>7</td>\n",
              "      <td>2</td>\n",
              "      <td>0</td>\n",
              "      <td>1</td>\n",
              "      <td>0</td>\n",
              "    </tr>\n",
              "    <tr>\n",
              "      <th>1</th>\n",
              "      <td>2</td>\n",
              "      <td>841</td>\n",
              "      <td>1</td>\n",
              "      <td>0.5</td>\n",
              "      <td>1</td>\n",
              "      <td>4</td>\n",
              "      <td>1</td>\n",
              "      <td>61</td>\n",
              "      <td>0.8</td>\n",
              "      <td>191</td>\n",
              "      <td>5</td>\n",
              "      <td>12</td>\n",
              "      <td>746</td>\n",
              "      <td>857</td>\n",
              "      <td>3895</td>\n",
              "      <td>6</td>\n",
              "      <td>0</td>\n",
              "      <td>7</td>\n",
              "      <td>1</td>\n",
              "      <td>0</td>\n",
              "      <td>0</td>\n",
              "    </tr>\n",
              "    <tr>\n",
              "      <th>2</th>\n",
              "      <td>3</td>\n",
              "      <td>1807</td>\n",
              "      <td>1</td>\n",
              "      <td>2.8</td>\n",
              "      <td>0</td>\n",
              "      <td>1</td>\n",
              "      <td>0</td>\n",
              "      <td>27</td>\n",
              "      <td>0.9</td>\n",
              "      <td>186</td>\n",
              "      <td>3</td>\n",
              "      <td>4</td>\n",
              "      <td>1270</td>\n",
              "      <td>1366</td>\n",
              "      <td>2396</td>\n",
              "      <td>17</td>\n",
              "      <td>10</td>\n",
              "      <td>10</td>\n",
              "      <td>0</td>\n",
              "      <td>1</td>\n",
              "      <td>1</td>\n",
              "    </tr>\n",
              "    <tr>\n",
              "      <th>3</th>\n",
              "      <td>4</td>\n",
              "      <td>1546</td>\n",
              "      <td>0</td>\n",
              "      <td>0.5</td>\n",
              "      <td>1</td>\n",
              "      <td>18</td>\n",
              "      <td>1</td>\n",
              "      <td>25</td>\n",
              "      <td>0.5</td>\n",
              "      <td>96</td>\n",
              "      <td>8</td>\n",
              "      <td>20</td>\n",
              "      <td>295</td>\n",
              "      <td>1752</td>\n",
              "      <td>3893</td>\n",
              "      <td>10</td>\n",
              "      <td>0</td>\n",
              "      <td>7</td>\n",
              "      <td>1</td>\n",
              "      <td>1</td>\n",
              "      <td>0</td>\n",
              "    </tr>\n",
              "    <tr>\n",
              "      <th>4</th>\n",
              "      <td>5</td>\n",
              "      <td>1434</td>\n",
              "      <td>0</td>\n",
              "      <td>1.4</td>\n",
              "      <td>0</td>\n",
              "      <td>11</td>\n",
              "      <td>1</td>\n",
              "      <td>49</td>\n",
              "      <td>0.5</td>\n",
              "      <td>108</td>\n",
              "      <td>6</td>\n",
              "      <td>18</td>\n",
              "      <td>749</td>\n",
              "      <td>810</td>\n",
              "      <td>1773</td>\n",
              "      <td>15</td>\n",
              "      <td>8</td>\n",
              "      <td>7</td>\n",
              "      <td>1</td>\n",
              "      <td>0</td>\n",
              "      <td>1</td>\n",
              "    </tr>\n",
              "  </tbody>\n",
              "</table>\n",
              "</div>"
            ],
            "text/plain": [
              "   id  battery_power  blue  clock_speed  ...  talk_time  three_g  touch_screen  wifi\n",
              "0   1           1043     1          1.8  ...          2        0             1     0\n",
              "1   2            841     1          0.5  ...          7        1             0     0\n",
              "2   3           1807     1          2.8  ...         10        0             1     1\n",
              "3   4           1546     0          0.5  ...          7        1             1     0\n",
              "4   5           1434     0          1.4  ...          7        1             0     1\n",
              "\n",
              "[5 rows x 21 columns]"
            ]
          },
          "metadata": {
            "tags": []
          },
          "execution_count": 7
        }
      ]
    },
    {
      "cell_type": "code",
      "metadata": {
        "id": "W5MkmxdNx842"
      },
      "source": [
        "test_data=test_data.drop(columns=['id'])"
      ],
      "execution_count": 10,
      "outputs": []
    },
    {
      "cell_type": "code",
      "metadata": {
        "colab": {
          "base_uri": "https://localhost:8080/",
          "height": 197
        },
        "id": "JFFegMZQzE2B",
        "outputId": "14b1f7f2-6b23-485f-fbf4-cfd6bee39675"
      },
      "source": [
        "test_data.head()"
      ],
      "execution_count": 11,
      "outputs": [
        {
          "output_type": "execute_result",
          "data": {
            "text/html": [
              "<div>\n",
              "<style scoped>\n",
              "    .dataframe tbody tr th:only-of-type {\n",
              "        vertical-align: middle;\n",
              "    }\n",
              "\n",
              "    .dataframe tbody tr th {\n",
              "        vertical-align: top;\n",
              "    }\n",
              "\n",
              "    .dataframe thead th {\n",
              "        text-align: right;\n",
              "    }\n",
              "</style>\n",
              "<table border=\"1\" class=\"dataframe\">\n",
              "  <thead>\n",
              "    <tr style=\"text-align: right;\">\n",
              "      <th></th>\n",
              "      <th>battery_power</th>\n",
              "      <th>blue</th>\n",
              "      <th>clock_speed</th>\n",
              "      <th>dual_sim</th>\n",
              "      <th>fc</th>\n",
              "      <th>four_g</th>\n",
              "      <th>int_memory</th>\n",
              "      <th>m_dep</th>\n",
              "      <th>mobile_wt</th>\n",
              "      <th>n_cores</th>\n",
              "      <th>pc</th>\n",
              "      <th>px_height</th>\n",
              "      <th>px_width</th>\n",
              "      <th>ram</th>\n",
              "      <th>sc_h</th>\n",
              "      <th>sc_w</th>\n",
              "      <th>talk_time</th>\n",
              "      <th>three_g</th>\n",
              "      <th>touch_screen</th>\n",
              "      <th>wifi</th>\n",
              "    </tr>\n",
              "  </thead>\n",
              "  <tbody>\n",
              "    <tr>\n",
              "      <th>0</th>\n",
              "      <td>1043</td>\n",
              "      <td>1</td>\n",
              "      <td>1.8</td>\n",
              "      <td>1</td>\n",
              "      <td>14</td>\n",
              "      <td>0</td>\n",
              "      <td>5</td>\n",
              "      <td>0.1</td>\n",
              "      <td>193</td>\n",
              "      <td>3</td>\n",
              "      <td>16</td>\n",
              "      <td>226</td>\n",
              "      <td>1412</td>\n",
              "      <td>3476</td>\n",
              "      <td>12</td>\n",
              "      <td>7</td>\n",
              "      <td>2</td>\n",
              "      <td>0</td>\n",
              "      <td>1</td>\n",
              "      <td>0</td>\n",
              "    </tr>\n",
              "    <tr>\n",
              "      <th>1</th>\n",
              "      <td>841</td>\n",
              "      <td>1</td>\n",
              "      <td>0.5</td>\n",
              "      <td>1</td>\n",
              "      <td>4</td>\n",
              "      <td>1</td>\n",
              "      <td>61</td>\n",
              "      <td>0.8</td>\n",
              "      <td>191</td>\n",
              "      <td>5</td>\n",
              "      <td>12</td>\n",
              "      <td>746</td>\n",
              "      <td>857</td>\n",
              "      <td>3895</td>\n",
              "      <td>6</td>\n",
              "      <td>0</td>\n",
              "      <td>7</td>\n",
              "      <td>1</td>\n",
              "      <td>0</td>\n",
              "      <td>0</td>\n",
              "    </tr>\n",
              "    <tr>\n",
              "      <th>2</th>\n",
              "      <td>1807</td>\n",
              "      <td>1</td>\n",
              "      <td>2.8</td>\n",
              "      <td>0</td>\n",
              "      <td>1</td>\n",
              "      <td>0</td>\n",
              "      <td>27</td>\n",
              "      <td>0.9</td>\n",
              "      <td>186</td>\n",
              "      <td>3</td>\n",
              "      <td>4</td>\n",
              "      <td>1270</td>\n",
              "      <td>1366</td>\n",
              "      <td>2396</td>\n",
              "      <td>17</td>\n",
              "      <td>10</td>\n",
              "      <td>10</td>\n",
              "      <td>0</td>\n",
              "      <td>1</td>\n",
              "      <td>1</td>\n",
              "    </tr>\n",
              "    <tr>\n",
              "      <th>3</th>\n",
              "      <td>1546</td>\n",
              "      <td>0</td>\n",
              "      <td>0.5</td>\n",
              "      <td>1</td>\n",
              "      <td>18</td>\n",
              "      <td>1</td>\n",
              "      <td>25</td>\n",
              "      <td>0.5</td>\n",
              "      <td>96</td>\n",
              "      <td>8</td>\n",
              "      <td>20</td>\n",
              "      <td>295</td>\n",
              "      <td>1752</td>\n",
              "      <td>3893</td>\n",
              "      <td>10</td>\n",
              "      <td>0</td>\n",
              "      <td>7</td>\n",
              "      <td>1</td>\n",
              "      <td>1</td>\n",
              "      <td>0</td>\n",
              "    </tr>\n",
              "    <tr>\n",
              "      <th>4</th>\n",
              "      <td>1434</td>\n",
              "      <td>0</td>\n",
              "      <td>1.4</td>\n",
              "      <td>0</td>\n",
              "      <td>11</td>\n",
              "      <td>1</td>\n",
              "      <td>49</td>\n",
              "      <td>0.5</td>\n",
              "      <td>108</td>\n",
              "      <td>6</td>\n",
              "      <td>18</td>\n",
              "      <td>749</td>\n",
              "      <td>810</td>\n",
              "      <td>1773</td>\n",
              "      <td>15</td>\n",
              "      <td>8</td>\n",
              "      <td>7</td>\n",
              "      <td>1</td>\n",
              "      <td>0</td>\n",
              "      <td>1</td>\n",
              "    </tr>\n",
              "  </tbody>\n",
              "</table>\n",
              "</div>"
            ],
            "text/plain": [
              "   battery_power  blue  clock_speed  ...  three_g  touch_screen  wifi\n",
              "0           1043     1          1.8  ...        0             1     0\n",
              "1            841     1          0.5  ...        1             0     0\n",
              "2           1807     1          2.8  ...        0             1     1\n",
              "3           1546     0          0.5  ...        1             1     0\n",
              "4           1434     0          1.4  ...        1             0     1\n",
              "\n",
              "[5 rows x 20 columns]"
            ]
          },
          "metadata": {
            "tags": []
          },
          "execution_count": 11
        }
      ]
    },
    {
      "cell_type": "code",
      "metadata": {
        "colab": {
          "base_uri": "https://localhost:8080/"
        },
        "id": "T-LWHG6SwCdc",
        "outputId": "0d5a67a5-3980-4736-fe82-d8a1ff85206f"
      },
      "source": [
        "train_data.info()"
      ],
      "execution_count": 12,
      "outputs": [
        {
          "output_type": "stream",
          "text": [
            "<class 'pandas.core.frame.DataFrame'>\n",
            "RangeIndex: 2000 entries, 0 to 1999\n",
            "Data columns (total 21 columns):\n",
            " #   Column         Non-Null Count  Dtype  \n",
            "---  ------         --------------  -----  \n",
            " 0   battery_power  2000 non-null   int64  \n",
            " 1   blue           2000 non-null   int64  \n",
            " 2   clock_speed    2000 non-null   float64\n",
            " 3   dual_sim       2000 non-null   int64  \n",
            " 4   fc             2000 non-null   int64  \n",
            " 5   four_g         2000 non-null   int64  \n",
            " 6   int_memory     2000 non-null   int64  \n",
            " 7   m_dep          2000 non-null   float64\n",
            " 8   mobile_wt      2000 non-null   int64  \n",
            " 9   n_cores        2000 non-null   int64  \n",
            " 10  pc             2000 non-null   int64  \n",
            " 11  px_height      2000 non-null   int64  \n",
            " 12  px_width       2000 non-null   int64  \n",
            " 13  ram            2000 non-null   int64  \n",
            " 14  sc_h           2000 non-null   int64  \n",
            " 15  sc_w           2000 non-null   int64  \n",
            " 16  talk_time      2000 non-null   int64  \n",
            " 17  three_g        2000 non-null   int64  \n",
            " 18  touch_screen   2000 non-null   int64  \n",
            " 19  wifi           2000 non-null   int64  \n",
            " 20  price_range    2000 non-null   int64  \n",
            "dtypes: float64(2), int64(19)\n",
            "memory usage: 328.2 KB\n"
          ],
          "name": "stdout"
        }
      ]
    },
    {
      "cell_type": "code",
      "metadata": {
        "colab": {
          "base_uri": "https://localhost:8080/"
        },
        "id": "5VjmI1PJzOpH",
        "outputId": "b610119c-f728-4676-cd0f-024dd4fc5ab9"
      },
      "source": [
        "test_data.info()"
      ],
      "execution_count": 13,
      "outputs": [
        {
          "output_type": "stream",
          "text": [
            "<class 'pandas.core.frame.DataFrame'>\n",
            "RangeIndex: 1000 entries, 0 to 999\n",
            "Data columns (total 20 columns):\n",
            " #   Column         Non-Null Count  Dtype  \n",
            "---  ------         --------------  -----  \n",
            " 0   battery_power  1000 non-null   int64  \n",
            " 1   blue           1000 non-null   int64  \n",
            " 2   clock_speed    1000 non-null   float64\n",
            " 3   dual_sim       1000 non-null   int64  \n",
            " 4   fc             1000 non-null   int64  \n",
            " 5   four_g         1000 non-null   int64  \n",
            " 6   int_memory     1000 non-null   int64  \n",
            " 7   m_dep          1000 non-null   float64\n",
            " 8   mobile_wt      1000 non-null   int64  \n",
            " 9   n_cores        1000 non-null   int64  \n",
            " 10  pc             1000 non-null   int64  \n",
            " 11  px_height      1000 non-null   int64  \n",
            " 12  px_width       1000 non-null   int64  \n",
            " 13  ram            1000 non-null   int64  \n",
            " 14  sc_h           1000 non-null   int64  \n",
            " 15  sc_w           1000 non-null   int64  \n",
            " 16  talk_time      1000 non-null   int64  \n",
            " 17  three_g        1000 non-null   int64  \n",
            " 18  touch_screen   1000 non-null   int64  \n",
            " 19  wifi           1000 non-null   int64  \n",
            "dtypes: float64(2), int64(18)\n",
            "memory usage: 156.4 KB\n"
          ],
          "name": "stdout"
        }
      ]
    },
    {
      "cell_type": "markdown",
      "metadata": {
        "id": "ecUs7ubWwS4d"
      },
      "source": [
        "### normalizing numeric data"
      ]
    },
    {
      "cell_type": "code",
      "metadata": {
        "id": "dKxs-kUmwTdM"
      },
      "source": [
        "for cols in train_data.loc[:, train_data.columns != 'price_range']:\n",
        "    train_data[cols] = ((train_data[cols] -  train_data[cols].mean())/(train_data[cols].std()))"
      ],
      "execution_count": 14,
      "outputs": []
    },
    {
      "cell_type": "code",
      "metadata": {
        "id": "YdZhDov0zbjH"
      },
      "source": [
        "for cols in test_data.columns:\n",
        "    test_data[cols] = ((test_data[cols] -  test_data[cols].mean())/(test_data[cols].std()))"
      ],
      "execution_count": 15,
      "outputs": []
    },
    {
      "cell_type": "markdown",
      "metadata": {
        "id": "CACdPJ8sTpDA"
      },
      "source": [
        "# Logistic Regression Model"
      ]
    },
    {
      "cell_type": "code",
      "metadata": {
        "id": "QQjZsokAmHhl"
      },
      "source": [
        "from sklearn.linear_model import LogisticRegression\n",
        "from sklearn.metrics import classification_report\n",
        "\n",
        "def classification_reports(X_train, y_train, model, target_names):\n",
        "  model.fit(X_train, y_train)\n",
        "  y_pred = model.predict(X_train)\n",
        "  print(classification_report(y_train, y_pred, target_names=target_names))"
      ],
      "execution_count": 17,
      "outputs": []
    },
    {
      "cell_type": "markdown",
      "metadata": {
        "id": "Z---qKrfQKDz"
      },
      "source": [
        "## part 1:"
      ]
    },
    {
      "cell_type": "markdown",
      "metadata": {
        "id": "h3ibAeJWqNSV"
      },
      "source": [
        "### MultiClasses:"
      ]
    },
    {
      "cell_type": "code",
      "metadata": {
        "id": "hzX8aCjTX438",
        "colab": {
          "base_uri": "https://localhost:8080/"
        },
        "outputId": "a0e402c2-f4c5-45b4-d6c8-fa53e30cfea0"
      },
      "source": [
        "y_train = train_data['price_range']\n",
        "X_train = train_data.drop(columns = ['price_range'])\n",
        "target_names_4classes = ['class 0', 'class 1', 'class 2', 'class 3']\n",
        "model_multiple_classes = LogisticRegression(multi_class='multinomial',  solver='lbfgs')\n",
        "classification_reports(X_train, y_train, model_multiple_classes, target_names_4classes)"
      ],
      "execution_count": 26,
      "outputs": [
        {
          "output_type": "stream",
          "text": [
            "              precision    recall  f1-score   support\n",
            "\n",
            "     class 0       0.98      0.99      0.99       500\n",
            "     class 1       0.98      0.97      0.97       500\n",
            "     class 2       0.97      0.96      0.97       500\n",
            "     class 3       0.98      0.99      0.99       500\n",
            "\n",
            "    accuracy                           0.98      2000\n",
            "   macro avg       0.98      0.98      0.98      2000\n",
            "weighted avg       0.98      0.98      0.98      2000\n",
            "\n"
          ],
          "name": "stdout"
        }
      ]
    },
    {
      "cell_type": "markdown",
      "metadata": {
        "id": "UYkVViHSQNY6"
      },
      "source": [
        "## part 2:"
      ]
    },
    {
      "cell_type": "markdown",
      "metadata": {
        "id": "U7m2zcDqdO4d"
      },
      "source": [
        "###  Balance Dataset"
      ]
    },
    {
      "cell_type": "code",
      "metadata": {
        "id": "1V0xEfgPqXk4"
      },
      "source": [
        "import seaborn as sns"
      ],
      "execution_count": 19,
      "outputs": []
    },
    {
      "cell_type": "code",
      "metadata": {
        "colab": {
          "base_uri": "https://localhost:8080/"
        },
        "id": "6XU0yEFmg2Ad",
        "outputId": "55022a8c-b1c8-4368-c354-933b6fb4045b"
      },
      "source": [
        "train_data['price_range'].value_counts()/train_data['price_range'].count()"
      ],
      "execution_count": 20,
      "outputs": [
        {
          "output_type": "execute_result",
          "data": {
            "text/plain": [
              "3    0.25\n",
              "2    0.25\n",
              "1    0.25\n",
              "0    0.25\n",
              "Name: price_range, dtype: float64"
            ]
          },
          "metadata": {
            "tags": []
          },
          "execution_count": 20
        }
      ]
    },
    {
      "cell_type": "code",
      "metadata": {
        "colab": {
          "base_uri": "https://localhost:8080/",
          "height": 297
        },
        "id": "7uh5ABKahCXA",
        "outputId": "fe5b50f0-eaa2-44fa-9b02-bffc23c3a294"
      },
      "source": [
        "sns.countplot(x='price_range', data=train_data)"
      ],
      "execution_count": 21,
      "outputs": [
        {
          "output_type": "execute_result",
          "data": {
            "text/plain": [
              "<matplotlib.axes._subplots.AxesSubplot at 0x7fb2a492f790>"
            ]
          },
          "metadata": {
            "tags": []
          },
          "execution_count": 21
        },
        {
          "output_type": "display_data",
          "data": {
            "image/png": "[encoded data removed]",
            "text/plain": [
              "<Figure size 432x288 with 1 Axes>"
            ]
          },
          "metadata": {
            "tags": [],
            "needs_background": "light"
          }
        }
      ]
    },
    {
      "cell_type": "markdown",
      "metadata": {
        "id": "VKAOignBQTQD"
      },
      "source": [
        "## part 3:"
      ]
    },
    {
      "cell_type": "markdown",
      "metadata": {
        "id": "M-W9o38Yh2HS"
      },
      "source": [
        "### reduce number of classes"
      ]
    },
    {
      "cell_type": "code",
      "metadata": {
        "id": "XVo_Fha7h7Pb"
      },
      "source": [
        "train_data_new = train_data.copy()\n",
        "label1 = [1, 2, 3]\n",
        "def reduce_num_of_classes(x):\n",
        "    if x in label1:\n",
        "        return 1\n",
        "    else:\n",
        "        return x\n",
        "\n",
        "train_data_new['price_range'] = train_data_new['price_range'].apply(reduce_num_of_classes)"
      ],
      "execution_count": 22,
      "outputs": []
    },
    {
      "cell_type": "markdown",
      "metadata": {
        "id": "PrmBJxm1Qd2I"
      },
      "source": [
        "## part 4:"
      ]
    },
    {
      "cell_type": "markdown",
      "metadata": {
        "id": "Ux9bNLw-keCI"
      },
      "source": [
        "two classes:\n",
        "### highly unbalanced :"
      ]
    },
    {
      "cell_type": "code",
      "metadata": {
        "colab": {
          "base_uri": "https://localhost:8080/"
        },
        "id": "VQmUZKxckkWb",
        "outputId": "7a9721ab-dea1-4cc6-d2ce-b3427af20360"
      },
      "source": [
        "train_data_new['price_range'].value_counts()/train_data_new['price_range'].count()"
      ],
      "execution_count": 23,
      "outputs": [
        {
          "output_type": "execute_result",
          "data": {
            "text/plain": [
              "1    0.75\n",
              "0    0.25\n",
              "Name: price_range, dtype: float64"
            ]
          },
          "metadata": {
            "tags": []
          },
          "execution_count": 23
        }
      ]
    },
    {
      "cell_type": "code",
      "metadata": {
        "colab": {
          "base_uri": "https://localhost:8080/",
          "height": 297
        },
        "id": "DTOyplbqkr7K",
        "outputId": "b06fe6ea-1625-4bc1-ae16-3086d97eca7a"
      },
      "source": [
        "sns.countplot(x='price_range', data=train_data_new)"
      ],
      "execution_count": 24,
      "outputs": [
        {
          "output_type": "execute_result",
          "data": {
            "text/plain": [
              "<matplotlib.axes._subplots.AxesSubplot at 0x7fb2a3cdd250>"
            ]
          },
          "metadata": {
            "tags": []
          },
          "execution_count": 24
        },
        {
          "output_type": "display_data",
          "data": {
            "image/png": "[encoded data removed]",
            "text/plain": [
              "<Figure size 432x288 with 1 Axes>"
            ]
          },
          "metadata": {
            "tags": [],
            "needs_background": "light"
          }
        }
      ]
    },
    {
      "cell_type": "markdown",
      "metadata": {
        "id": "DEMZpAL4n10d"
      },
      "source": [
        "### Logistic Regression Model(Binary Unbalanced classes):\n",
        "\n",
        "\n"
      ]
    },
    {
      "cell_type": "code",
      "metadata": {
        "id": "T1PXXLmSoODb",
        "colab": {
          "base_uri": "https://localhost:8080/"
        },
        "outputId": "44077b2e-8805-4376-c699-e800ebfd4342"
      },
      "source": [
        "y_train_new = train_data_new['price_range']\n",
        "X_train_new = train_data_new.drop(columns= ['price_range'])\n",
        "model_binary_classes = LogisticRegression(solver='liblinear', random_state=0)\n",
        "target_names_2classes = ['class 0', 'class 1']\n",
        "classification_reports(X_train_new, y_train_new, model_binary_classes, target_names_2classes)"
      ],
      "execution_count": 25,
      "outputs": [
        {
          "output_type": "stream",
          "text": [
            "              precision    recall  f1-score   support\n",
            "\n",
            "     class 0       0.98      1.00      0.99       500\n",
            "     class 1       1.00      0.99      1.00      1500\n",
            "\n",
            "    accuracy                           0.99      2000\n",
            "   macro avg       0.99      0.99      0.99      2000\n",
            "weighted avg       0.99      0.99      0.99      2000\n",
            "\n"
          ],
          "name": "stdout"
        }
      ]
    },
    {
      "cell_type": "markdown",
      "metadata": {
        "id": "Hur80pqDRK1s"
      },
      "source": [
        "## part 5:"
      ]
    },
    {
      "cell_type": "markdown",
      "metadata": {
        "id": "ate2yiX_pUFH"
      },
      "source": [
        "### Random undersampling:"
      ]
    },
    {
      "cell_type": "code",
      "metadata": {
        "id": "nVuQ6yYQtyy9"
      },
      "source": [
        "import random\n",
        "class0_list = []\n",
        "for j, i in enumerate(train_data_new['price_range']):\n",
        "  if(i==0):\n",
        "    class0_list.append(j)\n",
        "class1_list=[i for i in range(2000)]\n",
        "for i in class0_list:\n",
        "  class1_list.remove(i)\n",
        "selected_index = random.sample(class1_list, len(class0_list))\n",
        "class1 = train_data_new.iloc[selected_index]\n",
        "class0 = train_data_new.iloc[class0_list]\n",
        "all = [class1, class0]\n",
        "train_data_new = pd.concat(all)\n",
        "train_data_new = train_data_new.sample(n=1000)\n",
        "train_data_new = train_data_new.reset_index()"
      ],
      "execution_count": 27,
      "outputs": []
    },
    {
      "cell_type": "code",
      "metadata": {
        "colab": {
          "base_uri": "https://localhost:8080/"
        },
        "id": "EzFSbQvHvx2x",
        "outputId": "50df8d90-28af-4ade-9445-b63c85976c15"
      },
      "source": [
        "train_data_new['price_range'].value_counts()/train_data_new['price_range'].count()"
      ],
      "execution_count": 28,
      "outputs": [
        {
          "output_type": "execute_result",
          "data": {
            "text/plain": [
              "1    0.5\n",
              "0    0.5\n",
              "Name: price_range, dtype: float64"
            ]
          },
          "metadata": {
            "tags": []
          },
          "execution_count": 28
        }
      ]
    },
    {
      "cell_type": "code",
      "metadata": {
        "colab": {
          "base_uri": "https://localhost:8080/",
          "height": 297
        },
        "id": "DN18cszqv25W",
        "outputId": "163e432b-c9c3-438d-acb2-b4cd34ae7200"
      },
      "source": [
        "sns.countplot(x='price_range', data=train_data_new)"
      ],
      "execution_count": 29,
      "outputs": [
        {
          "output_type": "execute_result",
          "data": {
            "text/plain": [
              "<matplotlib.axes._subplots.AxesSubplot at 0x7fb2a3c63110>"
            ]
          },
          "metadata": {
            "tags": []
          },
          "execution_count": 29
        },
        {
          "output_type": "display_data",
          "data": {
            "image/png": "[encoded data removed]",
            "text/plain": [
              "<Figure size 432x288 with 1 Axes>"
            ]
          },
          "metadata": {
            "tags": [],
            "needs_background": "light"
          }
        }
      ]
    },
    {
      "cell_type": "code",
      "metadata": {
        "colab": {
          "base_uri": "https://localhost:8080/"
        },
        "id": "1PFmidDUwpbr",
        "outputId": "faa02b69-9593-4757-e832-fe4167da3e53"
      },
      "source": [
        "y_train_new = train_data_new['price_range']\n",
        "X_train_new = train_data_new.drop(columns= ['price_range'])\n",
        "classification_reports(X_train_new, y_train_new, model_binary_classes, target_names_2classes)"
      ],
      "execution_count": 30,
      "outputs": [
        {
          "output_type": "stream",
          "text": [
            "              precision    recall  f1-score   support\n",
            "\n",
            "     class 0       0.97      1.00      0.98       500\n",
            "     class 1       1.00      0.97      0.98       500\n",
            "\n",
            "    accuracy                           0.98      1000\n",
            "   macro avg       0.98      0.98      0.98      1000\n",
            "weighted avg       0.98      0.98      0.98      1000\n",
            "\n"
          ],
          "name": "stdout"
        }
      ]
    },
    {
      "cell_type": "markdown",
      "metadata": {
        "id": "jgaHMVNFRjP7"
      },
      "source": [
        "## part 6:"
      ]
    },
    {
      "cell_type": "markdown",
      "metadata": {
        "id": "VZS7zK6Sriw3"
      },
      "source": [
        "### Forward Selection:"
      ]
    },
    {
      "cell_type": "code",
      "metadata": {
        "id": "0zny6GnIDJAd"
      },
      "source": [
        "train_data3 = train_data.copy()\n",
        "label0 = [0, 1]\n",
        "def reduce_num_of_classes(x):\n",
        "    if x in label0:\n",
        "        return 0\n",
        "    else:\n",
        "        return 1\n",
        "\n",
        "train_data3['price_range'] = train_data3['price_range'].apply(reduce_num_of_classes)"
      ],
      "execution_count": 31,
      "outputs": []
    },
    {
      "cell_type": "code",
      "metadata": {
        "colab": {
          "base_uri": "https://localhost:8080/"
        },
        "id": "OFjYtchlDDXh",
        "outputId": "9cd7da6d-077b-4601-dab7-869085f5bd06"
      },
      "source": [
        "train_data3['price_range'].value_counts()/train_data3['price_range'].count()"
      ],
      "execution_count": 32,
      "outputs": [
        {
          "output_type": "execute_result",
          "data": {
            "text/plain": [
              "1    0.5\n",
              "0    0.5\n",
              "Name: price_range, dtype: float64"
            ]
          },
          "metadata": {
            "tags": []
          },
          "execution_count": 32
        }
      ]
    },
    {
      "cell_type": "code",
      "metadata": {
        "colab": {
          "base_uri": "https://localhost:8080/",
          "height": 297
        },
        "id": "YZYD1id8Ds_x",
        "outputId": "8d94ae64-e450-4653-f160-b386f4f30e5a"
      },
      "source": [
        "sns.countplot(x='price_range', data=train_data3)"
      ],
      "execution_count": 33,
      "outputs": [
        {
          "output_type": "execute_result",
          "data": {
            "text/plain": [
              "<matplotlib.axes._subplots.AxesSubplot at 0x7fb2a3c7a290>"
            ]
          },
          "metadata": {
            "tags": []
          },
          "execution_count": 33
        },
        {
          "output_type": "display_data",
          "data": {
            "image/png": "[encoded data removed]",
            "text/plain": [
              "<Figure size 432x288 with 1 Axes>"
            ]
          },
          "metadata": {
            "tags": [],
            "needs_background": "light"
          }
        }
      ]
    },
    {
      "cell_type": "code",
      "metadata": {
        "id": "Pa_gRDPt0bnN"
      },
      "source": [
        "from sklearn.metrics import auc\n",
        "from sklearn.metrics import roc_curve\n",
        "from sklearn.model_selection import StratifiedKFold"
      ],
      "execution_count": 34,
      "outputs": []
    },
    {
      "cell_type": "code",
      "metadata": {
        "id": "9f-JDohJD7gr"
      },
      "source": [
        "def forwardSelection(X, y):\n",
        "    # Create list to store accuracies and chosen features\n",
        "    roc_auc_by_feature_number = []\n",
        "    chosen_features = []\n",
        "\n",
        "    # Initialise chosen features list and run tracker\n",
        "    available_features = list(X)\n",
        "    run = 0\n",
        "    number_of_features = len(list(X))\n",
        "\n",
        "    # Loop through feature list to select next feature\n",
        "    while len(available_features)> 0:\n",
        "\n",
        "        # Track and pront progress\n",
        "        run += 1\n",
        "        #print ('Feature run {} of {}'.format(run, number_of_features))\n",
        "        \n",
        "        # Convert DataFrames to NumPy arrays\n",
        "        y_np = y.values\n",
        "        \n",
        "        # Reset best feature and accuracy\n",
        "        best_result = 0\n",
        "        best_feature = ''\n",
        "\n",
        "        # Loop through available features\n",
        "        for feature in available_features:\n",
        "\n",
        "            # Create copy of already chosen features to avoid orginal being changed\n",
        "            features_to_use = chosen_features.copy()\n",
        "            # Create a list of features from features already chosen + 1 new feature\n",
        "            features_to_use.append(feature)\n",
        "            # Get data for features, and convert to NumPy array\n",
        "            X_np = X[features_to_use].values\n",
        "            \n",
        "            # Set up lists to hold results for each selected features\n",
        "            test_auc_results = []\n",
        "        \n",
        "            # Set up k-fold training/test splits\n",
        "            number_of_splits = 5\n",
        "            skf = StratifiedKFold(n_splits = number_of_splits)\n",
        "            skf.get_n_splits(X_np, y)\n",
        "        \n",
        "            # Loop through the k-fold splits\n",
        "            for train_index, test_index in skf.split(X_np, y_np):\n",
        "                \n",
        "                # Get X and Y train/test\n",
        "                X_train, X_test = X_np[train_index], X_np[test_index]\n",
        "                y_train, y_test = y[train_index], y[test_index]\n",
        "        \n",
        "                # Get X and Y train/test\n",
        "                #X_train_std, X_test_std = standardise_data(X_train, X_test)\n",
        "        \n",
        "                # Set up and fit model\n",
        "                model = LogisticRegression(solver='lbfgs')\n",
        "                model.fit(X_train, y_train)\n",
        "        \n",
        "                # Predict test set labels\n",
        "                y_pred_test = model.predict(X_test)\n",
        "                \n",
        "                # Calculate accuracy of test sets\n",
        "                accuracy_test = np.mean(y_pred_test == y_test)\n",
        "              \n",
        "                # Get ROC AUC\n",
        "                probabilities = model.predict_proba(X_test)\n",
        "                probabilities = probabilities[:, 1] # Probability of 'survived'\n",
        "                fpr, tpr, thresholds = roc_curve(y_test, probabilities)\n",
        "                roc_auc = auc(fpr, tpr)\n",
        "                test_auc_results.append(roc_auc)\n",
        "            \n",
        "            # Get average result from all k-fold splits\n",
        "            feature_auc = np.mean(test_auc_results)\n",
        "        \n",
        "            # Update chosen feature and result if this feature is a new best\n",
        "            if feature_auc > best_result:\n",
        "                best_result = feature_auc\n",
        "                best_feature = feature\n",
        "        \n",
        "        # k-fold splits are complete    \n",
        "        # Add mean accuracy and AUC to record of accuracy by feature number\n",
        "        roc_auc_by_feature_number.append(best_result)\n",
        "        chosen_features.append(best_feature)\n",
        "        available_features.remove(best_feature)\n",
        "\n",
        "    # Put results in DataFrame\n",
        "    results = pd.DataFrame()\n",
        "    results['feature to add'] = chosen_features\n",
        "    results['ROC AUC'] = roc_auc_by_feature_number\n",
        "    return results"
      ],
      "execution_count": 39,
      "outputs": []
    },
    {
      "cell_type": "code",
      "metadata": {
        "id": "xmeRH-CdFc-N"
      },
      "source": [
        "y = train_data3['price_range']\n",
        "X = train_data3.drop(columns = ['price_range'])"
      ],
      "execution_count": 36,
      "outputs": []
    },
    {
      "cell_type": "code",
      "metadata": {
        "colab": {
          "base_uri": "https://localhost:8080/",
          "height": 647
        },
        "id": "F4unZfHb1GnW",
        "outputId": "d3761190-1c5f-4b6d-b347-87349194a1b6"
      },
      "source": [
        "forwardSelection(X, y)"
      ],
      "execution_count": 40,
      "outputs": [
        {
          "output_type": "execute_result",
          "data": {
            "text/html": [
              "<div>\n",
              "<style scoped>\n",
              "    .dataframe tbody tr th:only-of-type {\n",
              "        vertical-align: middle;\n",
              "    }\n",
              "\n",
              "    .dataframe tbody tr th {\n",
              "        vertical-align: top;\n",
              "    }\n",
              "\n",
              "    .dataframe thead th {\n",
              "        text-align: right;\n",
              "    }\n",
              "</style>\n",
              "<table border=\"1\" class=\"dataframe\">\n",
              "  <thead>\n",
              "    <tr style=\"text-align: right;\">\n",
              "      <th></th>\n",
              "      <th>feature to add</th>\n",
              "      <th>ROC AUC</th>\n",
              "    </tr>\n",
              "  </thead>\n",
              "  <tbody>\n",
              "    <tr>\n",
              "      <th>0</th>\n",
              "      <td>ram</td>\n",
              "      <td>0.975568</td>\n",
              "    </tr>\n",
              "    <tr>\n",
              "      <th>1</th>\n",
              "      <td>battery_power</td>\n",
              "      <td>0.987835</td>\n",
              "    </tr>\n",
              "    <tr>\n",
              "      <th>2</th>\n",
              "      <td>px_height</td>\n",
              "      <td>0.996785</td>\n",
              "    </tr>\n",
              "    <tr>\n",
              "      <th>3</th>\n",
              "      <td>px_width</td>\n",
              "      <td>0.999430</td>\n",
              "    </tr>\n",
              "    <tr>\n",
              "      <th>4</th>\n",
              "      <td>mobile_wt</td>\n",
              "      <td>0.999650</td>\n",
              "    </tr>\n",
              "    <tr>\n",
              "      <th>5</th>\n",
              "      <td>wifi</td>\n",
              "      <td>0.999720</td>\n",
              "    </tr>\n",
              "    <tr>\n",
              "      <th>6</th>\n",
              "      <td>int_memory</td>\n",
              "      <td>0.999725</td>\n",
              "    </tr>\n",
              "    <tr>\n",
              "      <th>7</th>\n",
              "      <td>blue</td>\n",
              "      <td>0.999735</td>\n",
              "    </tr>\n",
              "    <tr>\n",
              "      <th>8</th>\n",
              "      <td>four_g</td>\n",
              "      <td>0.999740</td>\n",
              "    </tr>\n",
              "    <tr>\n",
              "      <th>9</th>\n",
              "      <td>sc_h</td>\n",
              "      <td>0.999720</td>\n",
              "    </tr>\n",
              "    <tr>\n",
              "      <th>10</th>\n",
              "      <td>pc</td>\n",
              "      <td>0.999715</td>\n",
              "    </tr>\n",
              "    <tr>\n",
              "      <th>11</th>\n",
              "      <td>n_cores</td>\n",
              "      <td>0.999745</td>\n",
              "    </tr>\n",
              "    <tr>\n",
              "      <th>12</th>\n",
              "      <td>dual_sim</td>\n",
              "      <td>0.999750</td>\n",
              "    </tr>\n",
              "    <tr>\n",
              "      <th>13</th>\n",
              "      <td>fc</td>\n",
              "      <td>0.999735</td>\n",
              "    </tr>\n",
              "    <tr>\n",
              "      <th>14</th>\n",
              "      <td>talk_time</td>\n",
              "      <td>0.999725</td>\n",
              "    </tr>\n",
              "    <tr>\n",
              "      <th>15</th>\n",
              "      <td>clock_speed</td>\n",
              "      <td>0.999710</td>\n",
              "    </tr>\n",
              "    <tr>\n",
              "      <th>16</th>\n",
              "      <td>sc_w</td>\n",
              "      <td>0.999665</td>\n",
              "    </tr>\n",
              "    <tr>\n",
              "      <th>17</th>\n",
              "      <td>three_g</td>\n",
              "      <td>0.999635</td>\n",
              "    </tr>\n",
              "    <tr>\n",
              "      <th>18</th>\n",
              "      <td>touch_screen</td>\n",
              "      <td>0.999545</td>\n",
              "    </tr>\n",
              "    <tr>\n",
              "      <th>19</th>\n",
              "      <td>m_dep</td>\n",
              "      <td>0.999445</td>\n",
              "    </tr>\n",
              "  </tbody>\n",
              "</table>\n",
              "</div>"
            ],
            "text/plain": [
              "   feature to add   ROC AUC\n",
              "0             ram  0.975568\n",
              "1   battery_power  0.987835\n",
              "2       px_height  0.996785\n",
              "3        px_width  0.999430\n",
              "4       mobile_wt  0.999650\n",
              "5            wifi  0.999720\n",
              "6      int_memory  0.999725\n",
              "7            blue  0.999735\n",
              "8          four_g  0.999740\n",
              "9            sc_h  0.999720\n",
              "10             pc  0.999715\n",
              "11        n_cores  0.999745\n",
              "12       dual_sim  0.999750\n",
              "13             fc  0.999735\n",
              "14      talk_time  0.999725\n",
              "15    clock_speed  0.999710\n",
              "16           sc_w  0.999665\n",
              "17        three_g  0.999635\n",
              "18   touch_screen  0.999545\n",
              "19          m_dep  0.999445"
            ]
          },
          "metadata": {
            "tags": []
          },
          "execution_count": 40
        }
      ]
    },
    {
      "cell_type": "markdown",
      "metadata": {
        "id": "ubkzGzw1TNzp"
      },
      "source": [
        "## part7:"
      ]
    },
    {
      "cell_type": "markdown",
      "metadata": {
        "id": "MbYc4UN4GwF0"
      },
      "source": [
        "We only use the first 5 features:"
      ]
    },
    {
      "cell_type": "code",
      "metadata": {
        "colab": {
          "base_uri": "https://localhost:8080/"
        },
        "id": "vcKGA7-uHaY3",
        "outputId": "915c5498-599a-412b-fb95-db55c8ddf5b6"
      },
      "source": [
        "X_train4 = train_data3[['ram', 'battery_power', 'px_height','px_width', 'mobile_wt']]\n",
        "y_train4 = train_data3['price_range']\n",
        "classification_reports(X_train4, y_train4, model_binary_classes, target_names_2classes)"
      ],
      "execution_count": 41,
      "outputs": [
        {
          "output_type": "stream",
          "text": [
            "              precision    recall  f1-score   support\n",
            "\n",
            "     class 0       0.99      0.99      0.99      1000\n",
            "     class 1       0.99      0.99      0.99      1000\n",
            "\n",
            "    accuracy                           0.99      2000\n",
            "   macro avg       0.99      0.99      0.99      2000\n",
            "weighted avg       0.99      0.99      0.99      2000\n",
            "\n"
          ],
          "name": "stdout"
        }
      ]
    },
    {
      "cell_type": "markdown",
      "metadata": {
        "id": "qd5fIExqTabp"
      },
      "source": [
        "## part 8:"
      ]
    },
    {
      "cell_type": "markdown",
      "metadata": {
        "id": "kN8rHwPRyESd"
      },
      "source": [
        "### PCA(Principal component analysis)"
      ]
    },
    {
      "cell_type": "code",
      "metadata": {
        "id": "ZS8fDymgyF4Z"
      },
      "source": [
        "from sklearn.decomposition import PCA"
      ],
      "execution_count": 42,
      "outputs": []
    },
    {
      "cell_type": "code",
      "metadata": {
        "id": "ZxrTG7qEJxES"
      },
      "source": [
        "pca = PCA(n_components=5)\n",
        "principalComponents = pca.fit_transform(X_train4)\n",
        "principalDf = pd.DataFrame(data = principalComponents, columns = ['principal component 1', 'principal component 2', 'principal component 3', 'principal component 4', 'principal component 5'])"
      ],
      "execution_count": 43,
      "outputs": []
    },
    {
      "cell_type": "code",
      "metadata": {
        "colab": {
          "base_uri": "https://localhost:8080/"
        },
        "id": "0R4F0XwMJ8_s",
        "outputId": "4ee59fc0-f519-4bbe-8c0b-5dbc37ab5f81"
      },
      "source": [
        " print(pca.explained_variance_ratio_)"
      ],
      "execution_count": 44,
      "outputs": [
        {
          "output_type": "stream",
          "text": [
            "[0.30219317 0.20079918 0.19987953 0.19948384 0.09764428]\n"
          ],
          "name": "stdout"
        }
      ]
    },
    {
      "cell_type": "code",
      "metadata": {
        "colab": {
          "base_uri": "https://localhost:8080/"
        },
        "id": "1Sw62pYZKAv1",
        "outputId": "db15029e-6ebb-4f33-96e7-f48682d0fda9"
      },
      "source": [
        "print(pca.singular_values_)"
      ],
      "execution_count": 45,
      "outputs": [
        {
          "output_type": "stream",
          "text": [
            "[54.95835453 44.79941715 44.69671006 44.65244666 31.24027221]\n"
          ],
          "name": "stdout"
        }
      ]
    },
    {
      "cell_type": "markdown",
      "metadata": {
        "id": "9GGsJcK8TkHL"
      },
      "source": [
        "## part 9:"
      ]
    },
    {
      "cell_type": "code",
      "metadata": {
        "colab": {
          "base_uri": "https://localhost:8080/"
        },
        "id": "H76F_jlGLRKR",
        "outputId": "fd562947-b5e1-4803-d972-88791210b7dd"
      },
      "source": [
        "classification_reports(principalDf, y_train4, model_binary_classes, target_names_2classes)"
      ],
      "execution_count": 46,
      "outputs": [
        {
          "output_type": "stream",
          "text": [
            "              precision    recall  f1-score   support\n",
            "\n",
            "     class 0       0.99      0.99      0.99      1000\n",
            "     class 1       0.99      0.99      0.99      1000\n",
            "\n",
            "    accuracy                           0.99      2000\n",
            "   macro avg       0.99      0.99      0.99      2000\n",
            "weighted avg       0.99      0.99      0.99      2000\n",
            "\n"
          ],
          "name": "stdout"
        }
      ]
    },
    {
      "cell_type": "markdown",
      "metadata": {
        "id": "vG1nn3U0TvrQ"
      },
      "source": [
        "## part 10:"
      ]
    },
    {
      "cell_type": "code",
      "metadata": {
        "id": "k0KmPNgoTyDH"
      },
      "source": [
        "def backwardElimination(X, y):\n",
        "    # Create list to store accuracies and chosen features\n",
        "    roc_auc_by_feature_number = []\n",
        "    chosen_features = []\n",
        "\n",
        "    # Initialise chosen features list and run tracker\n",
        "    available_features = list(X)\n",
        "    run = 0\n",
        "    number_of_features = len(list(X))\n",
        "\n",
        "    # Creat einitial reference performance\n",
        "    reference_auc = 1.0 # used to compare reduction in AUC\n",
        "\n",
        "    # Loop through feature list to select next feature\n",
        "    while len(available_features)> 1:\n",
        "\n",
        "        # Track and pront progress\n",
        "        run += 1\n",
        "        #print ('Feature run {} of {}'.format(run, number_of_features-1))\n",
        "        \n",
        "        # Convert DataFrames to NumPy arrays\n",
        "        y_np = y.values\n",
        "        \n",
        "        # Reset best feature and accuracy\n",
        "        best_result = 1.0\n",
        "        best_feature = ''\n",
        "\n",
        "        # Loop through available features\n",
        "        for feature in available_features:\n",
        "\n",
        "            # Create copy of already chosen features to avoid orginal being changed\n",
        "            features_to_use = available_features.copy()\n",
        "            # Create a list of features to use by removing 1 feature\n",
        "            features_to_use.remove(feature)\n",
        "            # Get data for features, and convert to NumPy array\n",
        "            X_np = X[features_to_use].values\n",
        "            \n",
        "            # Set up lists to hold results for each selected features\n",
        "            test_auc_results = []\n",
        "        \n",
        "            # Set up k-fold training/test splits\n",
        "            number_of_splits = 5\n",
        "            skf = StratifiedKFold(n_splits = number_of_splits)\n",
        "            skf.get_n_splits(X_np, y)\n",
        "        \n",
        "            # Loop through the k-fold splits\n",
        "            for train_index, test_index in skf.split(X_np, y_np):\n",
        "                \n",
        "                # Get X and Y train/test\n",
        "                X_train, X_test = X_np[train_index], X_np[test_index]\n",
        "                y_train, y_test = y[train_index], y[test_index]\n",
        "      \n",
        "        \n",
        "                # Set up and fit model\n",
        "                model = LogisticRegression(solver='lbfgs')\n",
        "                model.fit(X_train, y_train)\n",
        "        \n",
        "                # Predict test set labels\n",
        "                y_pred_test = model.predict(X_test)\n",
        "                \n",
        "                # Calculate accuracy of test sets\n",
        "                accuracy_test = np.mean(y_pred_test == y_test)\n",
        "              \n",
        "                # Get ROC AUC\n",
        "                probabilities = model.predict_proba(X_test)\n",
        "                probabilities = probabilities[:, 1] # Probability of 'survived'\n",
        "                fpr, tpr, thresholds = roc_curve(y_test, probabilities)\n",
        "                roc_auc = auc(fpr, tpr)\n",
        "                test_auc_results.append(roc_auc)\n",
        "            \n",
        "            # Get average result from all k-fold splits\n",
        "            feature_auc = np.mean(test_auc_results)\n",
        "        \n",
        "            # Update chosen feature and result if this feature is a new best\n",
        "            # We are looking for the smallest drop in performance\n",
        "            drop_in_performance = reference_auc - feature_auc\n",
        "            if drop_in_performance < best_result:\n",
        "                best_result = drop_in_performance\n",
        "                best_feature = feature\n",
        "                best_auc = feature_auc\n",
        "                    \n",
        "        # k-fold splits are complete    \n",
        "        # Add mean accuracy and AUC to record of accuracy by feature number\n",
        "        roc_auc_by_feature_number.append(best_auc)\n",
        "        chosen_features.append(best_feature)    \n",
        "        available_features.remove(best_feature)\n",
        "        reference_auc = best_auc\n",
        "\n",
        "    # Add last remaining feature\n",
        "    chosen_features += available_features\n",
        "    roc_auc_by_feature_number.append(0)\n",
        "        \n",
        "    # Put results in DataFrame\n",
        "    # Reverse order of lists with [::-1] so best features first\n",
        "    results = pd.DataFrame()\n",
        "    results['feature removed'] = chosen_features[::-1]\n",
        "    results['ROC AUC'] = roc_auc_by_feature_number[::-1]\n",
        "    return results"
      ],
      "execution_count": 54,
      "outputs": []
    },
    {
      "cell_type": "code",
      "metadata": {
        "colab": {
          "base_uri": "https://localhost:8080/",
          "height": 647
        },
        "id": "jwymU9piXxNZ",
        "outputId": "123e937c-038d-411f-adbf-7f393ef0d28f"
      },
      "source": [
        "backwardElimination(X, y)"
      ],
      "execution_count": 55,
      "outputs": [
        {
          "output_type": "execute_result",
          "data": {
            "text/html": [
              "<div>\n",
              "<style scoped>\n",
              "    .dataframe tbody tr th:only-of-type {\n",
              "        vertical-align: middle;\n",
              "    }\n",
              "\n",
              "    .dataframe tbody tr th {\n",
              "        vertical-align: top;\n",
              "    }\n",
              "\n",
              "    .dataframe thead th {\n",
              "        text-align: right;\n",
              "    }\n",
              "</style>\n",
              "<table border=\"1\" class=\"dataframe\">\n",
              "  <thead>\n",
              "    <tr style=\"text-align: right;\">\n",
              "      <th></th>\n",
              "      <th>feature removed</th>\n",
              "      <th>ROC AUC</th>\n",
              "    </tr>\n",
              "  </thead>\n",
              "  <tbody>\n",
              "    <tr>\n",
              "      <th>0</th>\n",
              "      <td>ram</td>\n",
              "      <td>0.000000</td>\n",
              "    </tr>\n",
              "    <tr>\n",
              "      <th>1</th>\n",
              "      <td>battery_power</td>\n",
              "      <td>0.975568</td>\n",
              "    </tr>\n",
              "    <tr>\n",
              "      <th>2</th>\n",
              "      <td>px_height</td>\n",
              "      <td>0.987835</td>\n",
              "    </tr>\n",
              "    <tr>\n",
              "      <th>3</th>\n",
              "      <td>px_width</td>\n",
              "      <td>0.996785</td>\n",
              "    </tr>\n",
              "    <tr>\n",
              "      <th>4</th>\n",
              "      <td>mobile_wt</td>\n",
              "      <td>0.999430</td>\n",
              "    </tr>\n",
              "    <tr>\n",
              "      <th>5</th>\n",
              "      <td>wifi</td>\n",
              "      <td>0.999650</td>\n",
              "    </tr>\n",
              "    <tr>\n",
              "      <th>6</th>\n",
              "      <td>pc</td>\n",
              "      <td>0.999720</td>\n",
              "    </tr>\n",
              "    <tr>\n",
              "      <th>7</th>\n",
              "      <td>int_memory</td>\n",
              "      <td>0.999725</td>\n",
              "    </tr>\n",
              "    <tr>\n",
              "      <th>8</th>\n",
              "      <td>n_cores</td>\n",
              "      <td>0.999725</td>\n",
              "    </tr>\n",
              "    <tr>\n",
              "      <th>9</th>\n",
              "      <td>dual_sim</td>\n",
              "      <td>0.999745</td>\n",
              "    </tr>\n",
              "    <tr>\n",
              "      <th>10</th>\n",
              "      <td>four_g</td>\n",
              "      <td>0.999765</td>\n",
              "    </tr>\n",
              "    <tr>\n",
              "      <th>11</th>\n",
              "      <td>fc</td>\n",
              "      <td>0.999770</td>\n",
              "    </tr>\n",
              "    <tr>\n",
              "      <th>12</th>\n",
              "      <td>talk_time</td>\n",
              "      <td>0.999755</td>\n",
              "    </tr>\n",
              "    <tr>\n",
              "      <th>13</th>\n",
              "      <td>sc_h</td>\n",
              "      <td>0.999750</td>\n",
              "    </tr>\n",
              "    <tr>\n",
              "      <th>14</th>\n",
              "      <td>blue</td>\n",
              "      <td>0.999735</td>\n",
              "    </tr>\n",
              "    <tr>\n",
              "      <th>15</th>\n",
              "      <td>clock_speed</td>\n",
              "      <td>0.999725</td>\n",
              "    </tr>\n",
              "    <tr>\n",
              "      <th>16</th>\n",
              "      <td>sc_w</td>\n",
              "      <td>0.999710</td>\n",
              "    </tr>\n",
              "    <tr>\n",
              "      <th>17</th>\n",
              "      <td>three_g</td>\n",
              "      <td>0.999665</td>\n",
              "    </tr>\n",
              "    <tr>\n",
              "      <th>18</th>\n",
              "      <td>touch_screen</td>\n",
              "      <td>0.999635</td>\n",
              "    </tr>\n",
              "    <tr>\n",
              "      <th>19</th>\n",
              "      <td>m_dep</td>\n",
              "      <td>0.999545</td>\n",
              "    </tr>\n",
              "  </tbody>\n",
              "</table>\n",
              "</div>"
            ],
            "text/plain": [
              "   feature removed   ROC AUC\n",
              "0              ram  0.000000\n",
              "1    battery_power  0.975568\n",
              "2        px_height  0.987835\n",
              "3         px_width  0.996785\n",
              "4        mobile_wt  0.999430\n",
              "5             wifi  0.999650\n",
              "6               pc  0.999720\n",
              "7       int_memory  0.999725\n",
              "8          n_cores  0.999725\n",
              "9         dual_sim  0.999745\n",
              "10          four_g  0.999765\n",
              "11              fc  0.999770\n",
              "12       talk_time  0.999755\n",
              "13            sc_h  0.999750\n",
              "14            blue  0.999735\n",
              "15     clock_speed  0.999725\n",
              "16            sc_w  0.999710\n",
              "17         three_g  0.999665\n",
              "18    touch_screen  0.999635\n",
              "19           m_dep  0.999545"
            ]
          },
          "metadata": {
            "tags": []
          },
          "execution_count": 55
        }
      ]
    },
    {
      "cell_type": "markdown",
      "metadata": {
        "id": "nqtJUqzUY1Et"
      },
      "source": [
        "we remove all features except \"ram\" and \"battery_power\""
      ]
    },
    {
      "cell_type": "code",
      "metadata": {
        "colab": {
          "base_uri": "https://localhost:8080/"
        },
        "id": "zbdfqomAYzvI",
        "outputId": "0d997a16-ae57-4d8f-c736-ad880bdf728a"
      },
      "source": [
        "X_train5 = train_data3[['ram', 'battery_power']]\n",
        "y_train5 = train_data3['price_range']\n",
        "classification_reports(X_train5, y_train5, model_binary_classes, target_names_2classes)"
      ],
      "execution_count": 57,
      "outputs": [
        {
          "output_type": "stream",
          "text": [
            "              precision    recall  f1-score   support\n",
            "\n",
            "     class 0       0.93      0.93      0.93      1000\n",
            "     class 1       0.93      0.94      0.93      1000\n",
            "\n",
            "    accuracy                           0.93      2000\n",
            "   macro avg       0.93      0.93      0.93      2000\n",
            "weighted avg       0.93      0.93      0.93      2000\n",
            "\n"
          ],
          "name": "stdout"
        }
      ]
    },
    {
      "cell_type": "markdown",
      "metadata": {
        "id": "8n2_CNEPZXLa"
      },
      "source": [
        "## part 11:"
      ]
    },
    {
      "cell_type": "markdown",
      "metadata": {
        "id": "My-C4BPOMVrC"
      },
      "source": [
        "### k-Fold Cross Validation"
      ]
    },
    {
      "cell_type": "code",
      "metadata": {
        "id": "7OmFUCscRyhl"
      },
      "source": [
        "from numpy import mean\n",
        "from numpy import std\n",
        "from sklearn.model_selection import KFold\n",
        "from sklearn.model_selection import cross_val_score"
      ],
      "execution_count": 58,
      "outputs": []
    },
    {
      "cell_type": "code",
      "metadata": {
        "colab": {
          "base_uri": "https://localhost:8080/"
        },
        "id": "r7f8zqrGSV2B",
        "outputId": "23c61698-563f-4c70-daaa-388dd6b87ef8"
      },
      "source": [
        "cv = KFold(n_splits=5, random_state=1, shuffle=True)\n",
        "scores = cross_val_score(model, X_train, y_train, scoring='accuracy', cv=cv, n_jobs=-1)\n",
        "print('Accuracy: %.3f (%.3f)' % (mean(scores), std(scores)))"
      ],
      "execution_count": 59,
      "outputs": [
        {
          "output_type": "stream",
          "text": [
            "Accuracy: 0.961 (0.006)\n"
          ],
          "name": "stdout"
        }
      ]
    },
    {
      "cell_type": "code",
      "metadata": {
        "colab": {
          "base_uri": "https://localhost:8080/"
        },
        "id": "KyqXN520R5it",
        "outputId": "625bdd11-2b90-48b7-a42a-6c80172238c7"
      },
      "source": [
        "cv = KFold(n_splits=10, random_state=1, shuffle=True)\n",
        "scores = cross_val_score(model, X_train, y_train, scoring='accuracy', cv=cv, n_jobs=-1)\n",
        "print('Accuracy: %.3f (%.3f)' % (mean(scores), std(scores)))"
      ],
      "execution_count": 60,
      "outputs": [
        {
          "output_type": "stream",
          "text": [
            "Accuracy: 0.963 (0.011)\n"
          ],
          "name": "stdout"
        }
      ]
    }
  ]
}